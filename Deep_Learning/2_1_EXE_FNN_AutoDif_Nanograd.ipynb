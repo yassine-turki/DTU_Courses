{
  "cells": [
    {
      "cell_type": "markdown",
      "metadata": {
        "id": "HAva8TnYFtFu"
      },
      "source": [
        "# Contents and why we need this lab\n",
        "\n",
        "This lab is about implementing neural networks yourself before we start using other frameworks that hide some of the computation from you. It builds on the first lab, where you derived the equations for neural network forward and backward propagation and gradient descent parameter updates.\n",
        "\n",
        "All the frameworks for deep learning you will meet from now on use automatic differentiation (autodiff), so you do not have to code the backward step yourself. In this version of this lab, you will develop your own autodif implementation. We also have an optional [version](https://github.com/DeepLearningDTU/02456-deep-learning-with-PyTorch/blob/master/2_Feedforward_Python/2.2-FNN-NumPy.ipynb) of this lab where you have to code the backward pass explicitly in Numpy."
      ]
    },
    {
      "cell_type": "markdown",
      "metadata": {
        "id": "sCa7HzwpFtFy"
      },
      "source": [
        "# External sources of information\n",
        "\n",
        "1. Jupyter notebook. You can find more information about Jupyter notebooks [here](https://jupyter.org/). It will come as part of the [Anaconda](https://www.anaconda.com/) Python installation.\n",
        "2. [NumPy](https://numpy.org/). Part of Anaconda distribution.  If you already know how to program, most things about Python and NumPy can be found with Google searches.\n",
        "3. [Nanograd](https://github.com/rasmusbergpalm/nanograd) is a minimalistic version of autodiff developed by Rasmus Berg Palm that we use for our framework.\n"
      ]
    },
    {
      "cell_type": "markdown",
      "metadata": {
        "id": "1SjiIp-TFtF0"
      },
      "source": [
        "# This notebook will follow the next steps:\n",
        "\n",
        "1. Nanograd automatic differentiation framework\n",
        "2. Finite difference method\n",
        "3. Data generation\n",
        "4. Defining and initializing the network\n",
        "5. Forward pass\n",
        "6. Training loop\n",
        "7. Testing your model\n",
        "8. Further extensions"
      ]
    },
    {
      "cell_type": "markdown",
      "metadata": {
        "id": "OyXeAA-HuT7s"
      },
      "source": [
        "# Nanograd automatic differention framework"
      ]
    },
    {
      "cell_type": "markdown",
      "metadata": {
        "id": "k6UWKCLKubgA"
      },
      "source": [
        "The [Nanograd](https://github.com/rasmusbergpalm/nanograd) framework defines a class Var which both holds a value and gradient value that we can use to store the intermediate values when we apply the chain rule of differentiation."
      ]
    },
    {
      "cell_type": "code",
      "execution_count": 222,
      "metadata": {
        "id": "Jd4CoEBNzNWS"
      },
      "outputs": [],
      "source": [
        "# Copy and pasted from https://github.com/rasmusbergpalm/nanograd/blob/3a1bf9e9e724da813bfccf91a6f309abdade9f39/nanograd.py\n",
        "\n",
        "from math import exp, log\n",
        "\n",
        "class Var:\n",
        "    \"\"\"\n",
        "    A variable which holds a float and enables gradient computations.\n",
        "    \"\"\"\n",
        "\n",
        "    def __init__(self, val: float, grad_fn=lambda: []):\n",
        "        assert type(val) == float\n",
        "        self.v = val\n",
        "        self.grad_fn = grad_fn\n",
        "        self.grad = 0.0\n",
        "\n",
        "    def backprop(self, bp):\n",
        "        self.grad += bp\n",
        "        for input, grad in self.grad_fn():\n",
        "            input.backprop(grad * bp)\n",
        "\n",
        "    def backward(self):\n",
        "        self.backprop(1.0)\n",
        "\n",
        "    def __add__(self: 'Var', other: 'Var') -> 'Var':\n",
        "        return Var(self.v + other.v, lambda: [(self, 1.0), (other, 1.0)])\n",
        "\n",
        "    def __mul__(self: 'Var', other: 'Var') -> 'Var':\n",
        "        return Var(self.v * other.v, lambda: [(self, other.v), (other, self.v)])\n",
        "\n",
        "    def __pow__(self, power):\n",
        "        assert type(power) in {float, int}, \"power must be float or int\"\n",
        "        return Var(self.v ** power, lambda: [(self, power * self.v ** (power - 1))])\n",
        "\n",
        "    def __neg__(self: 'Var') -> 'Var':\n",
        "        return Var(-1.0) * self\n",
        "\n",
        "    def __sub__(self: 'Var', other: 'Var') -> 'Var':\n",
        "        return self + (-other)\n",
        "\n",
        "    def __truediv__(self: 'Var', other: 'Var') -> 'Var':\n",
        "        return self * other ** -1\n",
        "\n",
        "    def __repr__(self):\n",
        "        return \"Var(v=%.4f, grad=%.4f)\" % (self.v, self.grad)\n",
        "\n",
        "    def relu(self):\n",
        "        return Var(self.v if self.v > 0.0 else 0.0, lambda: [(self, 1.0 if self.v > 0.0 else 0.0)])\n",
        "\n",
        "    def exp(self):\n",
        "        return Var(exp(self.v), lambda: [(self, exp(self.v))])\n",
        "\n",
        "    def log(self):\n",
        "        return Var(log(self.v), lambda: [(self, self.v ** -1)])\n",
        "\n",
        "    def identity(self):\n",
        "        return Var(self.v, lambda: [(self, 1.0)])\n",
        "\n",
        "    def tanh(self):\n",
        "        x = self.v\n",
        "        tanh_x = (exp(x) - exp(-x))/ (exp(x) + exp(-x))\n",
        "        return Var(tanh_x, lambda: [(self, 1 - tanh_x**2)])\n",
        "\n",
        "    def sigmoid(self):\n",
        "        x = self.v\n",
        "        sigmoid_x = 1/(1+exp(-x))\n",
        "        return Var(sigmoid_x, lambda: [(self, sigmoid_x*(1-sigmoid_x))])\n",
        "\n"
      ]
    },
    {
      "cell_type": "markdown",
      "metadata": {
        "id": "yDX67D6jzcte"
      },
      "source": [
        "A few examples illustrate how we can use this:"
      ]
    },
    {
      "cell_type": "code",
      "execution_count": 172,
      "metadata": {
        "colab": {
          "base_uri": "https://localhost:8080/"
        },
        "id": "xk6PeLc3zwPT",
        "outputId": "22d78ab3-baa1-469a-9669-354b94065f16"
      },
      "outputs": [
        {
          "output_type": "stream",
          "name": "stdout",
          "text": [
            "Var(v=3.0000, grad=5.0000)\n",
            "Var(v=5.0000, grad=3.0000)\n",
            "Var(v=15.0000, grad=1.0000)\n"
          ]
        }
      ],
      "source": [
        "a = Var(3.0)\n",
        "b = Var(5.0)\n",
        "f = a * b\n",
        "\n",
        "f.backward()\n",
        "\n",
        "for v in [a, b, f]:\n",
        "    print(v)"
      ]
    },
    {
      "cell_type": "code",
      "execution_count": 173,
      "metadata": {
        "colab": {
          "base_uri": "https://localhost:8080/"
        },
        "id": "JmKhYgsY0g_o",
        "outputId": "b3b1fd71-6684-437d-c863-b10a98445c20"
      },
      "outputs": [
        {
          "output_type": "stream",
          "name": "stdout",
          "text": [
            "Var(v=3.0000, grad=14.0000)\n",
            "Var(v=5.0000, grad=3.0000)\n",
            "Var(v=15.0000, grad=1.0000)\n",
            "Var(v=9.0000, grad=3.0000)\n",
            "Var(v=27.0000, grad=1.0000)\n",
            "Var(v=42.0000, grad=1.0000)\n"
          ]
        }
      ],
      "source": [
        "a = Var(3.0)\n",
        "b = Var(5.0)\n",
        "c = a * b\n",
        "d = Var(9.0)\n",
        "e = a * d\n",
        "f = c + e\n",
        "\n",
        "f.backward()\n",
        "\n",
        "for v in [a, b, c, d, e, f]:\n",
        "    print(v)"
      ]
    },
    {
      "cell_type": "markdown",
      "metadata": {
        "id": "Fe3B6uEH140p"
      },
      "source": [
        "## Exercise a) What is being calculated?\n",
        "\n",
        "Explain briefly the output of the code? What is the expression we differentiate and with respect to what variables?\n",
        "\n",
        "**Answer:**\n",
        "\n",
        "The output of the code are Var objects, representing a tuple representing a value and a gradient. The code is computing the gradient of the function $f=c+e=(ab)+(ad)$\n",
        "\n",
        "The value of the gradient for each Var object represents the gradient of $f$ with respect to that variable. It is then evaluated with the original value of all the variables."
      ]
    },
    {
      "cell_type": "markdown",
      "metadata": {
        "id": "q8_Q0t2I3Ruj"
      },
      "source": [
        "## Exercise b) How does the backward function work?\n",
        "\n",
        "You need to understand how the backward function calculates the gradients. We can use the two examples above to help with that.\n",
        "\n",
        "Go through the following four steps and answer the questions on the way:\n",
        "\n",
        "1. We represent the two expressions as graphs as shown below. Fill in the missing expressions for the different derivatives.\n",
        "\n",
        "2. In the remainder consider the first expression. Make a schematic of the data structure which is generated when we define the expression for f.\n",
        "\n",
        "3. Then execute the backward function by hand to convince yourself that it indeed calculates the gradients with respect to the variables.\n",
        "\n",
        "4. Write down the sequence of calls to backprop."
      ]
    },
    {
      "cell_type": "code",
      "execution_count": 174,
      "metadata": {
        "id": "idGr71jYXl26"
      },
      "outputs": [],
      "source": [
        "# import logging\n",
        "import graphviz\n",
        "\n",
        "#logging.basicConfig(format='[%(levelname)s@%(name)s] %(message)s', level=logging.DEBUG)\n",
        "\n",
        "#graphviz.__version__, graphviz.version()"
      ]
    },
    {
      "cell_type": "code",
      "execution_count": 175,
      "metadata": {
        "colab": {
          "base_uri": "https://localhost:8080/",
          "height": 152
        },
        "id": "KPe30Q2QXzeG",
        "outputId": "a5e6d67d-d045-428e-d406-74cbbb2fc8ac"
      },
      "outputs": [
        {
          "output_type": "execute_result",
          "data": {
            "image/svg+xml": "<?xml version=\"1.0\" encoding=\"UTF-8\" standalone=\"no\"?>\n<!DOCTYPE svg PUBLIC \"-//W3C//DTD SVG 1.1//EN\"\n \"http://www.w3.org/Graphics/SVG/1.1/DTD/svg11.dtd\">\n<!-- Generated by graphviz version 2.43.0 (0)\n -->\n<!-- Title: first expression Pages: 1 -->\n<svg width=\"160pt\" height=\"98pt\"\n viewBox=\"0.00 0.00 160.00 98.00\" xmlns=\"http://www.w3.org/2000/svg\" xmlns:xlink=\"http://www.w3.org/1999/xlink\">\n<g id=\"graph0\" class=\"graph\" transform=\"scale(1 1) rotate(0) translate(4 94)\">\n<title>first expression</title>\n<polygon fill=\"white\" stroke=\"transparent\" points=\"-4,4 -4,-94 156,-94 156,4 -4,4\"/>\n<!-- a -->\n<g id=\"node1\" class=\"node\">\n<title>a</title>\n<ellipse fill=\"none\" stroke=\"black\" cx=\"18\" cy=\"-72\" rx=\"18\" ry=\"18\"/>\n<text text-anchor=\"middle\" x=\"18\" y=\"-68.3\" font-family=\"Times,serif\" font-size=\"14.00\">a</text>\n</g>\n<!-- f -->\n<g id=\"node2\" class=\"node\">\n<title>f</title>\n<ellipse fill=\"none\" stroke=\"black\" cx=\"134\" cy=\"-45\" rx=\"18\" ry=\"18\"/>\n<text text-anchor=\"middle\" x=\"134\" y=\"-41.3\" font-family=\"Times,serif\" font-size=\"14.00\">f</text>\n</g>\n<!-- a&#45;&gt;f -->\n<g id=\"edge1\" class=\"edge\">\n<title>a&#45;&gt;f</title>\n<path fill=\"none\" stroke=\"black\" d=\"M35.82,-68.02C54.34,-63.63 84.38,-56.51 106.17,-51.36\"/>\n<polygon fill=\"black\" stroke=\"black\" points=\"107.19,-54.71 116.11,-49 105.57,-47.9 107.19,-54.71\"/>\n<text text-anchor=\"middle\" x=\"76\" y=\"-66.8\" font-family=\"Times,serif\" font-size=\"14.00\">df/da=a</text>\n</g>\n<!-- b -->\n<g id=\"node3\" class=\"node\">\n<title>b</title>\n<ellipse fill=\"none\" stroke=\"black\" cx=\"18\" cy=\"-18\" rx=\"18\" ry=\"18\"/>\n<text text-anchor=\"middle\" x=\"18\" y=\"-14.3\" font-family=\"Times,serif\" font-size=\"14.00\">b</text>\n</g>\n<!-- b&#45;&gt;f -->\n<g id=\"edge2\" class=\"edge\">\n<title>b&#45;&gt;f</title>\n<path fill=\"none\" stroke=\"black\" d=\"M36.07,-20.92C52.15,-23.8 76.86,-28.55 98,-34 100.89,-34.74 103.9,-35.59 106.88,-36.46\"/>\n<polygon fill=\"black\" stroke=\"black\" points=\"106.13,-39.9 116.72,-39.49 108.19,-33.21 106.13,-39.9\"/>\n<text text-anchor=\"middle\" x=\"76\" y=\"-37.8\" font-family=\"Times,serif\" font-size=\"14.00\">df/db=b</text>\n</g>\n</g>\n</svg>\n",
            "text/plain": [
              "<graphviz.graphs.Digraph at 0x788b2b35fca0>"
            ]
          },
          "metadata": {},
          "execution_count": 175
        }
      ],
      "source": [
        "e1 = graphviz.Digraph('first expression', filename='fsm.gv')\n",
        "\n",
        "e1.attr(rankdir='LR', size='8,5')\n",
        "\n",
        "e1.attr('node', shape='circle')\n",
        "e1.edge('a', 'f', label='df/da=a')\n",
        "e1.edge('b', 'f', label='df/db=b')\n",
        "\n",
        "e1"
      ]
    },
    {
      "cell_type": "code",
      "execution_count": 176,
      "metadata": {
        "colab": {
          "base_uri": "https://localhost:8080/",
          "height": 232
        },
        "id": "0nittR-mZFeX",
        "outputId": "bf754c5b-2ab2-46c9-a8f3-970cac00a644"
      },
      "outputs": [
        {
          "output_type": "execute_result",
          "data": {
            "image/svg+xml": "<?xml version=\"1.0\" encoding=\"UTF-8\" standalone=\"no\"?>\n<!DOCTYPE svg PUBLIC \"-//W3C//DTD SVG 1.1//EN\"\n \"http://www.w3.org/Graphics/SVG/1.1/DTD/svg11.dtd\">\n<!-- Generated by graphviz version 2.43.0 (0)\n -->\n<!-- Title: second expression Pages: 1 -->\n<svg width=\"277pt\" height=\"158pt\"\n viewBox=\"0.00 0.00 277.00 158.00\" xmlns=\"http://www.w3.org/2000/svg\" xmlns:xlink=\"http://www.w3.org/1999/xlink\">\n<g id=\"graph0\" class=\"graph\" transform=\"scale(1 1) rotate(0) translate(4 154)\">\n<title>second expression</title>\n<polygon fill=\"white\" stroke=\"transparent\" points=\"-4,4 -4,-154 273,-154 273,4 -4,4\"/>\n<!-- a -->\n<g id=\"node1\" class=\"node\">\n<title>a</title>\n<ellipse fill=\"none\" stroke=\"black\" cx=\"18\" cy=\"-75\" rx=\"18\" ry=\"18\"/>\n<text text-anchor=\"middle\" x=\"18\" y=\"-71.3\" font-family=\"Times,serif\" font-size=\"14.00\">a</text>\n</g>\n<!-- c -->\n<g id=\"node2\" class=\"node\">\n<title>c</title>\n<ellipse fill=\"none\" stroke=\"black\" cx=\"136\" cy=\"-102\" rx=\"18\" ry=\"18\"/>\n<text text-anchor=\"middle\" x=\"136\" y=\"-98.3\" font-family=\"Times,serif\" font-size=\"14.00\">c</text>\n</g>\n<!-- a&#45;&gt;c -->\n<g id=\"edge1\" class=\"edge\">\n<title>a&#45;&gt;c</title>\n<path fill=\"none\" stroke=\"black\" d=\"M35.62,-78.87C54.66,-83.3 86.1,-90.62 108.52,-95.84\"/>\n<polygon fill=\"black\" stroke=\"black\" points=\"107.88,-99.28 118.41,-98.14 109.46,-92.46 107.88,-99.28\"/>\n<text text-anchor=\"middle\" x=\"77\" y=\"-96.8\" font-family=\"Times,serif\" font-size=\"14.00\">dc/da=a</text>\n</g>\n<!-- e -->\n<g id=\"node4\" class=\"node\">\n<title>e</title>\n<ellipse fill=\"none\" stroke=\"black\" cx=\"136\" cy=\"-48\" rx=\"18\" ry=\"18\"/>\n<text text-anchor=\"middle\" x=\"136\" y=\"-44.3\" font-family=\"Times,serif\" font-size=\"14.00\">e</text>\n</g>\n<!-- a&#45;&gt;e -->\n<g id=\"edge3\" class=\"edge\">\n<title>a&#45;&gt;e</title>\n<path fill=\"none\" stroke=\"black\" d=\"M35.28,-69.48C41.14,-67.6 47.83,-65.57 54,-64 71.83,-59.45 92.15,-55.44 107.97,-52.57\"/>\n<polygon fill=\"black\" stroke=\"black\" points=\"108.89,-55.97 118.13,-50.78 107.67,-49.07 108.89,-55.97\"/>\n<text text-anchor=\"middle\" x=\"77\" y=\"-67.8\" font-family=\"Times,serif\" font-size=\"14.00\">de/da=d</text>\n</g>\n<!-- f -->\n<g id=\"node6\" class=\"node\">\n<title>f</title>\n<ellipse fill=\"none\" stroke=\"black\" cx=\"251\" cy=\"-75\" rx=\"18\" ry=\"18\"/>\n<text text-anchor=\"middle\" x=\"251\" y=\"-71.3\" font-family=\"Times,serif\" font-size=\"14.00\">f</text>\n</g>\n<!-- c&#45;&gt;f -->\n<g id=\"edge5\" class=\"edge\">\n<title>c&#45;&gt;f</title>\n<path fill=\"none\" stroke=\"black\" d=\"M153.67,-98.02C172.03,-93.63 201.81,-86.51 223.4,-81.36\"/>\n<polygon fill=\"black\" stroke=\"black\" points=\"224.35,-84.73 233.26,-79 222.72,-77.92 224.35,-84.73\"/>\n<text text-anchor=\"middle\" x=\"193.5\" y=\"-96.8\" font-family=\"Times,serif\" font-size=\"14.00\">df/dc=1</text>\n</g>\n<!-- b -->\n<g id=\"node3\" class=\"node\">\n<title>b</title>\n<ellipse fill=\"none\" stroke=\"black\" cx=\"18\" cy=\"-132\" rx=\"18\" ry=\"18\"/>\n<text text-anchor=\"middle\" x=\"18\" y=\"-128.3\" font-family=\"Times,serif\" font-size=\"14.00\">b</text>\n</g>\n<!-- b&#45;&gt;c -->\n<g id=\"edge2\" class=\"edge\">\n<title>b&#45;&gt;c</title>\n<path fill=\"none\" stroke=\"black\" d=\"M35.62,-127.7C54.66,-122.78 86.1,-114.65 108.52,-108.85\"/>\n<polygon fill=\"black\" stroke=\"black\" points=\"109.61,-112.18 118.41,-106.29 107.85,-105.41 109.61,-112.18\"/>\n<text text-anchor=\"middle\" x=\"77\" y=\"-125.8\" font-family=\"Times,serif\" font-size=\"14.00\">dc/db=b</text>\n</g>\n<!-- e&#45;&gt;f -->\n<g id=\"edge6\" class=\"edge\">\n<title>e&#45;&gt;f</title>\n<path fill=\"none\" stroke=\"black\" d=\"M153.85,-50.94C169.73,-53.83 194.12,-58.59 215,-64 217.89,-64.75 220.9,-65.59 223.88,-66.47\"/>\n<polygon fill=\"black\" stroke=\"black\" points=\"223.13,-69.9 233.72,-69.5 225.19,-63.21 223.13,-69.9\"/>\n<text text-anchor=\"middle\" x=\"193.5\" y=\"-67.8\" font-family=\"Times,serif\" font-size=\"14.00\">df/de=1</text>\n</g>\n<!-- d -->\n<g id=\"node5\" class=\"node\">\n<title>d</title>\n<ellipse fill=\"none\" stroke=\"black\" cx=\"18\" cy=\"-18\" rx=\"18\" ry=\"18\"/>\n<text text-anchor=\"middle\" x=\"18\" y=\"-14.3\" font-family=\"Times,serif\" font-size=\"14.00\">d</text>\n</g>\n<!-- d&#45;&gt;e -->\n<g id=\"edge4\" class=\"edge\">\n<title>d&#45;&gt;e</title>\n<path fill=\"none\" stroke=\"black\" d=\"M35.93,-20.8C52.45,-23.7 78.19,-28.7 100,-35 103.18,-35.92 106.48,-36.99 109.72,-38.11\"/>\n<polygon fill=\"black\" stroke=\"black\" points=\"108.54,-41.4 119.14,-41.54 110.94,-34.83 108.54,-41.4\"/>\n<text text-anchor=\"middle\" x=\"77\" y=\"-38.8\" font-family=\"Times,serif\" font-size=\"14.00\">de/dd=a</text>\n</g>\n</g>\n</svg>\n",
            "text/plain": [
              "<graphviz.graphs.Digraph at 0x788b2b35d7e0>"
            ]
          },
          "metadata": {},
          "execution_count": 176
        }
      ],
      "source": [
        "e2 = graphviz.Digraph('second expression', filename='fsm.gv')\n",
        "\n",
        "e2.attr(rankdir='LR', size='8,5')\n",
        "\n",
        "e2.attr('node', shape='circle')\n",
        "e2.edge('a', 'c', label='dc/da=a')\n",
        "e2.edge('b', 'c', label='dc/db=b')\n",
        "e2.edge('a', 'e', label='de/da=d')\n",
        "e2.edge('d', 'e', label='de/dd=a')\n",
        "e2.edge('c', 'f', label='df/dc=1')\n",
        "e2.edge('e', 'f', label='df/de=1')\n",
        "\n",
        "e2"
      ]
    },
    {
      "cell_type": "code",
      "source": [
        "#If a=3 and b=5\n",
        "e1 = graphviz.Digraph('first expression', filename='fsm.gv')\n",
        "\n",
        "e1.attr(rankdir='LR', size='8,5')\n",
        "\n",
        "e1.attr('node', shape='circle')\n",
        "e1.edge('a', 'f', label='df/da=5')\n",
        "e1.edge('b', 'f', label='df/db=3')\n",
        "\n",
        "e1"
      ],
      "metadata": {
        "colab": {
          "base_uri": "https://localhost:8080/",
          "height": 152
        },
        "id": "AbljAQdeB1M-",
        "outputId": "ffdb5e64-1898-4ae0-cc28-c8baf04a7ba0"
      },
      "execution_count": 177,
      "outputs": [
        {
          "output_type": "execute_result",
          "data": {
            "image/svg+xml": "<?xml version=\"1.0\" encoding=\"UTF-8\" standalone=\"no\"?>\n<!DOCTYPE svg PUBLIC \"-//W3C//DTD SVG 1.1//EN\"\n \"http://www.w3.org/Graphics/SVG/1.1/DTD/svg11.dtd\">\n<!-- Generated by graphviz version 2.43.0 (0)\n -->\n<!-- Title: first expression Pages: 1 -->\n<svg width=\"160pt\" height=\"98pt\"\n viewBox=\"0.00 0.00 160.00 98.00\" xmlns=\"http://www.w3.org/2000/svg\" xmlns:xlink=\"http://www.w3.org/1999/xlink\">\n<g id=\"graph0\" class=\"graph\" transform=\"scale(1 1) rotate(0) translate(4 94)\">\n<title>first expression</title>\n<polygon fill=\"white\" stroke=\"transparent\" points=\"-4,4 -4,-94 156,-94 156,4 -4,4\"/>\n<!-- a -->\n<g id=\"node1\" class=\"node\">\n<title>a</title>\n<ellipse fill=\"none\" stroke=\"black\" cx=\"18\" cy=\"-72\" rx=\"18\" ry=\"18\"/>\n<text text-anchor=\"middle\" x=\"18\" y=\"-68.3\" font-family=\"Times,serif\" font-size=\"14.00\">a</text>\n</g>\n<!-- f -->\n<g id=\"node2\" class=\"node\">\n<title>f</title>\n<ellipse fill=\"none\" stroke=\"black\" cx=\"134\" cy=\"-45\" rx=\"18\" ry=\"18\"/>\n<text text-anchor=\"middle\" x=\"134\" y=\"-41.3\" font-family=\"Times,serif\" font-size=\"14.00\">f</text>\n</g>\n<!-- a&#45;&gt;f -->\n<g id=\"edge1\" class=\"edge\">\n<title>a&#45;&gt;f</title>\n<path fill=\"none\" stroke=\"black\" d=\"M35.82,-68.02C54.34,-63.63 84.38,-56.51 106.17,-51.36\"/>\n<polygon fill=\"black\" stroke=\"black\" points=\"107.19,-54.71 116.11,-49 105.57,-47.9 107.19,-54.71\"/>\n<text text-anchor=\"middle\" x=\"76\" y=\"-66.8\" font-family=\"Times,serif\" font-size=\"14.00\">df/da=5</text>\n</g>\n<!-- b -->\n<g id=\"node3\" class=\"node\">\n<title>b</title>\n<ellipse fill=\"none\" stroke=\"black\" cx=\"18\" cy=\"-18\" rx=\"18\" ry=\"18\"/>\n<text text-anchor=\"middle\" x=\"18\" y=\"-14.3\" font-family=\"Times,serif\" font-size=\"14.00\">b</text>\n</g>\n<!-- b&#45;&gt;f -->\n<g id=\"edge2\" class=\"edge\">\n<title>b&#45;&gt;f</title>\n<path fill=\"none\" stroke=\"black\" d=\"M36.07,-20.92C52.15,-23.8 76.86,-28.55 98,-34 100.89,-34.74 103.9,-35.59 106.88,-36.46\"/>\n<polygon fill=\"black\" stroke=\"black\" points=\"106.13,-39.9 116.72,-39.49 108.19,-33.21 106.13,-39.9\"/>\n<text text-anchor=\"middle\" x=\"76\" y=\"-37.8\" font-family=\"Times,serif\" font-size=\"14.00\">df/db=3</text>\n</g>\n</g>\n</svg>\n",
            "text/plain": [
              "<graphviz.graphs.Digraph at 0x788b2b35d4b0>"
            ]
          },
          "metadata": {},
          "execution_count": 177
        }
      ]
    },
    {
      "cell_type": "markdown",
      "source": [
        "Calls to backprop:\n",
        "\n",
        "*   $f.backprop(1)$\n",
        "*   $a.backprop(b*1)$\n",
        "*   $b.backprop(a*1)$"
      ],
      "metadata": {
        "id": "jCz19-EpB_Q0"
      }
    },
    {
      "cell_type": "markdown",
      "metadata": {
        "id": "A5oi21W4gpeM"
      },
      "source": [
        "## Exercise c) What happens if we run backward again?\n",
        "\n",
        "Try to execute the code below. Explain what happens."
      ]
    },
    {
      "cell_type": "code",
      "execution_count": 178,
      "metadata": {
        "colab": {
          "base_uri": "https://localhost:8080/"
        },
        "id": "DCtpJyr-gyX1",
        "outputId": "076522be-17c7-4d7f-8024-69e618530896"
      },
      "outputs": [
        {
          "output_type": "stream",
          "name": "stdout",
          "text": [
            "Var(v=3.0000, grad=28.0000)\n",
            "Var(v=5.0000, grad=6.0000)\n",
            "Var(v=15.0000, grad=2.0000)\n",
            "Var(v=9.0000, grad=6.0000)\n",
            "Var(v=27.0000, grad=2.0000)\n",
            "Var(v=42.0000, grad=2.0000)\n"
          ]
        }
      ],
      "source": [
        "f.backward()\n",
        "\n",
        "for v in [a, b, c, d, e, f]:\n",
        "    print(v)"
      ]
    },
    {
      "cell_type": "markdown",
      "source": [
        "We notice that the values of the variables did not change, but that their gradients did (because we only compute gradients during backpropagation). It is because we recompute a gradient for each and add it to the previously computed gradient (indeed, the gradient of these variables is not resetted to 0). So we observe that all gradients are doubled."
      ],
      "metadata": {
        "id": "q4oaQj5yCSYa"
      }
    },
    {
      "cell_type": "markdown",
      "metadata": {
        "id": "e8bPVq2VhsP-"
      },
      "source": [
        "## Exercise d) Zero gradient\n",
        "\n",
        "We can zero the gradient by backpropagating a -1.0 as is shown in the example below. (If you have run backward multiple time then you also have to run the cell below an equal amount of times.) Explain what is going on."
      ]
    },
    {
      "cell_type": "code",
      "execution_count": 179,
      "metadata": {
        "colab": {
          "base_uri": "https://localhost:8080/"
        },
        "id": "OnyPDQx9lJe0",
        "outputId": "eaf9b34d-0c78-4d3c-c271-4e4e6bb21c91"
      },
      "outputs": [
        {
          "output_type": "stream",
          "name": "stdout",
          "text": [
            "Var(v=2.0000, grad=0.0000)\n",
            "Var(v=5.0000, grad=6.0000)\n",
            "Var(v=15.0000, grad=2.0000)\n",
            "Var(v=9.0000, grad=6.0000)\n",
            "Var(v=27.0000, grad=2.0000)\n",
            "Var(v=42.0000, grad=2.0000)\n",
            "Var(v=2.0000, grad=0.0000)\n",
            "Var(v=5.0000, grad=3.0000)\n",
            "Var(v=15.0000, grad=1.0000)\n",
            "Var(v=9.0000, grad=3.0000)\n",
            "Var(v=27.0000, grad=1.0000)\n",
            "Var(v=42.0000, grad=1.0000)\n"
          ]
        }
      ],
      "source": [
        "a = Var(2.0)\n",
        "\n",
        "for v in [a, b, c, d, e, f]:\n",
        "    print(v)\n",
        "\n",
        "f.backprop(-1.0)\n",
        "\n",
        "for v in [a, b, c, d, e, f]:\n",
        "    print(v)"
      ]
    },
    {
      "cell_type": "markdown",
      "source": [
        "Now we are doing the opposite of what we did before. Instead of adding the computed gradient to the one we already have, we substract it, resulting in zeroing the gradient. Instead of running multiple times, we could have just adjusted the value $-1$ to immediately zero the gradient of interest."
      ],
      "metadata": {
        "id": "krycuWwVDIdb"
      }
    },
    {
      "cell_type": "markdown",
      "metadata": {
        "id": "U4057_ljNvWB"
      },
      "source": [
        "## Exercise e) Test correctness of derivatives with the finite difference method\n",
        "\n",
        "Write a small function that uses [the finite difference method](https://en.wikipedia.org/wiki/Finite_difference_method) to numerically test that backpropation implementation is working. In short we will use\n",
        "$$\n",
        "\\frac{\\partial f(a)}{\\partial a} \\approx \\frac{f(a+da)-f(a)}{da}\n",
        "$$\n",
        "for $da \\ll 1$.\n",
        "\n",
        "As an example, we could approximate the derivative of the function $f(a)=a^2$ in e.g. the value $a=4$ using the finite difference method. This amounts to inserting the relevant values and approximating the gradient $f'(4)$ with the fraction above.\n"
      ]
    },
    {
      "cell_type": "code",
      "execution_count": 180,
      "metadata": {
        "colab": {
          "base_uri": "https://localhost:8080/"
        },
        "id": "9TGil92lSXDN",
        "outputId": "d9b05356-f44e-47be-a1f7-359c36741783"
      },
      "outputs": [
        {
          "output_type": "stream",
          "name": "stdout",
          "text": [
            "Var(v=3.0000, grad=5.0000)\n",
            "Var(v=5.0000, grad=3.0000)\n",
            "Var(v=15.0000, grad=1.0000)\n",
            "5.000018177270249\n"
          ]
        }
      ],
      "source": [
        "# f function - try to change the code to test other types of functions as well (such as different polynomials etc.)\n",
        "def f_function(a):\n",
        "  a = Var(a)\n",
        "  b = Var(5.0)\n",
        "  f = a * b\n",
        "  f.backward()\n",
        "  return a,b,f\n",
        "\n",
        "for v in f_function(3.0):\n",
        "  print(v)\n",
        "\n",
        "# Insert your finite difference code here\n",
        "def finite_difference(da=1e-10):\n",
        "    \"\"\"\n",
        "    This function compute the finite difference between\n",
        "\n",
        "    Input:\n",
        "    da:          The finite difference                           (float)\n",
        "\n",
        "    Output:\n",
        "    finite_difference: numerical approximation to the derivative (float)\n",
        "    \"\"\"\n",
        "\n",
        "    fa_da = f_function(4.0+da)[2].v          # <- Insert correct expression\n",
        "    fa = f_function(4.0)[2].v             # <- Insert correct expression\n",
        "\n",
        "    finite_difference = (fa_da - fa) / da\n",
        "\n",
        "    return finite_difference\n",
        "\n",
        "print(finite_difference())"
      ]
    },
    {
      "cell_type": "markdown",
      "metadata": {
        "id": "6pZar5RKaUkg"
      },
      "source": [
        "# Create an artificial dataset to play with\n",
        "\n",
        "We create a non-linear 1d regression task. The generator supports various noise levels and it creates train, validation and test sets. You can modify it yourself if you want more or less challenging tasks."
      ]
    },
    {
      "cell_type": "code",
      "execution_count": 181,
      "metadata": {
        "id": "Y6yfMAQ8aduj"
      },
      "outputs": [],
      "source": [
        "import numpy as np\n",
        "import matplotlib.pyplot as plt\n",
        "\n",
        "np.random.seed(42)"
      ]
    },
    {
      "cell_type": "code",
      "execution_count": 182,
      "metadata": {
        "id": "4YabfD43ajNh"
      },
      "outputs": [],
      "source": [
        "def data_generator(noise=0.1, n_samples=300, D1=True):\n",
        "    # Create covariates and response variable\n",
        "    if D1:\n",
        "        X = np.linspace(-3, 3, num=n_samples).reshape(-1,1) # 1-D\n",
        "        np.random.shuffle(X)\n",
        "        y = np.random.normal((0.5*np.sin(X[:,0]*3) + X[:,0]), noise) # 1-D with trend\n",
        "    else:\n",
        "        X = np.random.multivariate_normal(np.zeros(3), noise*np.eye(3), size = n_samples) # 3-D\n",
        "        np.random.shuffle(X)\n",
        "        y = np.sin(X[:,0]) - 5*(X[:,1]**2) + 0.5*X[:,2] # 3-D\n",
        "\n",
        "    # Stack them together vertically to split data set\n",
        "    data_set = np.vstack((X.T,y)).T\n",
        "\n",
        "    train, validation, test = np.split(data_set, [int(0.35*n_samples), int(0.7*n_samples)], axis=0)\n",
        "\n",
        "    # Standardization of the data, remember we do the standardization with the training set mean and standard deviation\n",
        "    train_mu = np.mean(train, axis=0)\n",
        "    train_sigma = np.std(train, axis=0)\n",
        "\n",
        "    train = (train-train_mu)/train_sigma\n",
        "    validation = (validation-train_mu)/train_sigma\n",
        "    test = (test-train_mu)/train_sigma\n",
        "\n",
        "    x_train, x_validation, x_test = train[:,:-1], validation[:,:-1], test[:,:-1]\n",
        "    y_train, y_validation, y_test = train[:,-1], validation[:,-1], test[:,-1]\n",
        "\n",
        "    return x_train, y_train,  x_validation, y_validation, x_test, y_test"
      ]
    },
    {
      "cell_type": "code",
      "execution_count": 183,
      "metadata": {
        "id": "u1oDngHLapIz"
      },
      "outputs": [],
      "source": [
        "D1 = True\n",
        "x_train, y_train,  x_validation, y_validation, x_test, y_test = data_generator(noise=0.5, D1=D1)"
      ]
    },
    {
      "cell_type": "code",
      "execution_count": 184,
      "metadata": {
        "colab": {
          "base_uri": "https://localhost:8080/",
          "height": 430
        },
        "id": "Ysfa3FsBavlm",
        "outputId": "daa29717-021e-4be7-d262-34bca5c8a06c"
      },
      "outputs": [
        {
          "output_type": "display_data",
          "data": {
            "text/plain": [
              "<Figure size 640x480 with 1 Axes>"
            ],
            "image/png": "[encoded data removed]"
          },
          "metadata": {}
        }
      ],
      "source": [
        "if D1:\n",
        "    plt.scatter(x_train[:,0], y_train);\n",
        "    plt.scatter(x_validation[:,0], y_validation);\n",
        "    plt.scatter(x_test[:,0], y_test);\n",
        "else:\n",
        "    plt.scatter(x_train[:,1], y_train);\n",
        "    plt.scatter(x_validation[:,1], y_validation);\n",
        "    plt.scatter(x_test[:,1], y_test);\n",
        "plt.show()"
      ]
    },
    {
      "cell_type": "code",
      "execution_count": 185,
      "metadata": {
        "id": "zac2HHNlgbpm"
      },
      "outputs": [],
      "source": [
        "# convert from nparray to Var\n",
        "def nparray_to_Var(x):\n",
        "  if x.ndim==1:\n",
        "    y = [[Var(float(x[i]))] for i in range(x.shape[0])] # always work with list of list\n",
        "  else:\n",
        "    y = [[Var(float(x[i,j])) for j in range(x.shape[1])] for i in range(x.shape[0])]\n",
        "  return y\n",
        "\n",
        "x_train = nparray_to_Var(x_train)\n",
        "y_train = nparray_to_Var(y_train)\n",
        "x_validation = nparray_to_Var(x_validation)\n",
        "y_validation = nparray_to_Var(y_validation)\n",
        "x_test = nparray_to_Var(x_test)\n",
        "y_test = nparray_to_Var(y_test)\n"
      ]
    },
    {
      "cell_type": "markdown",
      "metadata": {
        "id": "VbjrqcpVFtGe"
      },
      "source": [
        "# Defining and initializing the network\n",
        "\n",
        "The steps to create a feed forward neural network are the following:\n",
        "\n",
        "1. **Number of hidden layer and hidden units**. We have to define the number of hidden units in each layer. The number of features in X and the output dimensionality (the size of Y) are given but the numbers in between are set by the researcher. Remember that for each unit in each layer beside in the input has a bias term.\n",
        "2. **Activation functions** for each hidden layer. Each hidden layer in your list must have an activation function (it can also be the linear activation which is equivalent to identity function). The power of neural networks comes from non-linear activation functions that learn representations (features) from the data allowing us to learn from it.\n",
        "3. **Parameter initialization**. We will initialize the weights to have random values. This is done in practice by drawing pseudo random numbers from a Gaussian or uniform distribution. It turns out that for deeper models we have to be careful about how we scale the random numbers. This will be the topic of the exercise below. For now we will just use unit variance Gaussians.  \n",
        "\n",
        "In order to make life easier for ourselves we define a DenseLayer class that takes care of initialization and the forward pass. We can also extend it later with print and advanced initialization capabilities. For the latter we have introduced a Initializer class.\n",
        "\n",
        "Note that we use Sequence in the code below. A Sequence is an ordered list. This means the order we insert and access items are the same."
      ]
    },
    {
      "cell_type": "code",
      "execution_count": 186,
      "metadata": {
        "id": "ij_ieRsAt7Xt"
      },
      "outputs": [],
      "source": [
        "class Initializer:\n",
        "\n",
        "  def init_weights(self, n_in, n_out):\n",
        "    raise NotImplementedError\n",
        "\n",
        "  def init_bias(self, n_out):\n",
        "    raise NotImplementedError"
      ]
    },
    {
      "cell_type": "code",
      "execution_count": 187,
      "metadata": {
        "id": "eb18N5phuIha"
      },
      "outputs": [],
      "source": [
        "import random\n",
        "\n",
        "class NormalInitializer(Initializer):\n",
        "\n",
        "  def __init__(self, mean=0, std=0.1):\n",
        "    self.mean = mean\n",
        "    self.std = std\n",
        "\n",
        "  def init_weights(self, n_in, n_out):\n",
        "    return [[Var(random.gauss(self.mean, self.std)) for _ in range(n_out)] for _ in range(n_in)]\n",
        "\n",
        "  def init_bias(self, n_out):\n",
        "    return [Var(0.0) for _ in range(n_out)]\n",
        "\n",
        "class ConstantInitializer(Initializer):\n",
        "\n",
        "  def __init__(self, weight=1.0, bias=0.0):\n",
        "    self.weight = weight\n",
        "    self.bias = bias\n",
        "\n",
        "  def init_weights(self, n_in, n_out):\n",
        "    return [[Var(self.weight) for _ in range(n_out)] for _ in range(n_in)]\n",
        "\n",
        "  def init_bias(self, n_out):\n",
        "    return [Var(self.bias) for _ in range(n_out)]"
      ]
    },
    {
      "cell_type": "code",
      "execution_count": 188,
      "metadata": {
        "id": "jOLYGnZKuM6W"
      },
      "outputs": [],
      "source": [
        "from typing import Sequence\n",
        "\n",
        "class DenseLayer:\n",
        "    def __init__(self, n_in: int, n_out: int, act_fn, initializer = NormalInitializer()):\n",
        "        self.weights = initializer.init_weights(n_in, n_out)\n",
        "        self.bias = initializer.init_bias(n_out)\n",
        "        self.act_fn = act_fn\n",
        "\n",
        "    def __repr__(self):\n",
        "        return 'Weights: ' + repr(self.weights) + ' Biases: ' + repr(self.bias)\n",
        "\n",
        "    def parameters(self) -> Sequence[Var]:\n",
        "      params = []\n",
        "      for r in self.weights:\n",
        "        params += r\n",
        "\n",
        "      return params + self.bias\n",
        "\n",
        "    def forward(self, single_input: Sequence[Var]) -> Sequence[Var]:\n",
        "        # self.weights is a matrix with dimension n_in x n_out. We check that the dimensionality of the input\n",
        "        # to the current layer matches the number of nodes in the current layer\n",
        "        assert len(self.weights) == len(single_input), \"weights and single_input must match in first dimension\"\n",
        "        weights = self.weights\n",
        "        out = []\n",
        "        # For some given data point single_input, we now want to calculate the resulting value in each node in the current layer\n",
        "        # We therefore loop over the (number of) nodes in the current layer:\n",
        "        for j in range(len(weights[0])):\n",
        "            # Initialize the node value depending on its corresponding parameters.\n",
        "            node = self.bias[j] # <- Insert code\n",
        "            # We now finish the linear transformation corresponding to the parameters of the currently considered node.\n",
        "            for i in range(len(single_input)):\n",
        "                node += single_input[i]*self.weights[i][j]  # <- Insert code\n",
        "            node = self.act_fn(node)\n",
        "            out.append(node)\n",
        "\n",
        "        return out"
      ]
    },
    {
      "cell_type": "markdown",
      "metadata": {
        "id": "jpIZPBpNI0pO"
      },
      "source": [
        "## Exercise f) Add more activation functions\n",
        "\n",
        "To have a full definition of the neural network, we must define an activation function for every layer. Several activation functions have been proposed and have different characteristics. In the Var class we have already defined the rectified linear init (relu).\n",
        "\n",
        "Implement the following activation functions in the Var class:\n",
        "\n",
        "* Identity: $$\\mathrm{identity}(x) = x$$\n",
        "* Hyperbolic tangent: $$\\tanh(x)$$\n",
        "* Sigmoid (or logistic function): $$\\mathrm{sigmoid}(x) = \\frac{1}{1.0 + \\exp(-x ) }$$  Hint: $\\mathrm{sigmoid}'(x)= \\mathrm{sigmoid}(x)(1-\\mathrm{sigmoid}(x))$.  \n",
        "\n",
        "Hint: You can seek inspiration in the relu method in the Var class."
      ]
    },
    {
      "cell_type": "markdown",
      "metadata": {
        "id": "p_8n_SKnIW2F"
      },
      "source": [
        "## Exercise g) Complete the forward pass\n",
        "\n",
        "In the code below we initialize a 1-5-1 network and pass the training set through it. *The forward method in DenseLayer is **not** complete*. It just outputs zeros right now. The method forward should perform an [affine transformation](https://en.wikipedia.org/wiki/Affine_transformation) on the input followed by an application of the activation function."
      ]
    },
    {
      "cell_type": "code",
      "execution_count": 189,
      "metadata": {
        "colab": {
          "base_uri": "https://localhost:8080/"
        },
        "id": "xDEjtePxE7Mv",
        "outputId": "5a219923-6c9f-49df-9798-0396102f5ef1"
      },
      "outputs": [
        {
          "output_type": "stream",
          "name": "stdout",
          "text": [
            "[[Var(v=0.0024, grad=0.0000)], [Var(v=0.0048, grad=0.0000)], [Var(v=0.0004, grad=0.0000)], [Var(v=0.0180, grad=0.0000)], [Var(v=0.0035, grad=0.0000)], [Var(v=0.0033, grad=0.0000)], [Var(v=0.0021, grad=0.0000)], [Var(v=0.0043, grad=0.0000)], [Var(v=0.0185, grad=0.0000)], [Var(v=0.0013, grad=0.0000)], [Var(v=0.0037, grad=0.0000)], [Var(v=0.0114, grad=0.0000)], [Var(v=0.0030, grad=0.0000)], [Var(v=0.0131, grad=0.0000)], [Var(v=0.0016, grad=0.0000)], [Var(v=0.0031, grad=0.0000)], [Var(v=0.0057, grad=0.0000)], [Var(v=0.0027, grad=0.0000)], [Var(v=0.0003, grad=0.0000)], [Var(v=0.0009, grad=0.0000)], [Var(v=0.0086, grad=0.0000)], [Var(v=0.0038, grad=0.0000)], [Var(v=0.0042, grad=0.0000)], [Var(v=0.0042, grad=0.0000)], [Var(v=0.0050, grad=0.0000)], [Var(v=0.0135, grad=0.0000)], [Var(v=0.0054, grad=0.0000)], [Var(v=0.0059, grad=0.0000)], [Var(v=0.0006, grad=0.0000)], [Var(v=0.0037, grad=0.0000)], [Var(v=0.0169, grad=0.0000)], [Var(v=0.0009, grad=0.0000)], [Var(v=0.0147, grad=0.0000)], [Var(v=0.0160, grad=0.0000)], [Var(v=0.0029, grad=0.0000)], [Var(v=0.0030, grad=0.0000)], [Var(v=0.0183, grad=0.0000)], [Var(v=0.0069, grad=0.0000)], [Var(v=0.0129, grad=0.0000)], [Var(v=0.0092, grad=0.0000)], [Var(v=0.0065, grad=0.0000)], [Var(v=0.0088, grad=0.0000)], [Var(v=0.0056, grad=0.0000)], [Var(v=0.0110, grad=0.0000)], [Var(v=0.0087, grad=0.0000)], [Var(v=0.0106, grad=0.0000)], [Var(v=0.0036, grad=0.0000)], [Var(v=0.0034, grad=0.0000)], [Var(v=0.0041, grad=0.0000)], [Var(v=0.0035, grad=0.0000)], [Var(v=0.0015, grad=0.0000)], [Var(v=0.0001, grad=0.0000)], [Var(v=0.0038, grad=0.0000)], [Var(v=0.0090, grad=0.0000)], [Var(v=0.0060, grad=0.0000)], [Var(v=0.0053, grad=0.0000)], [Var(v=0.0060, grad=0.0000)], [Var(v=0.0067, grad=0.0000)], [Var(v=0.0020, grad=0.0000)], [Var(v=0.0158, grad=0.0000)], [Var(v=0.0035, grad=0.0000)], [Var(v=0.0112, grad=0.0000)], [Var(v=0.0184, grad=0.0000)], [Var(v=0.0017, grad=0.0000)], [Var(v=0.0012, grad=0.0000)], [Var(v=0.0151, grad=0.0000)], [Var(v=0.0162, grad=0.0000)], [Var(v=0.0044, grad=0.0000)], [Var(v=0.0116, grad=0.0000)], [Var(v=0.0017, grad=0.0000)], [Var(v=0.0045, grad=0.0000)], [Var(v=0.0020, grad=0.0000)], [Var(v=0.0034, grad=0.0000)], [Var(v=0.0020, grad=0.0000)], [Var(v=0.0016, grad=0.0000)], [Var(v=0.0054, grad=0.0000)], [Var(v=0.0080, grad=0.0000)], [Var(v=0.0077, grad=0.0000)], [Var(v=0.0102, grad=0.0000)], [Var(v=0.0057, grad=0.0000)], [Var(v=0.0009, grad=0.0000)], [Var(v=0.0005, grad=0.0000)], [Var(v=0.0166, grad=0.0000)], [Var(v=0.0023, grad=0.0000)], [Var(v=0.0084, grad=0.0000)], [Var(v=0.0036, grad=0.0000)], [Var(v=0.0031, grad=0.0000)], [Var(v=0.0094, grad=0.0000)], [Var(v=0.0172, grad=0.0000)], [Var(v=0.0179, grad=0.0000)], [Var(v=0.0020, grad=0.0000)], [Var(v=0.0054, grad=0.0000)], [Var(v=0.0099, grad=0.0000)], [Var(v=0.0032, grad=0.0000)], [Var(v=0.0142, grad=0.0000)], [Var(v=0.0170, grad=0.0000)], [Var(v=0.0015, grad=0.0000)], [Var(v=0.0002, grad=0.0000)], [Var(v=0.0051, grad=0.0000)], [Var(v=0.0101, grad=0.0000)], [Var(v=0.0034, grad=0.0000)], [Var(v=0.0098, grad=0.0000)], [Var(v=0.0150, grad=0.0000)], [Var(v=0.0016, grad=0.0000)], [Var(v=0.0048, grad=0.0000)]]\n"
          ]
        }
      ],
      "source": [
        "NN = [\n",
        "    DenseLayer(1, 5, lambda x: x.relu()),\n",
        "    DenseLayer(5, 1, lambda x: x.identity())\n",
        "]\n",
        "\n",
        "def forward(input, network):\n",
        "\n",
        "  def forward_single(x, network):\n",
        "    for layer in network:\n",
        "        x = layer.forward(x)\n",
        "    return x\n",
        "\n",
        "  output = [ forward_single(input[n], network) for n in range(len(input))]\n",
        "  return output\n",
        "\n",
        "print(forward(x_train, NN))\n"
      ]
    },
    {
      "cell_type": "markdown",
      "metadata": {
        "id": "oLrGJytZFtGm"
      },
      "source": [
        "## Exercise h) Print all network parameters\n",
        "\n",
        "Make a function that prints all the parameters of the network (weights and biases) with information about in which layer the appear. In the object oriented spirit you should introduce a method in the DenseLayer class to print the parameters of a layer. Hint: You can take inspiration from the corresponding method in Var."
      ]
    },
    {
      "cell_type": "code",
      "execution_count": 190,
      "metadata": {
        "id": "iac-VwYGFtGm",
        "colab": {
          "base_uri": "https://localhost:8080/"
        },
        "outputId": "7e6aec98-8a9e-4b31-b0e1-9edf06203f17"
      },
      "outputs": [
        {
          "output_type": "stream",
          "name": "stdout",
          "text": [
            "Layer 0 Weights: [[Var(v=0.0334, grad=0.0000), Var(v=-0.0515, grad=0.0000), Var(v=0.0528, grad=0.0000), Var(v=0.0009, grad=0.0000), Var(v=-0.2560, grad=0.0000)]] Biases: [Var(v=0.0000, grad=0.0000), Var(v=0.0000, grad=0.0000), Var(v=0.0000, grad=0.0000), Var(v=0.0000, grad=0.0000), Var(v=0.0000, grad=0.0000)]\n",
            "Layer 1 Weights: [[Var(v=0.1042, grad=0.0000)], [Var(v=0.0316, grad=0.0000)], [Var(v=-0.0040, grad=0.0000)], [Var(v=0.0583, grad=0.0000)], [Var(v=0.0398, grad=0.0000)]] Biases: [Var(v=0.0000, grad=0.0000)]\n"
          ]
        }
      ],
      "source": [
        "# Insert code here and in the DenseLayer class\n",
        "\n",
        "def print_network_parameters(network):\n",
        "  for i in range(len(network)):\n",
        "    print(\"Layer\",i,network[i])\n",
        "\n",
        "print_network_parameters(NN)"
      ]
    },
    {
      "cell_type": "markdown",
      "metadata": {
        "id": "_79HOAXrFtHK"
      },
      "source": [
        "## Visualization\n",
        "\n",
        "Now that we have defined our activation functions we can visualize them to see what they look like:"
      ]
    },
    {
      "cell_type": "code",
      "execution_count": 191,
      "metadata": {
        "id": "1FcylHqLTl-Z",
        "colab": {
          "base_uri": "https://localhost:8080/",
          "height": 447
        },
        "outputId": "f28acdcc-c4e1-4a65-c396-e8632b75e285"
      },
      "outputs": [
        {
          "output_type": "execute_result",
          "data": {
            "text/plain": [
              "[<matplotlib.lines.Line2D at 0x788b29211540>]"
            ]
          },
          "metadata": {},
          "execution_count": 191
        },
        {
          "output_type": "display_data",
          "data": {
            "text/plain": [
              "<Figure size 640x480 with 1 Axes>"
            ],
            "image/png": "[encoded data removed]"
          },
          "metadata": {}
        }
      ],
      "source": [
        "x = np.linspace(-6, 6, 100)\n",
        "\n",
        "# convert from Var to ndarray\n",
        "def Var_to_nparray(x):\n",
        "  y = np.zeros((len(x),len(x[0])))\n",
        "  for i in range(len(x)):\n",
        "    for j in range(len(x[0])):\n",
        "      y[i,j] = x[i][j].v\n",
        "  return y\n",
        "\n",
        "# define 1-1 network with weight = 1 and relu activation\n",
        "NN = [ DenseLayer(1, 1, lambda x: x.relu(), initializer = ConstantInitializer(1.0)) ]\n",
        "y = Var_to_nparray(forward(nparray_to_Var(x), NN))\n",
        "\n",
        "#y = Var_to_nparray(relu(nparray_to_Var(x)))\n",
        "plt.plot(x,y)"
      ]
    },
    {
      "cell_type": "code",
      "execution_count": 192,
      "metadata": {
        "id": "oOL2UolJFtHL",
        "colab": {
          "base_uri": "https://localhost:8080/",
          "height": 476
        },
        "outputId": "c4d95051-8e04-4453-e3b6-5004bc41de54"
      },
      "outputs": [
        {
          "output_type": "display_data",
          "data": {
            "text/plain": [
              "<Figure size 500x500 with 1 Axes>"
            ],
            "image/png": "[encoded data removed]"
          },
          "metadata": {}
        }
      ],
      "source": [
        "# Testing all activation layers\n",
        "\n",
        "x = np.linspace(-6, 6, 100)\n",
        "units = {\n",
        "    \"identity\": lambda x: x.identity(),\n",
        "    \"sigmoid\": lambda x: x.sigmoid(),\n",
        "    \"relu\": lambda x: x.relu(),\n",
        "    \"tanh\": lambda x: x.tanh()\n",
        "}\n",
        "\n",
        "plt.figure(figsize=(5, 5))\n",
        "[plt.plot(x, Var_to_nparray(forward(nparray_to_Var(x), [DenseLayer(1, 1, unit, initializer = ConstantInitializer(1.0))]) ), label=unit_name, lw=2) for unit_name, unit in units.items()] # unit(nparray_to_Var(x))), label=unit_name, lw=2) for unit_name, unit in units.items()]\n",
        "plt.legend(loc=2, fontsize=16)\n",
        "plt.title('Our activation functions', fontsize=20)\n",
        "plt.ylim([-2, 5])\n",
        "plt.xlim([-6, 6])\n",
        "plt.show()"
      ]
    },
    {
      "cell_type": "markdown",
      "metadata": {
        "id": "b-jdEl-7FtGs"
      },
      "source": [
        "# Advanced initialization schemes\n",
        "\n",
        "If we are not careful with initialization, the signals we propagate forward ($a^{(l)}$, $l=1,\\ldots,L$) and backward ($\\delta^l$, $l=L,L-1,\\ldots,1$) can blow up or shrink to zero. A statistical analysis of the variance of the signals for different activation functions can be found in these two papers: [Glorot initialization](http://proceedings.mlr.press/v9/glorot10a/glorot10a.pdf) and [He initialization](https://arxiv.org/pdf/1502.01852v1.pdf).\n",
        "\n",
        "The result of the analyses are proposals for how to make the initialization such that the variance of the signals (forward and backward) are kept approxmimatly constant when propagating from layer to layer. The exact expressions depend upon the non-linear activation function used. In Glorot initialization, the aim is to keep both the forward and backward variances constant whereas He only aims at keeping the variance in the forward pass constant.\n",
        "\n",
        "We define $n_{in}$ and $n_{out}$ as the number of input units and output units of a particular layer.\n",
        "\n",
        "The Glorot initialization has the form:\n",
        "\n",
        "$$w_{ij} \\sim N \\bigg( 0, \\, \\frac{2 \\alpha }{n_{in} + n_{out}} \\bigg) \\ . $$\n",
        "\n",
        "where $N(\\mu,\\sigma^2)$ is a Gaussian distribution with mean $\\mu$ and variance $\\sigma^2$ and $\\alpha$ is a parameter that depends upon the activation function used. For $\\tanh$, $\\alpha=1$ and for Rectified Linear Unit (ReLU) activations, $\\alpha=2$. (It is also possible to use a uniform distribution for initialization, see [this blog post](https://mmuratarat.github.io/2019-02-25/xavier-glorot-he-weight-init).)\n",
        "\n",
        "The He initialization is very similar\n",
        "\n",
        "$$w_{ij} \\sim N \\bigg( 0, \\, \\frac{\\alpha}{n_{in}} \\bigg) \\ . $$"
      ]
    },
    {
      "cell_type": "markdown",
      "metadata": {
        "id": "mqeyab9qFtGs"
      },
      "source": [
        "## Exercise i) Glorot and He initialization\n",
        "\n",
        "Using the Initializer class, implement functions that implement Glorot and He\n",
        "\n",
        "Explain briefly how you would test numerically that these initializations have the sought after property. Hint: See plots in Glorot paper.\n",
        "\n",
        "Comment: If you want to be more advanced then try to make a universal initializer taking both the activation function and type (Glorot or He) as argument."
      ]
    },
    {
      "cell_type": "code",
      "execution_count": 212,
      "metadata": {
        "id": "Qyk01CgaFtGt"
      },
      "outputs": [],
      "source": [
        "## Glorot\n",
        "def DenseLayer_Glorot_tanh(n_in: int, n_out: int):\n",
        "  std = np.sqrt((2)/(n_in+n_out)) # <- replace with proper initialization\n",
        "  return DenseLayer(n_in, n_out, lambda x: x.tanh(), initializer = NormalInitializer(std))\n",
        "\n",
        "def DenseLayer_Glorot(activation_function, n_in: int, n_out: int):\n",
        "  if activation_function == \"tanh\":\n",
        "    alpha = 1\n",
        "  elif activation_function == \"relu\":\n",
        "    alpha = 2\n",
        "  else:\n",
        "    raise ValueError(\"Activation functions supported : tanh or relu\")\n",
        "  std = np.sqrt((2*alpha)/(n_in+n_out)) # <- replace with proper initialization\n",
        "  return DenseLayer(n_in, n_out, lambda x: x.tanh(), initializer = NormalInitializer(std))\n",
        "\n",
        "## He\n",
        "def DenseLayer_He_relu(n_in: int, n_out: int):\n",
        "  std = np.sqrt((2)/(n_in)) # <- replace with proper initialization\n",
        "  return DenseLayer(n_in, n_out, lambda x: x.relu(), initializer = NormalInitializer(std))\n",
        "\n",
        "def DenseLayer_He(activation_function, n_in: int, n_out: int):\n",
        "  if activation_function == \"tanh\":\n",
        "    alpha = 1\n",
        "  elif activation_function == \"relu\":\n",
        "    alpha = 2\n",
        "  else:\n",
        "    raise ValueError(\"Activation functions supported : tanh or relu\")\n",
        "  std = np.sqrt((alpha)/(n_in)) # <- replace with proper initialization\n",
        "  return DenseLayer(n_in, n_out, lambda x: x.relu(), initializer = NormalInitializer(std))\n",
        "\n",
        "def DenseLayer_Universal_Initializer(init_type, activation_function, n_in : int, n_out : int):\n",
        "  if init_type == \"Glorot\":\n",
        "    return DenseLayer_Glorot(activation_function, n_in, n_out)\n",
        "  elif init_type == \"He\":\n",
        "    return DenseLayer_He(activation_function, n_in, n_out)\n"
      ]
    },
    {
      "cell_type": "markdown",
      "source": [
        "We observe in Glorot's paper (fig 6 and 7) that , for any layer, when we use the Glorot initialization, the distribution of the activation values and the gradients (computed by backpropagation) to be the same.\n",
        "\n",
        "In order to check that, we can plot the distribution of the layers of a Neural Network."
      ],
      "metadata": {
        "id": "JD4RALk2O5Dw"
      }
    },
    {
      "cell_type": "markdown",
      "metadata": {
        "id": "-XyXBD37FtHk"
      },
      "source": [
        "## Exercise j) Forward pass unit test\n",
        "\n",
        "Write a bit of code to make a unit test that the forward pass works. This can be done by defining a simple network with for example all weights equal to one (using the ConstantInitializer method) and identity activation functions.\n",
        "\n",
        "Hints: Use the [assert](https://www.w3schools.com/python/ref_keyword_assert.asp), the nparray_to_Var and the Var_to_nparray commands."
      ]
    },
    {
      "cell_type": "code",
      "execution_count": 220,
      "metadata": {
        "id": "k0miqRUAFtHl"
      },
      "outputs": [],
      "source": [
        "# Insert code here\n",
        "\n",
        "def unit_test(x, NN):\n",
        "  y = Var_to_nparray(forward(x, test_NN))\n",
        "  x = Var_to_nparray(x)\n",
        "  for i in range(len(x)):\n",
        "    assert y[i] == 2*x[i]\n",
        "\n",
        "x = x_train[0:4]\n",
        "\n",
        "test_NN = [\n",
        "    DenseLayer(1, 2, lambda x: x.identity(), initializer = ConstantInitializer(1.0)),\n",
        "    DenseLayer(2, 1, lambda x: x.identity(), initializer = ConstantInitializer(1.0))\n",
        "]\n",
        "\n",
        "unit_test(x, test_NN)"
      ]
    },
    {
      "cell_type": "markdown",
      "metadata": {
        "id": "faCxhfFnFtHp"
      },
      "source": [
        "# Loss functions\n",
        "\n",
        "We are only missing a loss function to we need to define a loss function and its derivative with respect to the output of the neural network $y$"
      ]
    },
    {
      "cell_type": "code",
      "execution_count": 221,
      "metadata": {
        "id": "I2eDYKvAFtHq"
      },
      "outputs": [],
      "source": [
        "def squared_loss(t, y):\n",
        "\n",
        "  # add check that sizes agree\n",
        "\n",
        "  def squared_loss_single(t, y):\n",
        "    Loss = Var(0.0)\n",
        "    for i in range(len(t)): # sum over outputs\n",
        "      Loss += (t[i]-y[i]) ** 2\n",
        "    return Loss\n",
        "\n",
        "  Loss = Var(0.0)\n",
        "  for n in range(len(t)): # sum over training data\n",
        "    Loss += squared_loss_single(t[n],y[n])\n",
        "  return Loss"
      ]
    },
    {
      "cell_type": "markdown",
      "metadata": {
        "id": "SrwSJ2UWFtHu"
      },
      "source": [
        "## Exercise k) Implement cross entropy loss\n",
        "\n",
        "Insert code below to implement cross-entropy loss for general dimensionality of $t$. Use a logits formulation:\n",
        "$$\n",
        "\\rm{Loss} = - \\sum_i t_i \\, log \\, p_i\n",
        "$$\n",
        "with $p$ given by the the softmax function in terms of the logits $h$:\n",
        "$$\n",
        "p_i = \\frac{\\exp(h_i)}{\\sum_{i'} \\exp(h_{i'})} .\n",
        "$$\n",
        "Inserting $p$ in the expression for the loss gives\n",
        "$$\n",
        "\\rm{Loss} = - \\sum_i t_i h_i + \\rm{LogSumExp}(h) \\ ,\n",
        "$$\n",
        "where\n",
        "$$\n",
        "\\rm{LogSumExp}(h) = \\log \\sum_i \\exp h_i \\ .\n",
        "$$\n",
        "This is true for $t$ being a one-hot vector.\n",
        "\n",
        "Call the function to convince yourself it works.\n",
        "\n",
        "In practice you want to implement a [numerically stable](https://leimao.github.io/blog/LogSumExp/) version of LogSumExp. But we will not bother about that here.\n",
        "\n",
        "Help: You can add these methods in the Var class:\n",
        "\n",
        "    def exp(self):\n",
        "        return Var(exp(self.v), lambda: [(self, exp(self.v))])\n",
        "    \n",
        "    def log(self):\n",
        "        return Var(log(self.v), lambda: [(self, self.v ** -1)])"
      ]
    },
    {
      "cell_type": "code",
      "execution_count": 223,
      "metadata": {
        "id": "6nMuxyfzFtHv"
      },
      "outputs": [],
      "source": [
        "def cross_entropy_loss(t, h):\n",
        "\n",
        "    def LogSumExp(h):\n",
        "      res = 0\n",
        "      for i in range(len(h)):\n",
        "        res += h[i].exp()\n",
        "      return res\n",
        "\n",
        "    def cross_entropy_loss_single(t,y):\n",
        "      Loss = Var(0.0)\n",
        "      for i in range(len(t)):\n",
        "          Loss -= t[i]*h[i] + LogSumExp(h)\n",
        "      return Loss\n",
        "\n",
        "    Loss = Var(0.0)\n",
        "    for n in range(len(t)):\n",
        "      Loss += cross_entropy_loss_single(t[n],y[n])\n",
        "\n",
        "    return Loss"
      ]
    },
    {
      "cell_type": "markdown",
      "metadata": {
        "id": "8fAF5ew4FtHy"
      },
      "source": [
        "# Backward pass\n",
        "\n",
        "Now the magic happens! We get the calculation of the gradients for free. Just do:"
      ]
    },
    {
      "cell_type": "code",
      "execution_count": 224,
      "metadata": {
        "id": "iHyfPPI9Qqwu"
      },
      "outputs": [],
      "source": [
        "NN = [\n",
        "    DenseLayer(1, 5, lambda x: x.relu()),\n",
        "    DenseLayer(5, 1, lambda x: x.identity())\n",
        "]\n",
        "\n",
        "output = forward(x_train, NN)\n",
        "\n",
        "Loss = squared_loss(y_train,output)\n",
        "Loss.backward()"
      ]
    },
    {
      "cell_type": "markdown",
      "metadata": {
        "id": "49biIAYKQ1oG"
      },
      "source": [
        "and the gradients will be calculated:"
      ]
    },
    {
      "cell_type": "code",
      "execution_count": 225,
      "metadata": {
        "id": "_rGt1bq_Q7uk",
        "colab": {
          "base_uri": "https://localhost:8080/"
        },
        "outputId": "d0602b0e-33b5-4483-815c-e8ceb12f22e4"
      },
      "outputs": [
        {
          "output_type": "stream",
          "name": "stdout",
          "text": [
            "Layer 0 \n",
            " Weights: [[Var(v=0.0318, grad=15.5850), Var(v=-0.1752, grad=0.9852), Var(v=-0.0652, grad=5.4906), Var(v=-0.0026, grad=-6.6083), Var(v=-0.0684, grad=11.5194)]] Biases: [Var(v=0.0000, grad=13.3862), Var(v=0.0000, grad=-0.8953), Var(v=0.0000, grad=-4.9894), Var(v=0.0000, grad=6.0051), Var(v=0.0000, grad=-10.4679)]\n",
            "Layer 1 \n",
            " Weights: [[Var(v=-0.1526, grad=-3.2511)], [Var(v=-0.0104, grad=16.5826)], [Var(v=-0.0580, grad=6.1738)], [Var(v=0.0698, grad=0.2469)], [Var(v=-0.1217, grad=6.4751)]] Biases: [Var(v=0.0000, grad=-1.7239)]\n"
          ]
        },
        {
          "output_type": "execute_result",
          "data": {
            "text/plain": [
              "[None, None]"
            ]
          },
          "metadata": {},
          "execution_count": 225
        }
      ],
      "source": [
        "[print('Layer', i, '\\n', NN[i]) for i in range(len(NN))]"
      ]
    },
    {
      "cell_type": "markdown",
      "metadata": {
        "id": "D7d7qK0uFtH9"
      },
      "source": [
        "# Backward pass unit test\n",
        "\n",
        "Above we used finite differences to test that Nanograd is actually doing what it is supposed to do. We can in principle try the same for the neural network. But we will trust that the test above is enough."
      ]
    },
    {
      "cell_type": "markdown",
      "metadata": {
        "id": "WgBi8GOSFtIN"
      },
      "source": [
        "# Training and validation\n",
        "\n",
        "We are ready to train some neural networks!\n",
        "\n",
        "We initialize again:"
      ]
    },
    {
      "cell_type": "code",
      "execution_count": 226,
      "metadata": {
        "id": "01ePmzBzRtdh"
      },
      "outputs": [],
      "source": [
        "NN = [\n",
        "    DenseLayer(1, 15, lambda x: x.relu()),\n",
        "    DenseLayer(15, 50, lambda x: x.relu()),\n",
        "    DenseLayer(50, 1, lambda x: x.identity())\n",
        "]\n",
        "\n",
        "output = forward(x_train, NN)\n",
        "\n",
        "Loss = squared_loss(y_train,output)\n",
        "Loss.backward()"
      ]
    },
    {
      "cell_type": "markdown",
      "metadata": {
        "id": "10iRPiQ1ISHw"
      },
      "source": [
        "and make an update:\n",
        "\n",
        "We introduce a help function parameters to have a handle in all parameters in the network."
      ]
    },
    {
      "cell_type": "code",
      "execution_count": 227,
      "metadata": {
        "id": "dhAI7eyeznia",
        "colab": {
          "base_uri": "https://localhost:8080/"
        },
        "outputId": "bb9a1b0f-90f4-4ab8-cb63-5d65dcce1247"
      },
      "outputs": [
        {
          "output_type": "stream",
          "name": "stdout",
          "text": [
            "Network before update:\n",
            "Layer 0 \n",
            " Weights: [[Var(v=-0.0121, grad=-0.9038), Var(v=-0.0652, grad=-2.1028), Var(v=0.0494, grad=-0.9892), Var(v=-0.0044, grad=-4.4408), Var(v=-0.1434, grad=-1.0047), Var(v=-0.1808, grad=-5.2738), Var(v=0.0700, grad=-6.2745), Var(v=-0.0033, grad=-6.0054), Var(v=0.1351, grad=-1.9426), Var(v=0.0210, grad=-8.8798), Var(v=-0.0345, grad=-1.9023), Var(v=0.0354, grad=2.0423), Var(v=0.0412, grad=3.2440), Var(v=0.1446, grad=-0.0224), Var(v=-0.0421, grad=-1.6441)]] Biases: [Var(v=0.0000, grad=0.8217), Var(v=0.0000, grad=1.9119), Var(v=0.0000, grad=-0.8498), Var(v=0.0000, grad=4.0375), Var(v=0.0000, grad=0.9134), Var(v=0.0000, grad=4.7949), Var(v=0.0000, grad=-5.3906), Var(v=0.0000, grad=5.4600), Var(v=0.0000, grad=-1.6689), Var(v=0.0000, grad=-7.6289), Var(v=0.0000, grad=1.7295), Var(v=0.0000, grad=1.7546), Var(v=0.0000, grad=2.7870), Var(v=0.0000, grad=-0.0193), Var(v=0.0000, grad=1.4948)]\n",
            "Layer 1 \n",
            " Weights: [[Var(v=0.1329, grad=0.0000), Var(v=0.0226, grad=0.0646), Var(v=0.0698, grad=0.0346), Var(v=-0.0971, grad=0.1509), Var(v=0.0333, grad=0.0000), Var(v=-0.0033, grad=0.0000), Var(v=-0.0347, grad=-0.0012), Var(v=0.1105, grad=0.0000), Var(v=0.0281, grad=0.0000), Var(v=-0.0499, grad=0.0147), Var(v=0.0910, grad=0.0000), Var(v=0.0325, grad=0.0000), Var(v=-0.0787, grad=-0.0245), Var(v=-0.1473, grad=0.0000), Var(v=0.1107, grad=0.0000), Var(v=-0.1948, grad=0.0000), Var(v=0.0635, grad=0.0000), Var(v=-0.0475, grad=0.0000), Var(v=0.0745, grad=0.1369), Var(v=-0.0745, grad=0.0000), Var(v=-0.0409, grad=-0.1911), Var(v=-0.0437, grad=-0.0781), Var(v=-0.1501, grad=0.0000), Var(v=0.2405, grad=0.0375), Var(v=-0.0235, grad=0.0476), Var(v=-0.0833, grad=0.0931), Var(v=0.0317, grad=-0.1881), Var(v=-0.0331, grad=0.0418), Var(v=-0.0357, grad=0.0000), Var(v=0.0306, grad=0.0000), Var(v=-0.1550, grad=0.0000), Var(v=0.0012, grad=0.0000), Var(v=-0.0528, grad=0.0240), Var(v=0.0522, grad=0.0934), Var(v=0.0362, grad=0.0597), Var(v=0.0551, grad=0.0000), Var(v=-0.0028, grad=0.0660), Var(v=0.1091, grad=-0.0719), Var(v=0.0141, grad=-0.0420), Var(v=-0.0215, grad=-0.1665), Var(v=-0.0094, grad=0.0046), Var(v=0.0896, grad=0.1268), Var(v=0.2165, grad=0.0000), Var(v=0.0885, grad=0.0000), Var(v=-0.1164, grad=0.0000), Var(v=-0.0458, grad=0.0000), Var(v=-0.0787, grad=0.0000), Var(v=0.0591, grad=-0.0616), Var(v=0.0262, grad=0.0000), Var(v=0.0129, grad=-0.1689)], [Var(v=0.0556, grad=0.0000), Var(v=0.0038, grad=0.3489), Var(v=-0.0606, grad=0.1869), Var(v=0.0070, grad=0.8148), Var(v=0.1656, grad=0.0000), Var(v=-0.0020, grad=0.0000), Var(v=0.0607, grad=-0.0067), Var(v=0.0151, grad=0.0000), Var(v=-0.0213, grad=0.0000), Var(v=-0.0921, grad=0.0796), Var(v=-0.0170, grad=0.0000), Var(v=-0.1116, grad=0.0000), Var(v=0.0229, grad=-0.1321), Var(v=0.0664, grad=0.0000), Var(v=0.0798, grad=0.0000), Var(v=0.0538, grad=0.0000), Var(v=0.0113, grad=0.0000), Var(v=-0.0363, grad=0.0000), Var(v=0.0357, grad=0.7392), Var(v=0.0209, grad=0.0000), Var(v=-0.0782, grad=-1.0319), Var(v=0.0516, grad=-0.4214), Var(v=0.0089, grad=0.0000), Var(v=0.0329, grad=0.2025), Var(v=0.1399, grad=0.2567), Var(v=0.0982, grad=0.5026), Var(v=0.0267, grad=-1.0154), Var(v=-0.0350, grad=0.2259), Var(v=-0.0723, grad=0.0000), Var(v=-0.1046, grad=0.0000), Var(v=-0.0025, grad=0.0000), Var(v=-0.0042, grad=0.0000), Var(v=0.0367, grad=0.1293), Var(v=0.0852, grad=0.5044), Var(v=-0.2077, grad=0.3225), Var(v=-0.0021, grad=0.0000), Var(v=-0.0699, grad=0.3562), Var(v=0.1860, grad=-0.3879), Var(v=-0.0454, grad=-0.2265), Var(v=-0.0029, grad=-0.8990), Var(v=0.1048, grad=0.0247), Var(v=0.0566, grad=0.6847), Var(v=-0.1155, grad=0.0000), Var(v=0.1049, grad=0.0000), Var(v=-0.1421, grad=0.0000), Var(v=-0.0705, grad=0.0000), Var(v=0.1066, grad=0.0000), Var(v=0.0232, grad=-0.3324), Var(v=0.0582, grad=0.0000), Var(v=-0.0875, grad=-0.9117)], [Var(v=-0.0844, grad=0.1573), Var(v=0.1243, grad=0.0000), Var(v=-0.0522, grad=-0.1466), Var(v=-0.0131, grad=-0.6388), Var(v=-0.0396, grad=-0.9746), Var(v=-0.0837, grad=0.0000), Var(v=0.0482, grad=0.0053), Var(v=0.1887, grad=0.0000), Var(v=0.1746, grad=-0.0173), Var(v=0.2341, grad=0.0000), Var(v=0.0108, grad=0.0000), Var(v=-0.1688, grad=0.0000), Var(v=0.0255, grad=0.0000), Var(v=0.0146, grad=0.0000), Var(v=0.0438, grad=0.0000), Var(v=0.0914, grad=0.0000), Var(v=0.0153, grad=-0.4957), Var(v=-0.0053, grad=-0.6751), Var(v=0.0181, grad=0.0000), Var(v=-0.1429, grad=0.0000), Var(v=0.0441, grad=0.8090), Var(v=-0.0284, grad=0.0000), Var(v=0.1114, grad=0.1315), Var(v=-0.1927, grad=0.0000), Var(v=-0.0433, grad=-0.2013), Var(v=0.0045, grad=-0.3940), Var(v=0.1382, grad=0.0000), Var(v=0.0519, grad=-0.1771), Var(v=-0.0259, grad=-0.6177), Var(v=-0.1444, grad=0.0000), Var(v=0.0002, grad=0.5196), Var(v=-0.0277, grad=0.0000), Var(v=0.0062, grad=-0.1014), Var(v=-0.0450, grad=-0.3954), Var(v=0.1400, grad=-0.2528), Var(v=-0.1043, grad=0.3706), Var(v=0.0524, grad=-0.2793), Var(v=0.0356, grad=0.0000), Var(v=-0.1387, grad=0.1776), Var(v=-0.1941, grad=0.0000), Var(v=-0.0446, grad=-0.0193), Var(v=0.0788, grad=0.0000), Var(v=-0.1583, grad=0.2692), Var(v=-0.0385, grad=0.0000), Var(v=-0.1169, grad=0.0000), Var(v=-0.0216, grad=0.0000), Var(v=-0.1856, grad=-0.0029), Var(v=0.0218, grad=0.2606), Var(v=-0.0483, grad=0.0956), Var(v=-0.0160, grad=0.7148)], [Var(v=0.0827, grad=0.0000), Var(v=-0.0222, grad=0.0233), Var(v=-0.0242, grad=0.0125), Var(v=-0.0583, grad=0.0545), Var(v=-0.0980, grad=0.0000), Var(v=-0.1305, grad=0.0000), Var(v=-0.1061, grad=-0.0005), Var(v=0.0186, grad=0.0000), Var(v=-0.1527, grad=0.0000), Var(v=0.0297, grad=0.0053), Var(v=-0.1438, grad=0.0000), Var(v=0.0923, grad=0.0000), Var(v=-0.1169, grad=-0.0088), Var(v=-0.0616, grad=0.0000), Var(v=0.0961, grad=0.0000), Var(v=0.0380, grad=0.0000), Var(v=-0.0388, grad=0.0000), Var(v=0.0220, grad=0.0000), Var(v=0.0175, grad=0.0495), Var(v=-0.0181, grad=0.0000), Var(v=-0.0998, grad=-0.0690), Var(v=-0.1587, grad=-0.0282), Var(v=0.0158, grad=0.0000), Var(v=0.0407, grad=0.0136), Var(v=0.2502, grad=0.0172), Var(v=0.1116, grad=0.0336), Var(v=0.0630, grad=-0.0679), Var(v=-0.0102, grad=0.0151), Var(v=-0.0654, grad=0.0000), Var(v=-0.1552, grad=0.0000), Var(v=0.0045, grad=0.0000), Var(v=-0.1219, grad=0.0000), Var(v=0.0971, grad=0.0087), Var(v=-0.0844, grad=0.0337), Var(v=0.0685, grad=0.0216), Var(v=-0.1157, grad=0.0000), Var(v=0.1074, grad=0.0238), Var(v=-0.0706, grad=-0.0260), Var(v=-0.0103, grad=-0.0152), Var(v=0.0668, grad=-0.0602), Var(v=0.0794, grad=0.0017), Var(v=-0.0269, grad=0.0458), Var(v=0.0212, grad=0.0000), Var(v=0.1091, grad=0.0000), Var(v=0.1234, grad=0.0000), Var(v=0.0542, grad=0.0000), Var(v=-0.0604, grad=0.0000), Var(v=-0.0865, grad=-0.0222), Var(v=0.0156, grad=0.0000), Var(v=-0.0807, grad=-0.0610)], [Var(v=0.0463, grad=0.0000), Var(v=0.2023, grad=0.7671), Var(v=0.1005, grad=0.4110), Var(v=0.1359, grad=1.7914), Var(v=-0.0199, grad=0.0000), Var(v=-0.1693, grad=0.0000), Var(v=0.0460, grad=-0.0148), Var(v=0.0663, grad=0.0000), Var(v=-0.1270, grad=0.0000), Var(v=-0.0062, grad=0.1750), Var(v=-0.0866, grad=0.0000), Var(v=-0.0908, grad=0.0000), Var(v=-0.0061, grad=-0.2904), Var(v=-0.0161, grad=0.0000), Var(v=0.0224, grad=0.0000), Var(v=0.0158, grad=0.0000), Var(v=0.0472, grad=0.0000), Var(v=0.1092, grad=0.0000), Var(v=0.0698, grad=1.6252), Var(v=-0.0885, grad=0.0000), Var(v=0.0305, grad=-2.2687), Var(v=0.1485, grad=-0.9265), Var(v=0.0238, grad=0.0000), Var(v=-0.0919, grad=0.4453), Var(v=0.0805, grad=0.5645), Var(v=0.0328, grad=1.1049), Var(v=0.0725, grad=-2.2325), Var(v=0.0051, grad=0.4967), Var(v=0.1076, grad=0.0000), Var(v=-0.0076, grad=0.0000), Var(v=-0.0053, grad=0.0000), Var(v=-0.0868, grad=0.0000), Var(v=0.0474, grad=0.2844), Var(v=-0.0599, grad=1.1090), Var(v=-0.0289, grad=0.7090), Var(v=-0.0351, grad=0.0000), Var(v=0.1383, grad=0.7831), Var(v=-0.0187, grad=-0.8529), Var(v=0.0948, grad=-0.4981), Var(v=0.0570, grad=-1.9767), Var(v=0.0334, grad=0.0543), Var(v=0.0626, grad=1.5054), Var(v=-0.1016, grad=0.0000), Var(v=0.0182, grad=0.0000), Var(v=-0.0215, grad=0.0000), Var(v=-0.1536, grad=0.0000), Var(v=0.0242, grad=0.0000), Var(v=0.0032, grad=-0.7308), Var(v=0.0765, grad=0.0000), Var(v=0.0341, grad=-2.0045)], [Var(v=-0.1601, grad=0.0000), Var(v=-0.0293, grad=0.9672), Var(v=0.0486, grad=0.5182), Var(v=0.1840, grad=2.2586), Var(v=-0.1359, grad=0.0000), Var(v=-0.0155, grad=0.0000), Var(v=-0.1012, grad=-0.0187), Var(v=-0.1954, grad=0.0000), Var(v=0.0470, grad=0.0000), Var(v=0.0855, grad=0.2206), Var(v=0.0089, grad=0.0000), Var(v=-0.1845, grad=0.0000), Var(v=0.0687, grad=-0.3662), Var(v=-0.0371, grad=0.0000), Var(v=0.0009, grad=0.0000), Var(v=-0.1439, grad=0.0000), Var(v=-0.1658, grad=0.0000), Var(v=-0.0594, grad=0.0000), Var(v=0.1681, grad=2.0490), Var(v=-0.1080, grad=0.0000), Var(v=0.0300, grad=-2.8604), Var(v=-0.0998, grad=-1.1682), Var(v=-0.0645, grad=0.0000), Var(v=0.1212, grad=0.5614), Var(v=0.2191, grad=0.7117), Var(v=0.1236, grad=1.3931), Var(v=0.0775, grad=-2.8148), Var(v=0.0392, grad=0.6262), Var(v=-0.0676, grad=0.0000), Var(v=0.0143, grad=0.0000), Var(v=-0.1107, grad=0.0000), Var(v=0.0038, grad=0.0000), Var(v=0.0357, grad=0.3586), Var(v=0.1551, grad=1.3982), Var(v=0.0677, grad=0.8940), Var(v=-0.0932, grad=0.0000), Var(v=0.1138, grad=0.9874), Var(v=0.0623, grad=-1.0754), Var(v=0.0506, grad=-0.6280), Var(v=0.0947, grad=-2.4922), Var(v=-0.0705, grad=0.0684), Var(v=0.0606, grad=1.8981), Var(v=0.0018, grad=0.0000), Var(v=-0.1331, grad=0.0000), Var(v=-0.1200, grad=0.0000), Var(v=-0.0516, grad=0.0000), Var(v=-0.0627, grad=0.0000), Var(v=0.1200, grad=-0.9214), Var(v=-0.0394, grad=0.0000), Var(v=0.0394, grad=-2.5274)], [Var(v=-0.0887, grad=0.2227), Var(v=0.0376, grad=0.0000), Var(v=0.0058, grad=-0.2075), Var(v=0.0225, grad=-0.9044), Var(v=-0.0364, grad=-1.3799), Var(v=0.1323, grad=0.0000), Var(v=0.0809, grad=0.0075), Var(v=0.0460, grad=0.0000), Var(v=0.0781, grad=-0.0245), Var(v=-0.1909, grad=0.0000), Var(v=0.0832, grad=0.0000), Var(v=0.1567, grad=0.0000), Var(v=-0.0351, grad=0.0000), Var(v=0.0898, grad=0.0000), Var(v=-0.0382, grad=0.0000), Var(v=-0.1957, grad=0.0000), Var(v=0.0240, grad=-0.7018), Var(v=0.0390, grad=-0.9558), Var(v=-0.0716, grad=0.0000), Var(v=0.0077, grad=0.0000), Var(v=-0.1120, grad=1.1454), Var(v=-0.1014, grad=0.0000), Var(v=0.0503, grad=0.1861), Var(v=-0.2236, grad=0.0000), Var(v=0.1093, grad=-0.2850), Var(v=0.0584, grad=-0.5579), Var(v=-0.0881, grad=0.0000), Var(v=0.0251, grad=-0.2508), Var(v=0.0700, grad=-0.8746), Var(v=-0.0157, grad=0.0000), Var(v=-0.1304, grad=0.7357), Var(v=0.0719, grad=0.0000), Var(v=-0.1588, grad=-0.1436), Var(v=0.0600, grad=-0.5599), Var(v=-0.0232, grad=-0.3580), Var(v=-0.0141, grad=0.5248), Var(v=0.0891, grad=-0.3954), Var(v=0.1057, grad=0.0000), Var(v=0.0983, grad=0.2515), Var(v=-0.0516, grad=0.0000), Var(v=0.1196, grad=-0.0274), Var(v=-0.1938, grad=0.0000), Var(v=0.0975, grad=0.3812), Var(v=-0.0337, grad=0.0000), Var(v=0.0597, grad=0.0000), Var(v=0.1994, grad=0.0000), Var(v=-0.0003, grad=-0.0042), Var(v=-0.0523, grad=0.3690), Var(v=0.2564, grad=0.1353), Var(v=-0.0748, grad=1.0120)], [Var(v=-0.0712, grad=0.0000), Var(v=0.1778, grad=0.0176), Var(v=-0.0725, grad=0.0094), Var(v=0.0804, grad=0.0412), Var(v=-0.0895, grad=0.0000), Var(v=-0.0862, grad=0.0000), Var(v=-0.2063, grad=-0.0003), Var(v=-0.0243, grad=0.0000), Var(v=-0.0914, grad=0.0000), Var(v=-0.0637, grad=0.0040), Var(v=-0.1278, grad=0.0000), Var(v=0.0689, grad=0.0000), Var(v=-0.0547, grad=-0.0067), Var(v=0.0296, grad=0.0000), Var(v=-0.1228, grad=0.0000), Var(v=0.1057, grad=0.0000), Var(v=0.1252, grad=0.0000), Var(v=0.0097, grad=0.0000), Var(v=-0.0039, grad=0.0373), Var(v=-0.0008, grad=0.0000), Var(v=-0.1537, grad=-0.0521), Var(v=-0.0440, grad=-0.0213), Var(v=-0.1283, grad=0.0000), Var(v=-0.0840, grad=0.0102), Var(v=-0.0011, grad=0.0130), Var(v=0.0920, grad=0.0254), Var(v=0.0269, grad=-0.0513), Var(v=0.0462, grad=0.0114), Var(v=-0.1521, grad=0.0000), Var(v=0.0029, grad=0.0000), Var(v=0.0374, grad=0.0000), Var(v=0.0605, grad=0.0000), Var(v=0.0685, grad=0.0065), Var(v=-0.1058, grad=0.0255), Var(v=-0.0343, grad=0.0163), Var(v=-0.0408, grad=0.0000), Var(v=0.0022, grad=0.0180), Var(v=0.0650, grad=-0.0196), Var(v=0.0898, grad=-0.0114), Var(v=0.0795, grad=-0.0454), Var(v=-0.0650, grad=0.0012), Var(v=0.1337, grad=0.0346), Var(v=-0.1402, grad=0.0000), Var(v=-0.0393, grad=0.0000), Var(v=0.1618, grad=0.0000), Var(v=0.0279, grad=0.0000), Var(v=-0.1414, grad=0.0000), Var(v=-0.1737, grad=-0.0168), Var(v=-0.0852, grad=0.0000), Var(v=-0.1228, grad=-0.0461)], [Var(v=0.0167, grad=0.4296), Var(v=0.0670, grad=0.0000), Var(v=0.1378, grad=-0.4003), Var(v=-0.0643, grad=-1.7445), Var(v=0.0987, grad=-2.6617), Var(v=-0.0326, grad=0.0000), Var(v=0.1157, grad=0.0144), Var(v=-0.1383, grad=0.0000), Var(v=0.0692, grad=-0.0473), Var(v=-0.1008, grad=0.0000), Var(v=-0.1566, grad=0.0000), Var(v=-0.1177, grad=0.0000), Var(v=-0.0214, grad=0.0000), Var(v=-0.0990, grad=0.0000), Var(v=-0.1086, grad=0.0000), Var(v=0.0133, grad=0.0000), Var(v=0.0046, grad=-1.3537), Var(v=-0.0687, grad=-1.8437), Var(v=-0.2428, grad=0.0000), Var(v=-0.0433, grad=0.0000), Var(v=0.1255, grad=2.2094), Var(v=0.0874, grad=0.0000), Var(v=0.0927, grad=0.3591), Var(v=-0.0195, grad=0.0000), Var(v=-0.0593, grad=-0.5497), Var(v=0.0527, grad=-1.0761), Var(v=-0.0666, grad=0.0000), Var(v=0.0628, grad=-0.4837), Var(v=0.1454, grad=-1.6870), Var(v=0.0855, grad=0.0000), Var(v=0.0334, grad=1.4190), Var(v=-0.0496, grad=0.0000), Var(v=0.1799, grad=-0.2770), Var(v=0.0386, grad=-1.0800), Var(v=-0.1834, grad=-0.6905), Var(v=0.0643, grad=1.0122), Var(v=0.1468, grad=-0.7627), Var(v=-0.1558, grad=0.0000), Var(v=0.0866, grad=0.4851), Var(v=-0.0357, grad=0.0000), Var(v=0.0040, grad=-0.0528), Var(v=-0.1388, grad=0.0000), Var(v=0.0325, grad=0.7353), Var(v=-0.0086, grad=0.0000), Var(v=-0.0409, grad=0.0000), Var(v=-0.1569, grad=0.0000), Var(v=0.0793, grad=-0.0080), Var(v=-0.0463, grad=0.7117), Var(v=-0.0516, grad=0.2610), Var(v=-0.1270, grad=1.9522)], [Var(v=-0.2269, grad=0.0667), Var(v=0.1035, grad=0.0000), Var(v=0.1454, grad=-0.0621), Var(v=0.0195, grad=-0.2709), Var(v=0.1083, grad=-0.4133), Var(v=-0.1572, grad=0.0000), Var(v=-0.0633, grad=0.0022), Var(v=-0.0163, grad=0.0000), Var(v=0.0625, grad=-0.0073), Var(v=-0.0715, grad=0.0000), Var(v=-0.0067, grad=0.0000), Var(v=0.0360, grad=0.0000), Var(v=-0.1082, grad=0.0000), Var(v=-0.1404, grad=0.0000), Var(v=0.1338, grad=0.0000), Var(v=0.1193, grad=0.0000), Var(v=0.0185, grad=-0.2102), Var(v=-0.1060, grad=-0.2863), Var(v=0.0373, grad=0.0000), Var(v=-0.0649, grad=0.0000), Var(v=-0.1277, grad=0.3431), Var(v=-0.1617, grad=0.0000), Var(v=0.0463, grad=0.0558), Var(v=-0.0179, grad=0.0000), Var(v=-0.1891, grad=-0.0854), Var(v=-0.0092, grad=-0.1671), Var(v=0.0607, grad=0.0000), Var(v=0.0763, grad=-0.0751), Var(v=-0.0049, grad=-0.2619), Var(v=-0.0323, grad=0.0000), Var(v=-0.0354, grad=0.2203), Var(v=0.0609, grad=0.0000), Var(v=-0.1981, grad=-0.0430), Var(v=-0.0419, grad=-0.1677), Var(v=0.2362, grad=-0.1072), Var(v=-0.0594, grad=0.1572), Var(v=-0.1495, grad=-0.1184), Var(v=-0.0987, grad=0.0000), Var(v=-0.1502, grad=0.0753), Var(v=-0.1045, grad=0.0000), Var(v=-0.0183, grad=-0.0082), Var(v=-0.1641, grad=0.0000), Var(v=0.1424, grad=0.1142), Var(v=-0.0390, grad=0.0000), Var(v=-0.0670, grad=0.0000), Var(v=0.1708, grad=0.0000), Var(v=-0.0187, grad=-0.0012), Var(v=0.1180, grad=0.1105), Var(v=-0.0027, grad=0.0405), Var(v=-0.3917, grad=0.3031)], [Var(v=0.0806, grad=0.0000), Var(v=-0.0601, grad=0.1844), Var(v=0.0594, grad=0.0988), Var(v=0.0023, grad=0.4307), Var(v=-0.1628, grad=0.0000), Var(v=0.0916, grad=0.0000), Var(v=0.2152, grad=-0.0036), Var(v=0.0529, grad=0.0000), Var(v=-0.1237, grad=0.0000), Var(v=0.0400, grad=0.0421), Var(v=0.1535, grad=0.0000), Var(v=-0.0379, grad=0.0000), Var(v=-0.1599, grad=-0.0698), Var(v=0.0130, grad=0.0000), Var(v=-0.1826, grad=0.0000), Var(v=-0.0353, grad=0.0000), Var(v=-0.1312, grad=0.0000), Var(v=-0.0243, grad=0.0000), Var(v=0.0511, grad=0.3907), Var(v=0.0909, grad=0.0000), Var(v=-0.0317, grad=-0.5454), Var(v=0.1199, grad=-0.2228), Var(v=-0.0398, grad=0.0000), Var(v=0.1030, grad=0.1071), Var(v=-0.0646, grad=0.1357), Var(v=-0.0111, grad=0.2657), Var(v=0.0958, grad=-0.5367), Var(v=-0.0287, grad=0.1194), Var(v=0.0402, grad=0.0000), Var(v=-0.1194, grad=0.0000), Var(v=-0.0600, grad=0.0000), Var(v=0.0475, grad=0.0000), Var(v=-0.0817, grad=0.0684), Var(v=-0.0225, grad=0.2666), Var(v=0.0634, grad=0.1705), Var(v=-0.0318, grad=0.0000), Var(v=0.0440, grad=0.1883), Var(v=-0.0720, grad=-0.2051), Var(v=0.0313, grad=-0.1198), Var(v=-0.1149, grad=-0.4752), Var(v=0.1024, grad=0.0130), Var(v=0.0896, grad=0.3619), Var(v=-0.2827, grad=0.0000), Var(v=-0.0237, grad=0.0000), Var(v=-0.1606, grad=0.0000), Var(v=-0.0905, grad=0.0000), Var(v=-0.1556, grad=0.0000), Var(v=0.0644, grad=-0.1757), Var(v=-0.0715, grad=0.0000), Var(v=-0.0149, grad=-0.4819)], [Var(v=0.1443, grad=0.1126), Var(v=-0.0756, grad=0.0000), Var(v=-0.0979, grad=-0.1049), Var(v=0.0421, grad=-0.4574), Var(v=0.1754, grad=-0.6978), Var(v=0.1964, grad=0.0000), Var(v=-0.0882, grad=0.0038), Var(v=-0.0585, grad=0.0000), Var(v=0.0663, grad=-0.0124), Var(v=0.2299, grad=0.0000), Var(v=-0.0932, grad=0.0000), Var(v=-0.1359, grad=0.0000), Var(v=0.0075, grad=0.0000), Var(v=0.1286, grad=0.0000), Var(v=-0.1521, grad=0.0000), Var(v=0.0698, grad=0.0000), Var(v=-0.0723, grad=-0.3549), Var(v=-0.0513, grad=-0.4834), Var(v=-0.1019, grad=0.0000), Var(v=-0.1769, grad=0.0000), Var(v=0.1338, grad=0.5792), Var(v=-0.0061, grad=0.0000), Var(v=-0.0444, grad=0.0941), Var(v=-0.0704, grad=0.0000), Var(v=0.0491, grad=-0.1441), Var(v=-0.0155, grad=-0.2821), Var(v=0.0509, grad=0.0000), Var(v=-0.1712, grad=-0.1268), Var(v=-0.0114, grad=-0.4423), Var(v=0.1939, grad=0.0000), Var(v=0.0441, grad=0.3720), Var(v=-0.0677, grad=0.0000), Var(v=0.1297, grad=-0.0726), Var(v=0.0366, grad=-0.2831), Var(v=0.0273, grad=-0.1810), Var(v=0.0040, grad=0.2654), Var(v=0.1424, grad=-0.2000), Var(v=0.1126, grad=0.0000), Var(v=0.0526, grad=0.1272), Var(v=-0.0251, grad=0.0000), Var(v=-0.0863, grad=-0.0139), Var(v=-0.0305, grad=0.0000), Var(v=-0.0336, grad=0.1928), Var(v=-0.1255, grad=0.0000), Var(v=0.0415, grad=0.0000), Var(v=-0.1654, grad=0.0000), Var(v=-0.2209, grad=-0.0021), Var(v=0.2186, grad=0.1866), Var(v=-0.0125, grad=0.0684), Var(v=0.0679, grad=0.5118)], [Var(v=0.0825, grad=0.1309), Var(v=0.0259, grad=0.0000), Var(v=-0.0438, grad=-0.1220), Var(v=-0.0815, grad=-0.5316), Var(v=-0.0528, grad=-0.8111), Var(v=0.0466, grad=0.0000), Var(v=-0.0713, grad=0.0044), Var(v=0.0835, grad=0.0000), Var(v=-0.1898, grad=-0.0144), Var(v=-0.0369, grad=0.0000), Var(v=0.0869, grad=0.0000), Var(v=-0.2825, grad=0.0000), Var(v=-0.1383, grad=0.0000), Var(v=0.0753, grad=0.0000), Var(v=0.0238, grad=0.0000), Var(v=-0.1326, grad=0.0000), Var(v=-0.0801, grad=-0.4125), Var(v=0.1229, grad=-0.5618), Var(v=-0.0040, grad=0.0000), Var(v=0.1930, grad=0.0000), Var(v=-0.1183, grad=0.6732), Var(v=0.0743, grad=0.0000), Var(v=-0.0001, grad=0.1094), Var(v=-0.0382, grad=0.0000), Var(v=0.0081, grad=-0.1675), Var(v=0.0082, grad=-0.3279), Var(v=-0.0290, grad=0.0000), Var(v=0.0958, grad=-0.1474), Var(v=-0.0419, grad=-0.5140), Var(v=-0.0091, grad=0.0000), Var(v=0.0062, grad=0.4324), Var(v=0.0213, grad=0.0000), Var(v=-0.0731, grad=-0.0844), Var(v=-0.1338, grad=-0.3291), Var(v=0.1245, grad=-0.2104), Var(v=0.1272, grad=0.3084), Var(v=-0.0308, grad=-0.2324), Var(v=-0.1592, grad=0.0000), Var(v=-0.0459, grad=0.1478), Var(v=-0.0978, grad=0.0000), Var(v=-0.1294, grad=-0.0161), Var(v=0.1683, grad=0.0000), Var(v=0.0948, grad=0.2241), Var(v=-0.0346, grad=0.0000), Var(v=-0.2717, grad=0.0000), Var(v=-0.0879, grad=0.0000), Var(v=-0.0587, grad=-0.0024), Var(v=-0.0709, grad=0.2169), Var(v=0.0179, grad=0.0795), Var(v=0.1096, grad=0.5948)], [Var(v=0.1175, grad=0.4599), Var(v=-0.1325, grad=0.0000), Var(v=-0.0161, grad=-0.4286), Var(v=0.1038, grad=-1.8679), Var(v=-0.0958, grad=-2.8500), Var(v=-0.0718, grad=0.0000), Var(v=-0.0567, grad=0.0154), Var(v=-0.1237, grad=0.0000), Var(v=0.2117, grad=-0.0506), Var(v=-0.1138, grad=0.0000), Var(v=-0.2037, grad=0.0000), Var(v=0.1609, grad=0.0000), Var(v=0.0578, grad=0.0000), Var(v=-0.1145, grad=0.0000), Var(v=-0.1214, grad=0.0000), Var(v=0.0372, grad=0.0000), Var(v=0.0701, grad=-1.4495), Var(v=0.1968, grad=-1.9741), Var(v=-0.1848, grad=0.0000), Var(v=-0.1549, grad=0.0000), Var(v=-0.0172, grad=2.3657), Var(v=-0.1752, grad=0.0000), Var(v=0.1097, grad=0.3845), Var(v=-0.0848, grad=0.0000), Var(v=0.1377, grad=-0.5886), Var(v=-0.0223, grad=-1.1522), Var(v=0.0259, grad=0.0000), Var(v=0.1120, grad=-0.5179), Var(v=0.0299, grad=-1.8063), Var(v=-0.1523, grad=0.0000), Var(v=0.0876, grad=1.5194), Var(v=0.0155, grad=0.0000), Var(v=0.0853, grad=-0.2965), Var(v=0.0544, grad=-1.1564), Var(v=0.1157, grad=-0.7393), Var(v=0.0372, grad=1.0838), Var(v=0.0829, grad=-0.8166), Var(v=-0.0199, grad=0.0000), Var(v=-0.0239, grad=0.5194), Var(v=0.0598, grad=0.0000), Var(v=0.1458, grad=-0.0566), Var(v=0.0796, grad=0.0000), Var(v=-0.0480, grad=0.7874), Var(v=-0.0872, grad=0.0000), Var(v=-0.0179, grad=0.0000), Var(v=-0.1432, grad=0.0000), Var(v=0.2133, grad=-0.0086), Var(v=0.0576, grad=0.7621), Var(v=0.1732, grad=0.2795), Var(v=0.2681, grad=2.0902)], [Var(v=0.1924, grad=0.0000), Var(v=-0.0647, grad=0.2254), Var(v=0.1172, grad=0.1208), Var(v=0.0391, grad=0.5264), Var(v=-0.0240, grad=0.0000), Var(v=0.0352, grad=0.0000), Var(v=0.1916, grad=-0.0044), Var(v=0.0063, grad=0.0000), Var(v=0.0762, grad=0.0000), Var(v=-0.1135, grad=0.0514), Var(v=0.0151, grad=0.0000), Var(v=-0.1276, grad=0.0000), Var(v=0.0389, grad=-0.0853), Var(v=0.0393, grad=0.0000), Var(v=-0.1586, grad=0.0000), Var(v=0.0141, grad=0.0000), Var(v=-0.0507, grad=0.0000), Var(v=-0.0425, grad=0.0000), Var(v=-0.0388, grad=0.4776), Var(v=0.0127, grad=0.0000), Var(v=0.0639, grad=-0.6667), Var(v=-0.0816, grad=-0.2723), Var(v=0.1818, grad=0.0000), Var(v=-0.0485, grad=0.1308), Var(v=-0.0962, grad=0.1659), Var(v=0.0590, grad=0.3247), Var(v=-0.0362, grad=-0.6560), Var(v=-0.0480, grad=0.1459), Var(v=-0.0105, grad=0.0000), Var(v=-0.0142, grad=0.0000), Var(v=0.1215, grad=0.0000), Var(v=0.0009, grad=0.0000), Var(v=-0.0445, grad=0.0836), Var(v=-0.0115, grad=0.3259), Var(v=0.1218, grad=0.2083), Var(v=-0.1093, grad=0.0000), Var(v=0.1485, grad=0.2301), Var(v=0.1564, grad=-0.2506), Var(v=-0.0347, grad=-0.1464), Var(v=-0.0436, grad=-0.5809), Var(v=0.0258, grad=0.0159), Var(v=0.0937, grad=0.4424), Var(v=-0.0392, grad=0.0000), Var(v=0.0452, grad=0.0000), Var(v=0.0304, grad=0.0000), Var(v=-0.0514, grad=0.0000), Var(v=0.1180, grad=0.0000), Var(v=-0.0201, grad=-0.2147), Var(v=-0.1717, grad=0.0000), Var(v=0.0086, grad=-0.5890)]] Biases: [Var(v=0.0000, grad=2.7326), Var(v=0.0000, grad=4.8637), Var(v=0.0000, grad=0.0595), Var(v=0.0000, grad=0.2593), Var(v=0.0000, grad=-16.9324), Var(v=0.0000, grad=0.0000), Var(v=0.0000, grad=-0.0021), Var(v=0.0000, grad=0.0000), Var(v=0.0000, grad=-0.3007), Var(v=0.0000, grad=1.1093), Var(v=0.0000, grad=0.0000), Var(v=0.0000, grad=0.0000), Var(v=0.0000, grad=-1.8413), Var(v=0.0000, grad=0.0000), Var(v=0.0000, grad=0.0000), Var(v=0.0000, grad=0.0000), Var(v=0.0000, grad=-8.6117), Var(v=0.0000, grad=-11.7284), Var(v=0.0000, grad=10.3035), Var(v=0.0000, grad=0.0000), Var(v=0.0000, grad=-0.3285), Var(v=0.0000, grad=-5.8743), Var(v=0.0000, grad=2.2841), Var(v=0.0000, grad=2.8231), Var(v=0.0000, grad=0.0817), Var(v=0.0000, grad=0.1600), Var(v=0.0000, grad=-14.1539), Var(v=0.0000, grad=0.0719), Var(v=0.0000, grad=-10.7318), Var(v=0.0000, grad=0.0000), Var(v=0.0000, grad=9.0271), Var(v=0.0000, grad=0.0000), Var(v=0.0000, grad=0.0412), Var(v=0.0000, grad=0.1606), Var(v=0.0000, grad=0.1027), Var(v=0.0000, grad=6.4391), Var(v=0.0000, grad=0.1134), Var(v=0.0000, grad=-5.4077), Var(v=0.0000, grad=-0.0721), Var(v=0.0000, grad=-12.5321), Var(v=0.0000, grad=0.0079), Var(v=0.0000, grad=9.5445), Var(v=0.0000, grad=4.6779), Var(v=0.0000, grad=0.0000), Var(v=0.0000, grad=0.0000), Var(v=0.0000, grad=0.0000), Var(v=0.0000, grad=-0.0510), Var(v=0.0000, grad=-0.1058), Var(v=0.0000, grad=1.6604), Var(v=0.0000, grad=-0.2902)]\n",
            "Layer 2 \n",
            " Weights: [[Var(v=-0.0316, grad=-1.2728)], [Var(v=0.0549, grad=1.9405)], [Var(v=0.0294, grad=1.4075)], [Var(v=0.1282, grad=4.6571)], [Var(v=0.1955, grad=-0.1285)], [Var(v=0.0830, grad=0.0000)], [Var(v=-0.0011, grad=-0.2127)], [Var(v=0.1496, grad=0.0000)], [Var(v=0.0035, grad=-5.0311)], [Var(v=0.0125, grad=0.4366)], [Var(v=0.0923, grad=0.0000)], [Var(v=-0.0615, grad=0.0000)], [Var(v=-0.0208, grad=0.7327)], [Var(v=0.1044, grad=0.0000)], [Var(v=0.1187, grad=0.0000)], [Var(v=0.0481, grad=0.0000)], [Var(v=0.0994, grad=-0.7779)], [Var(v=0.1354, grad=-2.2859)], [Var(v=0.1163, grad=4.2704)], [Var(v=-0.1523, grad=0.0000)], [Var(v=-0.1623, grad=-0.1303)], [Var(v=-0.0663, grad=0.5794)], [Var(v=-0.0264, grad=-3.7098)], [Var(v=0.0319, grad=1.4822)], [Var(v=0.0404, grad=3.7770)], [Var(v=0.0791, grad=2.6587)], [Var(v=-0.1597, grad=2.7941)], [Var(v=0.0355, grad=-2.6541)], [Var(v=0.1239, grad=-2.5550)], [Var(v=-0.1589, grad=0.0000)], [Var(v=-0.1042, grad=-0.9222)], [Var(v=-0.0901, grad=0.0000)], [Var(v=0.0203, grad=-1.2755)], [Var(v=0.0793, grad=1.3021)], [Var(v=0.0507, grad=-0.5948)], [Var(v=-0.0744, grad=-1.2149)], [Var(v=0.0560, grad=0.1342)], [Var(v=-0.0610, grad=2.5383)], [Var(v=-0.0356, grad=1.4210)], [Var(v=-0.1414, grad=1.9113)], [Var(v=0.0039, grad=-1.5749)], [Var(v=0.1077, grad=3.1267)], [Var(v=-0.0540, grad=-0.2162)], [Var(v=-0.0904, grad=0.0000)], [Var(v=-0.0322, grad=0.0000)], [Var(v=-0.1642, grad=0.0000)], [Var(v=0.0006, grad=-2.1904)], [Var(v=-0.0523, grad=1.7341)], [Var(v=-0.0192, grad=-3.4143)], [Var(v=-0.1434, grad=-0.8976)]] Biases: [Var(v=0.0000, grad=2.0236)]\n",
            "\n",
            "Network after update:\n",
            "Layer 0 \n",
            " Weights: [[Var(v=-0.0030, grad=-0.9038), Var(v=-0.0442, grad=-2.1028), Var(v=0.0593, grad=-0.9892), Var(v=0.0400, grad=-4.4408), Var(v=-0.1334, grad=-1.0047), Var(v=-0.1281, grad=-5.2738), Var(v=0.1328, grad=-6.2745), Var(v=0.0568, grad=-6.0054), Var(v=0.1545, grad=-1.9426), Var(v=0.1098, grad=-8.8798), Var(v=-0.0155, grad=-1.9023), Var(v=0.0150, grad=2.0423), Var(v=0.0087, grad=3.2440), Var(v=0.1448, grad=-0.0224), Var(v=-0.0257, grad=-1.6441)]] Biases: [Var(v=-0.0082, grad=0.8217), Var(v=-0.0191, grad=1.9119), Var(v=0.0085, grad=-0.8498), Var(v=-0.0404, grad=4.0375), Var(v=-0.0091, grad=0.9134), Var(v=-0.0479, grad=4.7949), Var(v=0.0539, grad=-5.3906), Var(v=-0.0546, grad=5.4600), Var(v=0.0167, grad=-1.6689), Var(v=0.0763, grad=-7.6289), Var(v=-0.0173, grad=1.7295), Var(v=-0.0175, grad=1.7546), Var(v=-0.0279, grad=2.7870), Var(v=0.0002, grad=-0.0193), Var(v=-0.0149, grad=1.4948)]\n",
            "Layer 1 \n",
            " Weights: [[Var(v=0.1329, grad=0.0000), Var(v=0.0220, grad=0.0646), Var(v=0.0695, grad=0.0346), Var(v=-0.0986, grad=0.1509), Var(v=0.0333, grad=0.0000), Var(v=-0.0033, grad=0.0000), Var(v=-0.0347, grad=-0.0012), Var(v=0.1105, grad=0.0000), Var(v=0.0281, grad=0.0000), Var(v=-0.0500, grad=0.0147), Var(v=0.0910, grad=0.0000), Var(v=0.0325, grad=0.0000), Var(v=-0.0784, grad=-0.0245), Var(v=-0.1473, grad=0.0000), Var(v=0.1107, grad=0.0000), Var(v=-0.1948, grad=0.0000), Var(v=0.0635, grad=0.0000), Var(v=-0.0475, grad=0.0000), Var(v=0.0732, grad=0.1369), Var(v=-0.0745, grad=0.0000), Var(v=-0.0390, grad=-0.1911), Var(v=-0.0429, grad=-0.0781), Var(v=-0.1501, grad=0.0000), Var(v=0.2401, grad=0.0375), Var(v=-0.0240, grad=0.0476), Var(v=-0.0842, grad=0.0931), Var(v=0.0336, grad=-0.1881), Var(v=-0.0335, grad=0.0418), Var(v=-0.0357, grad=0.0000), Var(v=0.0306, grad=0.0000), Var(v=-0.1550, grad=0.0000), Var(v=0.0012, grad=0.0000), Var(v=-0.0530, grad=0.0240), Var(v=0.0513, grad=0.0934), Var(v=0.0356, grad=0.0597), Var(v=0.0551, grad=0.0000), Var(v=-0.0034, grad=0.0660), Var(v=0.1098, grad=-0.0719), Var(v=0.0145, grad=-0.0420), Var(v=-0.0198, grad=-0.1665), Var(v=-0.0095, grad=0.0046), Var(v=0.0883, grad=0.1268), Var(v=0.2165, grad=0.0000), Var(v=0.0885, grad=0.0000), Var(v=-0.1164, grad=0.0000), Var(v=-0.0458, grad=0.0000), Var(v=-0.0787, grad=0.0000), Var(v=0.0598, grad=-0.0616), Var(v=0.0262, grad=0.0000), Var(v=0.0146, grad=-0.1689)], [Var(v=0.0556, grad=0.0000), Var(v=0.0003, grad=0.3489), Var(v=-0.0625, grad=0.1869), Var(v=-0.0011, grad=0.8148), Var(v=0.1656, grad=0.0000), Var(v=-0.0020, grad=0.0000), Var(v=0.0608, grad=-0.0067), Var(v=0.0151, grad=0.0000), Var(v=-0.0213, grad=0.0000), Var(v=-0.0929, grad=0.0796), Var(v=-0.0170, grad=0.0000), Var(v=-0.1116, grad=0.0000), Var(v=0.0242, grad=-0.1321), Var(v=0.0664, grad=0.0000), Var(v=0.0798, grad=0.0000), Var(v=0.0538, grad=0.0000), Var(v=0.0113, grad=0.0000), Var(v=-0.0363, grad=0.0000), Var(v=0.0283, grad=0.7392), Var(v=0.0209, grad=0.0000), Var(v=-0.0679, grad=-1.0319), Var(v=0.0558, grad=-0.4214), Var(v=0.0089, grad=0.0000), Var(v=0.0309, grad=0.2025), Var(v=0.1374, grad=0.2567), Var(v=0.0931, grad=0.5026), Var(v=0.0369, grad=-1.0154), Var(v=-0.0373, grad=0.2259), Var(v=-0.0723, grad=0.0000), Var(v=-0.1046, grad=0.0000), Var(v=-0.0025, grad=0.0000), Var(v=-0.0042, grad=0.0000), Var(v=0.0354, grad=0.1293), Var(v=0.0802, grad=0.5044), Var(v=-0.2109, grad=0.3225), Var(v=-0.0021, grad=0.0000), Var(v=-0.0734, grad=0.3562), Var(v=0.1898, grad=-0.3879), Var(v=-0.0431, grad=-0.2265), Var(v=0.0061, grad=-0.8990), Var(v=0.1045, grad=0.0247), Var(v=0.0498, grad=0.6847), Var(v=-0.1155, grad=0.0000), Var(v=0.1049, grad=0.0000), Var(v=-0.1421, grad=0.0000), Var(v=-0.0705, grad=0.0000), Var(v=0.1066, grad=0.0000), Var(v=0.0265, grad=-0.3324), Var(v=0.0582, grad=0.0000), Var(v=-0.0784, grad=-0.9117)], [Var(v=-0.0859, grad=0.1573), Var(v=0.1243, grad=0.0000), Var(v=-0.0508, grad=-0.1466), Var(v=-0.0067, grad=-0.6388), Var(v=-0.0299, grad=-0.9746), Var(v=-0.0837, grad=0.0000), Var(v=0.0482, grad=0.0053), Var(v=0.1887, grad=0.0000), Var(v=0.1748, grad=-0.0173), Var(v=0.2341, grad=0.0000), Var(v=0.0108, grad=0.0000), Var(v=-0.1688, grad=0.0000), Var(v=0.0255, grad=0.0000), Var(v=0.0146, grad=0.0000), Var(v=0.0438, grad=0.0000), Var(v=0.0914, grad=0.0000), Var(v=0.0202, grad=-0.4957), Var(v=0.0015, grad=-0.6751), Var(v=0.0181, grad=0.0000), Var(v=-0.1429, grad=0.0000), Var(v=0.0360, grad=0.8090), Var(v=-0.0284, grad=0.0000), Var(v=0.1101, grad=0.1315), Var(v=-0.1927, grad=0.0000), Var(v=-0.0413, grad=-0.2013), Var(v=0.0084, grad=-0.3940), Var(v=0.1382, grad=0.0000), Var(v=0.0537, grad=-0.1771), Var(v=-0.0197, grad=-0.6177), Var(v=-0.1444, grad=0.0000), Var(v=-0.0050, grad=0.5196), Var(v=-0.0277, grad=0.0000), Var(v=0.0072, grad=-0.1014), Var(v=-0.0410, grad=-0.3954), Var(v=0.1425, grad=-0.2528), Var(v=-0.1080, grad=0.3706), Var(v=0.0552, grad=-0.2793), Var(v=0.0356, grad=0.0000), Var(v=-0.1405, grad=0.1776), Var(v=-0.1941, grad=0.0000), Var(v=-0.0444, grad=-0.0193), Var(v=0.0788, grad=0.0000), Var(v=-0.1610, grad=0.2692), Var(v=-0.0385, grad=0.0000), Var(v=-0.1169, grad=0.0000), Var(v=-0.0216, grad=0.0000), Var(v=-0.1855, grad=-0.0029), Var(v=0.0192, grad=0.2606), Var(v=-0.0493, grad=0.0956), Var(v=-0.0231, grad=0.7148)], [Var(v=0.0827, grad=0.0000), Var(v=-0.0224, grad=0.0233), Var(v=-0.0243, grad=0.0125), Var(v=-0.0589, grad=0.0545), Var(v=-0.0980, grad=0.0000), Var(v=-0.1305, grad=0.0000), Var(v=-0.1061, grad=-0.0005), Var(v=0.0186, grad=0.0000), Var(v=-0.1527, grad=0.0000), Var(v=0.0296, grad=0.0053), Var(v=-0.1438, grad=0.0000), Var(v=0.0923, grad=0.0000), Var(v=-0.1168, grad=-0.0088), Var(v=-0.0616, grad=0.0000), Var(v=0.0961, grad=0.0000), Var(v=0.0380, grad=0.0000), Var(v=-0.0388, grad=0.0000), Var(v=0.0220, grad=0.0000), Var(v=0.0170, grad=0.0495), Var(v=-0.0181, grad=0.0000), Var(v=-0.0991, grad=-0.0690), Var(v=-0.1584, grad=-0.0282), Var(v=0.0158, grad=0.0000), Var(v=0.0406, grad=0.0136), Var(v=0.2501, grad=0.0172), Var(v=0.1112, grad=0.0336), Var(v=0.0637, grad=-0.0679), Var(v=-0.0104, grad=0.0151), Var(v=-0.0654, grad=0.0000), Var(v=-0.1552, grad=0.0000), Var(v=0.0045, grad=0.0000), Var(v=-0.1219, grad=0.0000), Var(v=0.0970, grad=0.0087), Var(v=-0.0847, grad=0.0337), Var(v=0.0683, grad=0.0216), Var(v=-0.1157, grad=0.0000), Var(v=0.1071, grad=0.0238), Var(v=-0.0703, grad=-0.0260), Var(v=-0.0101, grad=-0.0152), Var(v=0.0674, grad=-0.0602), Var(v=0.0794, grad=0.0017), Var(v=-0.0273, grad=0.0458), Var(v=0.0212, grad=0.0000), Var(v=0.1091, grad=0.0000), Var(v=0.1234, grad=0.0000), Var(v=0.0542, grad=0.0000), Var(v=-0.0604, grad=0.0000), Var(v=-0.0863, grad=-0.0222), Var(v=0.0156, grad=0.0000), Var(v=-0.0801, grad=-0.0610)], [Var(v=0.0463, grad=0.0000), Var(v=0.1946, grad=0.7671), Var(v=0.0964, grad=0.4110), Var(v=0.1180, grad=1.7914), Var(v=-0.0199, grad=0.0000), Var(v=-0.1693, grad=0.0000), Var(v=0.0462, grad=-0.0148), Var(v=0.0663, grad=0.0000), Var(v=-0.1270, grad=0.0000), Var(v=-0.0079, grad=0.1750), Var(v=-0.0866, grad=0.0000), Var(v=-0.0908, grad=0.0000), Var(v=-0.0032, grad=-0.2904), Var(v=-0.0161, grad=0.0000), Var(v=0.0224, grad=0.0000), Var(v=0.0158, grad=0.0000), Var(v=0.0472, grad=0.0000), Var(v=0.1092, grad=0.0000), Var(v=0.0535, grad=1.6252), Var(v=-0.0885, grad=0.0000), Var(v=0.0532, grad=-2.2687), Var(v=0.1577, grad=-0.9265), Var(v=0.0238, grad=0.0000), Var(v=-0.0963, grad=0.4453), Var(v=0.0748, grad=0.5645), Var(v=0.0217, grad=1.1049), Var(v=0.0948, grad=-2.2325), Var(v=0.0001, grad=0.4967), Var(v=0.1076, grad=0.0000), Var(v=-0.0076, grad=0.0000), Var(v=-0.0053, grad=0.0000), Var(v=-0.0868, grad=0.0000), Var(v=0.0445, grad=0.2844), Var(v=-0.0710, grad=1.1090), Var(v=-0.0360, grad=0.7090), Var(v=-0.0351, grad=0.0000), Var(v=0.1304, grad=0.7831), Var(v=-0.0102, grad=-0.8529), Var(v=0.0998, grad=-0.4981), Var(v=0.0768, grad=-1.9767), Var(v=0.0329, grad=0.0543), Var(v=0.0476, grad=1.5054), Var(v=-0.1016, grad=0.0000), Var(v=0.0182, grad=0.0000), Var(v=-0.0215, grad=0.0000), Var(v=-0.1536, grad=0.0000), Var(v=0.0242, grad=0.0000), Var(v=0.0105, grad=-0.7308), Var(v=0.0765, grad=0.0000), Var(v=0.0542, grad=-2.0045)], [Var(v=-0.1601, grad=0.0000), Var(v=-0.0390, grad=0.9672), Var(v=0.0434, grad=0.5182), Var(v=0.1614, grad=2.2586), Var(v=-0.1359, grad=0.0000), Var(v=-0.0155, grad=0.0000), Var(v=-0.1010, grad=-0.0187), Var(v=-0.1954, grad=0.0000), Var(v=0.0470, grad=0.0000), Var(v=0.0833, grad=0.2206), Var(v=0.0089, grad=0.0000), Var(v=-0.1845, grad=0.0000), Var(v=0.0723, grad=-0.3662), Var(v=-0.0371, grad=0.0000), Var(v=0.0009, grad=0.0000), Var(v=-0.1439, grad=0.0000), Var(v=-0.1658, grad=0.0000), Var(v=-0.0594, grad=0.0000), Var(v=0.1476, grad=2.0490), Var(v=-0.1080, grad=0.0000), Var(v=0.0586, grad=-2.8604), Var(v=-0.0881, grad=-1.1682), Var(v=-0.0645, grad=0.0000), Var(v=0.1156, grad=0.5614), Var(v=0.2120, grad=0.7117), Var(v=0.1097, grad=1.3931), Var(v=0.1056, grad=-2.8148), Var(v=0.0329, grad=0.6262), Var(v=-0.0676, grad=0.0000), Var(v=0.0143, grad=0.0000), Var(v=-0.1107, grad=0.0000), Var(v=0.0038, grad=0.0000), Var(v=0.0321, grad=0.3586), Var(v=0.1412, grad=1.3982), Var(v=0.0587, grad=0.8940), Var(v=-0.0932, grad=0.0000), Var(v=0.1039, grad=0.9874), Var(v=0.0731, grad=-1.0754), Var(v=0.0569, grad=-0.6280), Var(v=0.1196, grad=-2.4922), Var(v=-0.0712, grad=0.0684), Var(v=0.0417, grad=1.8981), Var(v=0.0018, grad=0.0000), Var(v=-0.1331, grad=0.0000), Var(v=-0.1200, grad=0.0000), Var(v=-0.0516, grad=0.0000), Var(v=-0.0627, grad=0.0000), Var(v=0.1293, grad=-0.9214), Var(v=-0.0394, grad=0.0000), Var(v=0.0647, grad=-2.5274)], [Var(v=-0.0909, grad=0.2227), Var(v=0.0376, grad=0.0000), Var(v=0.0079, grad=-0.2075), Var(v=0.0315, grad=-0.9044), Var(v=-0.0227, grad=-1.3799), Var(v=0.1323, grad=0.0000), Var(v=0.0809, grad=0.0075), Var(v=0.0460, grad=0.0000), Var(v=0.0784, grad=-0.0245), Var(v=-0.1909, grad=0.0000), Var(v=0.0832, grad=0.0000), Var(v=0.1567, grad=0.0000), Var(v=-0.0351, grad=0.0000), Var(v=0.0898, grad=0.0000), Var(v=-0.0382, grad=0.0000), Var(v=-0.1957, grad=0.0000), Var(v=0.0310, grad=-0.7018), Var(v=0.0486, grad=-0.9558), Var(v=-0.0716, grad=0.0000), Var(v=0.0077, grad=0.0000), Var(v=-0.1235, grad=1.1454), Var(v=-0.1014, grad=0.0000), Var(v=0.0484, grad=0.1861), Var(v=-0.2236, grad=0.0000), Var(v=0.1121, grad=-0.2850), Var(v=0.0639, grad=-0.5579), Var(v=-0.0881, grad=0.0000), Var(v=0.0276, grad=-0.2508), Var(v=0.0787, grad=-0.8746), Var(v=-0.0157, grad=0.0000), Var(v=-0.1377, grad=0.7357), Var(v=0.0719, grad=0.0000), Var(v=-0.1573, grad=-0.1436), Var(v=0.0656, grad=-0.5599), Var(v=-0.0197, grad=-0.3580), Var(v=-0.0193, grad=0.5248), Var(v=0.0931, grad=-0.3954), Var(v=0.1057, grad=0.0000), Var(v=0.0958, grad=0.2515), Var(v=-0.0516, grad=0.0000), Var(v=0.1199, grad=-0.0274), Var(v=-0.1938, grad=0.0000), Var(v=0.0937, grad=0.3812), Var(v=-0.0337, grad=0.0000), Var(v=0.0597, grad=0.0000), Var(v=0.1994, grad=0.0000), Var(v=-0.0002, grad=-0.0042), Var(v=-0.0559, grad=0.3690), Var(v=0.2550, grad=0.1353), Var(v=-0.0849, grad=1.0120)], [Var(v=-0.0712, grad=0.0000), Var(v=0.1777, grad=0.0176), Var(v=-0.0726, grad=0.0094), Var(v=0.0800, grad=0.0412), Var(v=-0.0895, grad=0.0000), Var(v=-0.0862, grad=0.0000), Var(v=-0.2063, grad=-0.0003), Var(v=-0.0243, grad=0.0000), Var(v=-0.0914, grad=0.0000), Var(v=-0.0638, grad=0.0040), Var(v=-0.1278, grad=0.0000), Var(v=0.0689, grad=0.0000), Var(v=-0.0547, grad=-0.0067), Var(v=0.0296, grad=0.0000), Var(v=-0.1228, grad=0.0000), Var(v=0.1057, grad=0.0000), Var(v=0.1252, grad=0.0000), Var(v=0.0097, grad=0.0000), Var(v=-0.0042, grad=0.0373), Var(v=-0.0008, grad=0.0000), Var(v=-0.1532, grad=-0.0521), Var(v=-0.0438, grad=-0.0213), Var(v=-0.1283, grad=0.0000), Var(v=-0.0841, grad=0.0102), Var(v=-0.0013, grad=0.0130), Var(v=0.0917, grad=0.0254), Var(v=0.0274, grad=-0.0513), Var(v=0.0461, grad=0.0114), Var(v=-0.1521, grad=0.0000), Var(v=0.0029, grad=0.0000), Var(v=0.0374, grad=0.0000), Var(v=0.0605, grad=0.0000), Var(v=0.0684, grad=0.0065), Var(v=-0.1061, grad=0.0255), Var(v=-0.0344, grad=0.0163), Var(v=-0.0408, grad=0.0000), Var(v=0.0020, grad=0.0180), Var(v=0.0652, grad=-0.0196), Var(v=0.0900, grad=-0.0114), Var(v=0.0799, grad=-0.0454), Var(v=-0.0650, grad=0.0012), Var(v=0.1333, grad=0.0346), Var(v=-0.1402, grad=0.0000), Var(v=-0.0393, grad=0.0000), Var(v=0.1618, grad=0.0000), Var(v=0.0279, grad=0.0000), Var(v=-0.1414, grad=0.0000), Var(v=-0.1736, grad=-0.0168), Var(v=-0.0852, grad=0.0000), Var(v=-0.1223, grad=-0.0461)], [Var(v=0.0124, grad=0.4296), Var(v=0.0670, grad=0.0000), Var(v=0.1418, grad=-0.4003), Var(v=-0.0469, grad=-1.7445), Var(v=0.1253, grad=-2.6617), Var(v=-0.0326, grad=0.0000), Var(v=0.1155, grad=0.0144), Var(v=-0.1383, grad=0.0000), Var(v=0.0696, grad=-0.0473), Var(v=-0.1008, grad=0.0000), Var(v=-0.1566, grad=0.0000), Var(v=-0.1177, grad=0.0000), Var(v=-0.0214, grad=0.0000), Var(v=-0.0990, grad=0.0000), Var(v=-0.1086, grad=0.0000), Var(v=0.0133, grad=0.0000), Var(v=0.0181, grad=-1.3537), Var(v=-0.0503, grad=-1.8437), Var(v=-0.2428, grad=0.0000), Var(v=-0.0433, grad=0.0000), Var(v=0.1034, grad=2.2094), Var(v=0.0874, grad=0.0000), Var(v=0.0891, grad=0.3591), Var(v=-0.0195, grad=0.0000), Var(v=-0.0538, grad=-0.5497), Var(v=0.0635, grad=-1.0761), Var(v=-0.0666, grad=0.0000), Var(v=0.0677, grad=-0.4837), Var(v=0.1623, grad=-1.6870), Var(v=0.0855, grad=0.0000), Var(v=0.0192, grad=1.4190), Var(v=-0.0496, grad=0.0000), Var(v=0.1826, grad=-0.2770), Var(v=0.0494, grad=-1.0800), Var(v=-0.1765, grad=-0.6905), Var(v=0.0542, grad=1.0122), Var(v=0.1544, grad=-0.7627), Var(v=-0.1558, grad=0.0000), Var(v=0.0817, grad=0.4851), Var(v=-0.0357, grad=0.0000), Var(v=0.0045, grad=-0.0528), Var(v=-0.1388, grad=0.0000), Var(v=0.0252, grad=0.7353), Var(v=-0.0086, grad=0.0000), Var(v=-0.0409, grad=0.0000), Var(v=-0.1569, grad=0.0000), Var(v=0.0794, grad=-0.0080), Var(v=-0.0534, grad=0.7117), Var(v=-0.0542, grad=0.2610), Var(v=-0.1465, grad=1.9522)], [Var(v=-0.2276, grad=0.0667), Var(v=0.1035, grad=0.0000), Var(v=0.1460, grad=-0.0621), Var(v=0.0222, grad=-0.2709), Var(v=0.1125, grad=-0.4133), Var(v=-0.1572, grad=0.0000), Var(v=-0.0633, grad=0.0022), Var(v=-0.0163, grad=0.0000), Var(v=0.0626, grad=-0.0073), Var(v=-0.0715, grad=0.0000), Var(v=-0.0067, grad=0.0000), Var(v=0.0360, grad=0.0000), Var(v=-0.1082, grad=0.0000), Var(v=-0.1404, grad=0.0000), Var(v=0.1338, grad=0.0000), Var(v=0.1193, grad=0.0000), Var(v=0.0206, grad=-0.2102), Var(v=-0.1031, grad=-0.2863), Var(v=0.0373, grad=0.0000), Var(v=-0.0649, grad=0.0000), Var(v=-0.1311, grad=0.3431), Var(v=-0.1617, grad=0.0000), Var(v=0.0458, grad=0.0558), Var(v=-0.0179, grad=0.0000), Var(v=-0.1883, grad=-0.0854), Var(v=-0.0076, grad=-0.1671), Var(v=0.0607, grad=0.0000), Var(v=0.0770, grad=-0.0751), Var(v=-0.0023, grad=-0.2619), Var(v=-0.0323, grad=0.0000), Var(v=-0.0376, grad=0.2203), Var(v=0.0609, grad=0.0000), Var(v=-0.1976, grad=-0.0430), Var(v=-0.0402, grad=-0.1677), Var(v=0.2372, grad=-0.1072), Var(v=-0.0609, grad=0.1572), Var(v=-0.1483, grad=-0.1184), Var(v=-0.0987, grad=0.0000), Var(v=-0.1509, grad=0.0753), Var(v=-0.1045, grad=0.0000), Var(v=-0.0182, grad=-0.0082), Var(v=-0.1641, grad=0.0000), Var(v=0.1412, grad=0.1142), Var(v=-0.0390, grad=0.0000), Var(v=-0.0670, grad=0.0000), Var(v=0.1708, grad=0.0000), Var(v=-0.0187, grad=-0.0012), Var(v=0.1169, grad=0.1105), Var(v=-0.0031, grad=0.0405), Var(v=-0.3947, grad=0.3031)], [Var(v=0.0806, grad=0.0000), Var(v=-0.0619, grad=0.1844), Var(v=0.0584, grad=0.0988), Var(v=-0.0020, grad=0.4307), Var(v=-0.1628, grad=0.0000), Var(v=0.0916, grad=0.0000), Var(v=0.2152, grad=-0.0036), Var(v=0.0529, grad=0.0000), Var(v=-0.1237, grad=0.0000), Var(v=0.0396, grad=0.0421), Var(v=0.1535, grad=0.0000), Var(v=-0.0379, grad=0.0000), Var(v=-0.1592, grad=-0.0698), Var(v=0.0130, grad=0.0000), Var(v=-0.1826, grad=0.0000), Var(v=-0.0353, grad=0.0000), Var(v=-0.1312, grad=0.0000), Var(v=-0.0243, grad=0.0000), Var(v=0.0472, grad=0.3907), Var(v=0.0909, grad=0.0000), Var(v=-0.0262, grad=-0.5454), Var(v=0.1221, grad=-0.2228), Var(v=-0.0398, grad=0.0000), Var(v=0.1019, grad=0.1071), Var(v=-0.0659, grad=0.1357), Var(v=-0.0138, grad=0.2657), Var(v=0.1011, grad=-0.5367), Var(v=-0.0299, grad=0.1194), Var(v=0.0402, grad=0.0000), Var(v=-0.1194, grad=0.0000), Var(v=-0.0600, grad=0.0000), Var(v=0.0475, grad=0.0000), Var(v=-0.0824, grad=0.0684), Var(v=-0.0251, grad=0.2666), Var(v=0.0617, grad=0.1705), Var(v=-0.0318, grad=0.0000), Var(v=0.0421, grad=0.1883), Var(v=-0.0699, grad=-0.2051), Var(v=0.0325, grad=-0.1198), Var(v=-0.1102, grad=-0.4752), Var(v=0.1023, grad=0.0130), Var(v=0.0859, grad=0.3619), Var(v=-0.2827, grad=0.0000), Var(v=-0.0237, grad=0.0000), Var(v=-0.1606, grad=0.0000), Var(v=-0.0905, grad=0.0000), Var(v=-0.1556, grad=0.0000), Var(v=0.0661, grad=-0.1757), Var(v=-0.0715, grad=0.0000), Var(v=-0.0100, grad=-0.4819)], [Var(v=0.1432, grad=0.1126), Var(v=-0.0756, grad=0.0000), Var(v=-0.0969, grad=-0.1049), Var(v=0.0467, grad=-0.4574), Var(v=0.1824, grad=-0.6978), Var(v=0.1964, grad=0.0000), Var(v=-0.0883, grad=0.0038), Var(v=-0.0585, grad=0.0000), Var(v=0.0664, grad=-0.0124), Var(v=0.2299, grad=0.0000), Var(v=-0.0932, grad=0.0000), Var(v=-0.1359, grad=0.0000), Var(v=0.0075, grad=0.0000), Var(v=0.1286, grad=0.0000), Var(v=-0.1521, grad=0.0000), Var(v=0.0698, grad=0.0000), Var(v=-0.0688, grad=-0.3549), Var(v=-0.0464, grad=-0.4834), Var(v=-0.1019, grad=0.0000), Var(v=-0.1769, grad=0.0000), Var(v=0.1280, grad=0.5792), Var(v=-0.0061, grad=0.0000), Var(v=-0.0453, grad=0.0941), Var(v=-0.0704, grad=0.0000), Var(v=0.0505, grad=-0.1441), Var(v=-0.0127, grad=-0.2821), Var(v=0.0509, grad=0.0000), Var(v=-0.1699, grad=-0.1268), Var(v=-0.0069, grad=-0.4423), Var(v=0.1939, grad=0.0000), Var(v=0.0404, grad=0.3720), Var(v=-0.0677, grad=0.0000), Var(v=0.1304, grad=-0.0726), Var(v=0.0395, grad=-0.2831), Var(v=0.0291, grad=-0.1810), Var(v=0.0013, grad=0.2654), Var(v=0.1444, grad=-0.2000), Var(v=0.1126, grad=0.0000), Var(v=0.0513, grad=0.1272), Var(v=-0.0251, grad=0.0000), Var(v=-0.0862, grad=-0.0139), Var(v=-0.0305, grad=0.0000), Var(v=-0.0355, grad=0.1928), Var(v=-0.1255, grad=0.0000), Var(v=0.0415, grad=0.0000), Var(v=-0.1654, grad=0.0000), Var(v=-0.2209, grad=-0.0021), Var(v=0.2168, grad=0.1866), Var(v=-0.0132, grad=0.0684), Var(v=0.0627, grad=0.5118)], [Var(v=0.0812, grad=0.1309), Var(v=0.0259, grad=0.0000), Var(v=-0.0425, grad=-0.1220), Var(v=-0.0762, grad=-0.5316), Var(v=-0.0447, grad=-0.8111), Var(v=0.0466, grad=0.0000), Var(v=-0.0713, grad=0.0044), Var(v=0.0835, grad=0.0000), Var(v=-0.1896, grad=-0.0144), Var(v=-0.0369, grad=0.0000), Var(v=0.0869, grad=0.0000), Var(v=-0.2825, grad=0.0000), Var(v=-0.1383, grad=0.0000), Var(v=0.0753, grad=0.0000), Var(v=0.0238, grad=0.0000), Var(v=-0.1326, grad=0.0000), Var(v=-0.0760, grad=-0.4125), Var(v=0.1285, grad=-0.5618), Var(v=-0.0040, grad=0.0000), Var(v=0.1930, grad=0.0000), Var(v=-0.1250, grad=0.6732), Var(v=0.0743, grad=0.0000), Var(v=-0.0012, grad=0.1094), Var(v=-0.0382, grad=0.0000), Var(v=0.0098, grad=-0.1675), Var(v=0.0114, grad=-0.3279), Var(v=-0.0290, grad=0.0000), Var(v=0.0973, grad=-0.1474), Var(v=-0.0368, grad=-0.5140), Var(v=-0.0091, grad=0.0000), Var(v=0.0019, grad=0.4324), Var(v=0.0213, grad=0.0000), Var(v=-0.0722, grad=-0.0844), Var(v=-0.1305, grad=-0.3291), Var(v=0.1267, grad=-0.2104), Var(v=0.1241, grad=0.3084), Var(v=-0.0285, grad=-0.2324), Var(v=-0.1592, grad=0.0000), Var(v=-0.0474, grad=0.1478), Var(v=-0.0978, grad=0.0000), Var(v=-0.1293, grad=-0.0161), Var(v=0.1683, grad=0.0000), Var(v=0.0926, grad=0.2241), Var(v=-0.0346, grad=0.0000), Var(v=-0.2717, grad=0.0000), Var(v=-0.0879, grad=0.0000), Var(v=-0.0587, grad=-0.0024), Var(v=-0.0731, grad=0.2169), Var(v=0.0171, grad=0.0795), Var(v=0.1037, grad=0.5948)], [Var(v=0.1129, grad=0.4599), Var(v=-0.1325, grad=0.0000), Var(v=-0.0118, grad=-0.4286), Var(v=0.1225, grad=-1.8679), Var(v=-0.0673, grad=-2.8500), Var(v=-0.0718, grad=0.0000), Var(v=-0.0568, grad=0.0154), Var(v=-0.1237, grad=0.0000), Var(v=0.2123, grad=-0.0506), Var(v=-0.1138, grad=0.0000), Var(v=-0.2037, grad=0.0000), Var(v=0.1609, grad=0.0000), Var(v=0.0578, grad=0.0000), Var(v=-0.1145, grad=0.0000), Var(v=-0.1214, grad=0.0000), Var(v=0.0372, grad=0.0000), Var(v=0.0846, grad=-1.4495), Var(v=0.2166, grad=-1.9741), Var(v=-0.1848, grad=0.0000), Var(v=-0.1549, grad=0.0000), Var(v=-0.0409, grad=2.3657), Var(v=-0.1752, grad=0.0000), Var(v=0.1059, grad=0.3845), Var(v=-0.0848, grad=0.0000), Var(v=0.1436, grad=-0.5886), Var(v=-0.0107, grad=-1.1522), Var(v=0.0259, grad=0.0000), Var(v=0.1172, grad=-0.5179), Var(v=0.0479, grad=-1.8063), Var(v=-0.1523, grad=0.0000), Var(v=0.0724, grad=1.5194), Var(v=0.0155, grad=0.0000), Var(v=0.0882, grad=-0.2965), Var(v=0.0660, grad=-1.1564), Var(v=0.1231, grad=-0.7393), Var(v=0.0264, grad=1.0838), Var(v=0.0911, grad=-0.8166), Var(v=-0.0199, grad=0.0000), Var(v=-0.0291, grad=0.5194), Var(v=0.0598, grad=0.0000), Var(v=0.1463, grad=-0.0566), Var(v=0.0796, grad=0.0000), Var(v=-0.0559, grad=0.7874), Var(v=-0.0872, grad=0.0000), Var(v=-0.0179, grad=0.0000), Var(v=-0.1432, grad=0.0000), Var(v=0.2134, grad=-0.0086), Var(v=0.0499, grad=0.7621), Var(v=0.1704, grad=0.2795), Var(v=0.2472, grad=2.0902)], [Var(v=0.1924, grad=0.0000), Var(v=-0.0670, grad=0.2254), Var(v=0.1160, grad=0.1208), Var(v=0.0338, grad=0.5264), Var(v=-0.0240, grad=0.0000), Var(v=0.0352, grad=0.0000), Var(v=0.1916, grad=-0.0044), Var(v=0.0063, grad=0.0000), Var(v=0.0762, grad=0.0000), Var(v=-0.1140, grad=0.0514), Var(v=0.0151, grad=0.0000), Var(v=-0.1276, grad=0.0000), Var(v=0.0398, grad=-0.0853), Var(v=0.0393, grad=0.0000), Var(v=-0.1586, grad=0.0000), Var(v=0.0141, grad=0.0000), Var(v=-0.0507, grad=0.0000), Var(v=-0.0425, grad=0.0000), Var(v=-0.0436, grad=0.4776), Var(v=0.0127, grad=0.0000), Var(v=0.0706, grad=-0.6667), Var(v=-0.0789, grad=-0.2723), Var(v=0.1818, grad=0.0000), Var(v=-0.0498, grad=0.1308), Var(v=-0.0979, grad=0.1659), Var(v=0.0558, grad=0.3247), Var(v=-0.0296, grad=-0.6560), Var(v=-0.0494, grad=0.1459), Var(v=-0.0105, grad=0.0000), Var(v=-0.0142, grad=0.0000), Var(v=0.1215, grad=0.0000), Var(v=0.0009, grad=0.0000), Var(v=-0.0454, grad=0.0836), Var(v=-0.0148, grad=0.3259), Var(v=0.1197, grad=0.2083), Var(v=-0.1093, grad=0.0000), Var(v=0.1462, grad=0.2301), Var(v=0.1589, grad=-0.2506), Var(v=-0.0332, grad=-0.1464), Var(v=-0.0378, grad=-0.5809), Var(v=0.0256, grad=0.0159), Var(v=0.0893, grad=0.4424), Var(v=-0.0392, grad=0.0000), Var(v=0.0452, grad=0.0000), Var(v=0.0304, grad=0.0000), Var(v=-0.0514, grad=0.0000), Var(v=0.1180, grad=0.0000), Var(v=-0.0180, grad=-0.2147), Var(v=-0.1717, grad=0.0000), Var(v=0.0145, grad=-0.5890)]] Biases: [Var(v=-0.0273, grad=2.7326), Var(v=-0.0486, grad=4.8637), Var(v=-0.0006, grad=0.0595), Var(v=-0.0026, grad=0.2593), Var(v=0.1693, grad=-16.9324), Var(v=0.0000, grad=0.0000), Var(v=0.0000, grad=-0.0021), Var(v=0.0000, grad=0.0000), Var(v=0.0030, grad=-0.3007), Var(v=-0.0111, grad=1.1093), Var(v=0.0000, grad=0.0000), Var(v=0.0000, grad=0.0000), Var(v=0.0184, grad=-1.8413), Var(v=0.0000, grad=0.0000), Var(v=0.0000, grad=0.0000), Var(v=0.0000, grad=0.0000), Var(v=0.0861, grad=-8.6117), Var(v=0.1173, grad=-11.7284), Var(v=-0.1030, grad=10.3035), Var(v=0.0000, grad=0.0000), Var(v=0.0033, grad=-0.3285), Var(v=0.0587, grad=-5.8743), Var(v=-0.0228, grad=2.2841), Var(v=-0.0282, grad=2.8231), Var(v=-0.0008, grad=0.0817), Var(v=-0.0016, grad=0.1600), Var(v=0.1415, grad=-14.1539), Var(v=-0.0007, grad=0.0719), Var(v=0.1073, grad=-10.7318), Var(v=0.0000, grad=0.0000), Var(v=-0.0903, grad=9.0271), Var(v=0.0000, grad=0.0000), Var(v=-0.0004, grad=0.0412), Var(v=-0.0016, grad=0.1606), Var(v=-0.0010, grad=0.1027), Var(v=-0.0644, grad=6.4391), Var(v=-0.0011, grad=0.1134), Var(v=0.0541, grad=-5.4077), Var(v=0.0007, grad=-0.0721), Var(v=0.1253, grad=-12.5321), Var(v=-0.0001, grad=0.0079), Var(v=-0.0954, grad=9.5445), Var(v=-0.0468, grad=4.6779), Var(v=0.0000, grad=0.0000), Var(v=0.0000, grad=0.0000), Var(v=0.0000, grad=0.0000), Var(v=0.0005, grad=-0.0510), Var(v=0.0011, grad=-0.1058), Var(v=-0.0166, grad=1.6604), Var(v=0.0029, grad=-0.2902)]\n",
            "Layer 2 \n",
            " Weights: [[Var(v=-0.0188, grad=-1.2728)], [Var(v=0.0355, grad=1.9405)], [Var(v=0.0153, grad=1.4075)], [Var(v=0.0816, grad=4.6571)], [Var(v=0.1968, grad=-0.1285)], [Var(v=0.0830, grad=0.0000)], [Var(v=0.0011, grad=-0.2127)], [Var(v=0.1496, grad=0.0000)], [Var(v=0.0538, grad=-5.0311)], [Var(v=0.0082, grad=0.4366)], [Var(v=0.0923, grad=0.0000)], [Var(v=-0.0615, grad=0.0000)], [Var(v=-0.0281, grad=0.7327)], [Var(v=0.1044, grad=0.0000)], [Var(v=0.1187, grad=0.0000)], [Var(v=0.0481, grad=0.0000)], [Var(v=0.1072, grad=-0.7779)], [Var(v=0.1583, grad=-2.2859)], [Var(v=0.0736, grad=4.2704)], [Var(v=-0.1523, grad=0.0000)], [Var(v=-0.1610, grad=-0.1303)], [Var(v=-0.0721, grad=0.5794)], [Var(v=0.0107, grad=-3.7098)], [Var(v=0.0170, grad=1.4822)], [Var(v=0.0026, grad=3.7770)], [Var(v=0.0525, grad=2.6587)], [Var(v=-0.1877, grad=2.7941)], [Var(v=0.0621, grad=-2.6541)], [Var(v=0.1495, grad=-2.5550)], [Var(v=-0.1589, grad=0.0000)], [Var(v=-0.0950, grad=-0.9222)], [Var(v=-0.0901, grad=0.0000)], [Var(v=0.0331, grad=-1.2755)], [Var(v=0.0663, grad=1.3021)], [Var(v=0.0567, grad=-0.5948)], [Var(v=-0.0622, grad=-1.2149)], [Var(v=0.0547, grad=0.1342)], [Var(v=-0.0864, grad=2.5383)], [Var(v=-0.0498, grad=1.4210)], [Var(v=-0.1605, grad=1.9113)], [Var(v=0.0196, grad=-1.5749)], [Var(v=0.0764, grad=3.1267)], [Var(v=-0.0519, grad=-0.2162)], [Var(v=-0.0904, grad=0.0000)], [Var(v=-0.0322, grad=0.0000)], [Var(v=-0.1642, grad=0.0000)], [Var(v=0.0225, grad=-2.1904)], [Var(v=-0.0696, grad=1.7341)], [Var(v=0.0150, grad=-3.4143)], [Var(v=-0.1344, grad=-0.8976)]] Biases: [Var(v=-0.0202, grad=2.0236)]\n",
            "\n",
            "Network after zeroing gradients:\n",
            "Layer 0 \n",
            " Weights: [[Var(v=-0.0030, grad=0.0000), Var(v=-0.0442, grad=0.0000), Var(v=0.0593, grad=0.0000), Var(v=0.0400, grad=0.0000), Var(v=-0.1334, grad=0.0000), Var(v=-0.1281, grad=0.0000), Var(v=0.1328, grad=0.0000), Var(v=0.0568, grad=0.0000), Var(v=0.1545, grad=0.0000), Var(v=0.1098, grad=0.0000), Var(v=-0.0155, grad=0.0000), Var(v=0.0150, grad=0.0000), Var(v=0.0087, grad=0.0000), Var(v=0.1448, grad=0.0000), Var(v=-0.0257, grad=0.0000)]] Biases: [Var(v=-0.0082, grad=0.0000), Var(v=-0.0191, grad=0.0000), Var(v=0.0085, grad=0.0000), Var(v=-0.0404, grad=0.0000), Var(v=-0.0091, grad=0.0000), Var(v=-0.0479, grad=0.0000), Var(v=0.0539, grad=0.0000), Var(v=-0.0546, grad=0.0000), Var(v=0.0167, grad=0.0000), Var(v=0.0763, grad=0.0000), Var(v=-0.0173, grad=0.0000), Var(v=-0.0175, grad=0.0000), Var(v=-0.0279, grad=0.0000), Var(v=0.0002, grad=0.0000), Var(v=-0.0149, grad=0.0000)]\n",
            "Layer 1 \n",
            " Weights: [[Var(v=0.1329, grad=0.0000), Var(v=0.0220, grad=0.0000), Var(v=0.0695, grad=0.0000), Var(v=-0.0986, grad=0.0000), Var(v=0.0333, grad=0.0000), Var(v=-0.0033, grad=0.0000), Var(v=-0.0347, grad=0.0000), Var(v=0.1105, grad=0.0000), Var(v=0.0281, grad=0.0000), Var(v=-0.0500, grad=0.0000), Var(v=0.0910, grad=0.0000), Var(v=0.0325, grad=0.0000), Var(v=-0.0784, grad=0.0000), Var(v=-0.1473, grad=0.0000), Var(v=0.1107, grad=0.0000), Var(v=-0.1948, grad=0.0000), Var(v=0.0635, grad=0.0000), Var(v=-0.0475, grad=0.0000), Var(v=0.0732, grad=0.0000), Var(v=-0.0745, grad=0.0000), Var(v=-0.0390, grad=0.0000), Var(v=-0.0429, grad=0.0000), Var(v=-0.1501, grad=0.0000), Var(v=0.2401, grad=0.0000), Var(v=-0.0240, grad=0.0000), Var(v=-0.0842, grad=0.0000), Var(v=0.0336, grad=0.0000), Var(v=-0.0335, grad=0.0000), Var(v=-0.0357, grad=0.0000), Var(v=0.0306, grad=0.0000), Var(v=-0.1550, grad=0.0000), Var(v=0.0012, grad=0.0000), Var(v=-0.0530, grad=0.0000), Var(v=0.0513, grad=0.0000), Var(v=0.0356, grad=0.0000), Var(v=0.0551, grad=0.0000), Var(v=-0.0034, grad=0.0000), Var(v=0.1098, grad=0.0000), Var(v=0.0145, grad=0.0000), Var(v=-0.0198, grad=0.0000), Var(v=-0.0095, grad=0.0000), Var(v=0.0883, grad=0.0000), Var(v=0.2165, grad=0.0000), Var(v=0.0885, grad=0.0000), Var(v=-0.1164, grad=0.0000), Var(v=-0.0458, grad=0.0000), Var(v=-0.0787, grad=0.0000), Var(v=0.0598, grad=0.0000), Var(v=0.0262, grad=0.0000), Var(v=0.0146, grad=0.0000)], [Var(v=0.0556, grad=0.0000), Var(v=0.0003, grad=0.0000), Var(v=-0.0625, grad=0.0000), Var(v=-0.0011, grad=0.0000), Var(v=0.1656, grad=0.0000), Var(v=-0.0020, grad=0.0000), Var(v=0.0608, grad=0.0000), Var(v=0.0151, grad=0.0000), Var(v=-0.0213, grad=0.0000), Var(v=-0.0929, grad=0.0000), Var(v=-0.0170, grad=0.0000), Var(v=-0.1116, grad=0.0000), Var(v=0.0242, grad=0.0000), Var(v=0.0664, grad=0.0000), Var(v=0.0798, grad=0.0000), Var(v=0.0538, grad=0.0000), Var(v=0.0113, grad=0.0000), Var(v=-0.0363, grad=0.0000), Var(v=0.0283, grad=0.0000), Var(v=0.0209, grad=0.0000), Var(v=-0.0679, grad=0.0000), Var(v=0.0558, grad=0.0000), Var(v=0.0089, grad=0.0000), Var(v=0.0309, grad=0.0000), Var(v=0.1374, grad=0.0000), Var(v=0.0931, grad=0.0000), Var(v=0.0369, grad=0.0000), Var(v=-0.0373, grad=0.0000), Var(v=-0.0723, grad=0.0000), Var(v=-0.1046, grad=0.0000), Var(v=-0.0025, grad=0.0000), Var(v=-0.0042, grad=0.0000), Var(v=0.0354, grad=0.0000), Var(v=0.0802, grad=0.0000), Var(v=-0.2109, grad=0.0000), Var(v=-0.0021, grad=0.0000), Var(v=-0.0734, grad=0.0000), Var(v=0.1898, grad=0.0000), Var(v=-0.0431, grad=0.0000), Var(v=0.0061, grad=0.0000), Var(v=0.1045, grad=0.0000), Var(v=0.0498, grad=0.0000), Var(v=-0.1155, grad=0.0000), Var(v=0.1049, grad=0.0000), Var(v=-0.1421, grad=0.0000), Var(v=-0.0705, grad=0.0000), Var(v=0.1066, grad=0.0000), Var(v=0.0265, grad=0.0000), Var(v=0.0582, grad=0.0000), Var(v=-0.0784, grad=0.0000)], [Var(v=-0.0859, grad=0.0000), Var(v=0.1243, grad=0.0000), Var(v=-0.0508, grad=0.0000), Var(v=-0.0067, grad=0.0000), Var(v=-0.0299, grad=0.0000), Var(v=-0.0837, grad=0.0000), Var(v=0.0482, grad=0.0000), Var(v=0.1887, grad=0.0000), Var(v=0.1748, grad=0.0000), Var(v=0.2341, grad=0.0000), Var(v=0.0108, grad=0.0000), Var(v=-0.1688, grad=0.0000), Var(v=0.0255, grad=0.0000), Var(v=0.0146, grad=0.0000), Var(v=0.0438, grad=0.0000), Var(v=0.0914, grad=0.0000), Var(v=0.0202, grad=0.0000), Var(v=0.0015, grad=0.0000), Var(v=0.0181, grad=0.0000), Var(v=-0.1429, grad=0.0000), Var(v=0.0360, grad=0.0000), Var(v=-0.0284, grad=0.0000), Var(v=0.1101, grad=0.0000), Var(v=-0.1927, grad=0.0000), Var(v=-0.0413, grad=0.0000), Var(v=0.0084, grad=0.0000), Var(v=0.1382, grad=0.0000), Var(v=0.0537, grad=0.0000), Var(v=-0.0197, grad=0.0000), Var(v=-0.1444, grad=0.0000), Var(v=-0.0050, grad=0.0000), Var(v=-0.0277, grad=0.0000), Var(v=0.0072, grad=0.0000), Var(v=-0.0410, grad=0.0000), Var(v=0.1425, grad=0.0000), Var(v=-0.1080, grad=0.0000), Var(v=0.0552, grad=0.0000), Var(v=0.0356, grad=0.0000), Var(v=-0.1405, grad=0.0000), Var(v=-0.1941, grad=0.0000), Var(v=-0.0444, grad=0.0000), Var(v=0.0788, grad=0.0000), Var(v=-0.1610, grad=0.0000), Var(v=-0.0385, grad=0.0000), Var(v=-0.1169, grad=0.0000), Var(v=-0.0216, grad=0.0000), Var(v=-0.1855, grad=0.0000), Var(v=0.0192, grad=0.0000), Var(v=-0.0493, grad=0.0000), Var(v=-0.0231, grad=0.0000)], [Var(v=0.0827, grad=0.0000), Var(v=-0.0224, grad=0.0000), Var(v=-0.0243, grad=0.0000), Var(v=-0.0589, grad=0.0000), Var(v=-0.0980, grad=0.0000), Var(v=-0.1305, grad=0.0000), Var(v=-0.1061, grad=0.0000), Var(v=0.0186, grad=0.0000), Var(v=-0.1527, grad=0.0000), Var(v=0.0296, grad=0.0000), Var(v=-0.1438, grad=0.0000), Var(v=0.0923, grad=0.0000), Var(v=-0.1168, grad=0.0000), Var(v=-0.0616, grad=0.0000), Var(v=0.0961, grad=0.0000), Var(v=0.0380, grad=0.0000), Var(v=-0.0388, grad=0.0000), Var(v=0.0220, grad=0.0000), Var(v=0.0170, grad=0.0000), Var(v=-0.0181, grad=0.0000), Var(v=-0.0991, grad=0.0000), Var(v=-0.1584, grad=0.0000), Var(v=0.0158, grad=0.0000), Var(v=0.0406, grad=0.0000), Var(v=0.2501, grad=0.0000), Var(v=0.1112, grad=0.0000), Var(v=0.0637, grad=0.0000), Var(v=-0.0104, grad=0.0000), Var(v=-0.0654, grad=0.0000), Var(v=-0.1552, grad=0.0000), Var(v=0.0045, grad=0.0000), Var(v=-0.1219, grad=0.0000), Var(v=0.0970, grad=0.0000), Var(v=-0.0847, grad=0.0000), Var(v=0.0683, grad=0.0000), Var(v=-0.1157, grad=0.0000), Var(v=0.1071, grad=0.0000), Var(v=-0.0703, grad=0.0000), Var(v=-0.0101, grad=0.0000), Var(v=0.0674, grad=0.0000), Var(v=0.0794, grad=0.0000), Var(v=-0.0273, grad=0.0000), Var(v=0.0212, grad=0.0000), Var(v=0.1091, grad=0.0000), Var(v=0.1234, grad=0.0000), Var(v=0.0542, grad=0.0000), Var(v=-0.0604, grad=0.0000), Var(v=-0.0863, grad=0.0000), Var(v=0.0156, grad=0.0000), Var(v=-0.0801, grad=0.0000)], [Var(v=0.0463, grad=0.0000), Var(v=0.1946, grad=0.0000), Var(v=0.0964, grad=0.0000), Var(v=0.1180, grad=0.0000), Var(v=-0.0199, grad=0.0000), Var(v=-0.1693, grad=0.0000), Var(v=0.0462, grad=0.0000), Var(v=0.0663, grad=0.0000), Var(v=-0.1270, grad=0.0000), Var(v=-0.0079, grad=0.0000), Var(v=-0.0866, grad=0.0000), Var(v=-0.0908, grad=0.0000), Var(v=-0.0032, grad=0.0000), Var(v=-0.0161, grad=0.0000), Var(v=0.0224, grad=0.0000), Var(v=0.0158, grad=0.0000), Var(v=0.0472, grad=0.0000), Var(v=0.1092, grad=0.0000), Var(v=0.0535, grad=0.0000), Var(v=-0.0885, grad=0.0000), Var(v=0.0532, grad=0.0000), Var(v=0.1577, grad=0.0000), Var(v=0.0238, grad=0.0000), Var(v=-0.0963, grad=0.0000), Var(v=0.0748, grad=0.0000), Var(v=0.0217, grad=0.0000), Var(v=0.0948, grad=0.0000), Var(v=0.0001, grad=0.0000), Var(v=0.1076, grad=0.0000), Var(v=-0.0076, grad=0.0000), Var(v=-0.0053, grad=0.0000), Var(v=-0.0868, grad=0.0000), Var(v=0.0445, grad=0.0000), Var(v=-0.0710, grad=0.0000), Var(v=-0.0360, grad=0.0000), Var(v=-0.0351, grad=0.0000), Var(v=0.1304, grad=0.0000), Var(v=-0.0102, grad=0.0000), Var(v=0.0998, grad=0.0000), Var(v=0.0768, grad=0.0000), Var(v=0.0329, grad=0.0000), Var(v=0.0476, grad=0.0000), Var(v=-0.1016, grad=0.0000), Var(v=0.0182, grad=0.0000), Var(v=-0.0215, grad=0.0000), Var(v=-0.1536, grad=0.0000), Var(v=0.0242, grad=0.0000), Var(v=0.0105, grad=0.0000), Var(v=0.0765, grad=0.0000), Var(v=0.0542, grad=0.0000)], [Var(v=-0.1601, grad=0.0000), Var(v=-0.0390, grad=0.0000), Var(v=0.0434, grad=0.0000), Var(v=0.1614, grad=0.0000), Var(v=-0.1359, grad=0.0000), Var(v=-0.0155, grad=0.0000), Var(v=-0.1010, grad=0.0000), Var(v=-0.1954, grad=0.0000), Var(v=0.0470, grad=0.0000), Var(v=0.0833, grad=0.0000), Var(v=0.0089, grad=0.0000), Var(v=-0.1845, grad=0.0000), Var(v=0.0723, grad=0.0000), Var(v=-0.0371, grad=0.0000), Var(v=0.0009, grad=0.0000), Var(v=-0.1439, grad=0.0000), Var(v=-0.1658, grad=0.0000), Var(v=-0.0594, grad=0.0000), Var(v=0.1476, grad=0.0000), Var(v=-0.1080, grad=0.0000), Var(v=0.0586, grad=0.0000), Var(v=-0.0881, grad=0.0000), Var(v=-0.0645, grad=0.0000), Var(v=0.1156, grad=0.0000), Var(v=0.2120, grad=0.0000), Var(v=0.1097, grad=0.0000), Var(v=0.1056, grad=0.0000), Var(v=0.0329, grad=0.0000), Var(v=-0.0676, grad=0.0000), Var(v=0.0143, grad=0.0000), Var(v=-0.1107, grad=0.0000), Var(v=0.0038, grad=0.0000), Var(v=0.0321, grad=0.0000), Var(v=0.1412, grad=0.0000), Var(v=0.0587, grad=0.0000), Var(v=-0.0932, grad=0.0000), Var(v=0.1039, grad=0.0000), Var(v=0.0731, grad=0.0000), Var(v=0.0569, grad=0.0000), Var(v=0.1196, grad=0.0000), Var(v=-0.0712, grad=0.0000), Var(v=0.0417, grad=0.0000), Var(v=0.0018, grad=0.0000), Var(v=-0.1331, grad=0.0000), Var(v=-0.1200, grad=0.0000), Var(v=-0.0516, grad=0.0000), Var(v=-0.0627, grad=0.0000), Var(v=0.1293, grad=0.0000), Var(v=-0.0394, grad=0.0000), Var(v=0.0647, grad=0.0000)], [Var(v=-0.0909, grad=0.0000), Var(v=0.0376, grad=0.0000), Var(v=0.0079, grad=0.0000), Var(v=0.0315, grad=0.0000), Var(v=-0.0227, grad=0.0000), Var(v=0.1323, grad=0.0000), Var(v=0.0809, grad=0.0000), Var(v=0.0460, grad=0.0000), Var(v=0.0784, grad=0.0000), Var(v=-0.1909, grad=0.0000), Var(v=0.0832, grad=0.0000), Var(v=0.1567, grad=0.0000), Var(v=-0.0351, grad=0.0000), Var(v=0.0898, grad=0.0000), Var(v=-0.0382, grad=0.0000), Var(v=-0.1957, grad=0.0000), Var(v=0.0310, grad=0.0000), Var(v=0.0486, grad=0.0000), Var(v=-0.0716, grad=0.0000), Var(v=0.0077, grad=0.0000), Var(v=-0.1235, grad=0.0000), Var(v=-0.1014, grad=0.0000), Var(v=0.0484, grad=0.0000), Var(v=-0.2236, grad=0.0000), Var(v=0.1121, grad=0.0000), Var(v=0.0639, grad=0.0000), Var(v=-0.0881, grad=0.0000), Var(v=0.0276, grad=0.0000), Var(v=0.0787, grad=0.0000), Var(v=-0.0157, grad=0.0000), Var(v=-0.1377, grad=0.0000), Var(v=0.0719, grad=0.0000), Var(v=-0.1573, grad=0.0000), Var(v=0.0656, grad=0.0000), Var(v=-0.0197, grad=0.0000), Var(v=-0.0193, grad=0.0000), Var(v=0.0931, grad=0.0000), Var(v=0.1057, grad=0.0000), Var(v=0.0958, grad=0.0000), Var(v=-0.0516, grad=0.0000), Var(v=0.1199, grad=0.0000), Var(v=-0.1938, grad=0.0000), Var(v=0.0937, grad=0.0000), Var(v=-0.0337, grad=0.0000), Var(v=0.0597, grad=0.0000), Var(v=0.1994, grad=0.0000), Var(v=-0.0002, grad=0.0000), Var(v=-0.0559, grad=0.0000), Var(v=0.2550, grad=0.0000), Var(v=-0.0849, grad=0.0000)], [Var(v=-0.0712, grad=0.0000), Var(v=0.1777, grad=0.0000), Var(v=-0.0726, grad=0.0000), Var(v=0.0800, grad=0.0000), Var(v=-0.0895, grad=0.0000), Var(v=-0.0862, grad=0.0000), Var(v=-0.2063, grad=0.0000), Var(v=-0.0243, grad=0.0000), Var(v=-0.0914, grad=0.0000), Var(v=-0.0638, grad=0.0000), Var(v=-0.1278, grad=0.0000), Var(v=0.0689, grad=0.0000), Var(v=-0.0547, grad=0.0000), Var(v=0.0296, grad=0.0000), Var(v=-0.1228, grad=0.0000), Var(v=0.1057, grad=0.0000), Var(v=0.1252, grad=0.0000), Var(v=0.0097, grad=0.0000), Var(v=-0.0042, grad=0.0000), Var(v=-0.0008, grad=0.0000), Var(v=-0.1532, grad=0.0000), Var(v=-0.0438, grad=0.0000), Var(v=-0.1283, grad=0.0000), Var(v=-0.0841, grad=0.0000), Var(v=-0.0013, grad=0.0000), Var(v=0.0917, grad=0.0000), Var(v=0.0274, grad=0.0000), Var(v=0.0461, grad=0.0000), Var(v=-0.1521, grad=0.0000), Var(v=0.0029, grad=0.0000), Var(v=0.0374, grad=0.0000), Var(v=0.0605, grad=0.0000), Var(v=0.0684, grad=0.0000), Var(v=-0.1061, grad=0.0000), Var(v=-0.0344, grad=0.0000), Var(v=-0.0408, grad=0.0000), Var(v=0.0020, grad=0.0000), Var(v=0.0652, grad=0.0000), Var(v=0.0900, grad=0.0000), Var(v=0.0799, grad=0.0000), Var(v=-0.0650, grad=0.0000), Var(v=0.1333, grad=0.0000), Var(v=-0.1402, grad=0.0000), Var(v=-0.0393, grad=0.0000), Var(v=0.1618, grad=0.0000), Var(v=0.0279, grad=0.0000), Var(v=-0.1414, grad=0.0000), Var(v=-0.1736, grad=0.0000), Var(v=-0.0852, grad=0.0000), Var(v=-0.1223, grad=0.0000)], [Var(v=0.0124, grad=0.0000), Var(v=0.0670, grad=0.0000), Var(v=0.1418, grad=0.0000), Var(v=-0.0469, grad=0.0000), Var(v=0.1253, grad=0.0000), Var(v=-0.0326, grad=0.0000), Var(v=0.1155, grad=0.0000), Var(v=-0.1383, grad=0.0000), Var(v=0.0696, grad=0.0000), Var(v=-0.1008, grad=0.0000), Var(v=-0.1566, grad=0.0000), Var(v=-0.1177, grad=0.0000), Var(v=-0.0214, grad=0.0000), Var(v=-0.0990, grad=0.0000), Var(v=-0.1086, grad=0.0000), Var(v=0.0133, grad=0.0000), Var(v=0.0181, grad=0.0000), Var(v=-0.0503, grad=0.0000), Var(v=-0.2428, grad=0.0000), Var(v=-0.0433, grad=0.0000), Var(v=0.1034, grad=0.0000), Var(v=0.0874, grad=0.0000), Var(v=0.0891, grad=0.0000), Var(v=-0.0195, grad=0.0000), Var(v=-0.0538, grad=0.0000), Var(v=0.0635, grad=0.0000), Var(v=-0.0666, grad=0.0000), Var(v=0.0677, grad=0.0000), Var(v=0.1623, grad=0.0000), Var(v=0.0855, grad=0.0000), Var(v=0.0192, grad=0.0000), Var(v=-0.0496, grad=0.0000), Var(v=0.1826, grad=0.0000), Var(v=0.0494, grad=0.0000), Var(v=-0.1765, grad=0.0000), Var(v=0.0542, grad=0.0000), Var(v=0.1544, grad=0.0000), Var(v=-0.1558, grad=0.0000), Var(v=0.0817, grad=0.0000), Var(v=-0.0357, grad=0.0000), Var(v=0.0045, grad=0.0000), Var(v=-0.1388, grad=0.0000), Var(v=0.0252, grad=0.0000), Var(v=-0.0086, grad=0.0000), Var(v=-0.0409, grad=0.0000), Var(v=-0.1569, grad=0.0000), Var(v=0.0794, grad=0.0000), Var(v=-0.0534, grad=0.0000), Var(v=-0.0542, grad=0.0000), Var(v=-0.1465, grad=0.0000)], [Var(v=-0.2276, grad=0.0000), Var(v=0.1035, grad=0.0000), Var(v=0.1460, grad=0.0000), Var(v=0.0222, grad=0.0000), Var(v=0.1125, grad=0.0000), Var(v=-0.1572, grad=0.0000), Var(v=-0.0633, grad=0.0000), Var(v=-0.0163, grad=0.0000), Var(v=0.0626, grad=0.0000), Var(v=-0.0715, grad=0.0000), Var(v=-0.0067, grad=0.0000), Var(v=0.0360, grad=0.0000), Var(v=-0.1082, grad=0.0000), Var(v=-0.1404, grad=0.0000), Var(v=0.1338, grad=0.0000), Var(v=0.1193, grad=0.0000), Var(v=0.0206, grad=0.0000), Var(v=-0.1031, grad=0.0000), Var(v=0.0373, grad=0.0000), Var(v=-0.0649, grad=0.0000), Var(v=-0.1311, grad=0.0000), Var(v=-0.1617, grad=0.0000), Var(v=0.0458, grad=0.0000), Var(v=-0.0179, grad=0.0000), Var(v=-0.1883, grad=0.0000), Var(v=-0.0076, grad=0.0000), Var(v=0.0607, grad=0.0000), Var(v=0.0770, grad=0.0000), Var(v=-0.0023, grad=0.0000), Var(v=-0.0323, grad=0.0000), Var(v=-0.0376, grad=0.0000), Var(v=0.0609, grad=0.0000), Var(v=-0.1976, grad=0.0000), Var(v=-0.0402, grad=0.0000), Var(v=0.2372, grad=0.0000), Var(v=-0.0609, grad=0.0000), Var(v=-0.1483, grad=0.0000), Var(v=-0.0987, grad=0.0000), Var(v=-0.1509, grad=0.0000), Var(v=-0.1045, grad=0.0000), Var(v=-0.0182, grad=0.0000), Var(v=-0.1641, grad=0.0000), Var(v=0.1412, grad=0.0000), Var(v=-0.0390, grad=0.0000), Var(v=-0.0670, grad=0.0000), Var(v=0.1708, grad=0.0000), Var(v=-0.0187, grad=0.0000), Var(v=0.1169, grad=0.0000), Var(v=-0.0031, grad=0.0000), Var(v=-0.3947, grad=0.0000)], [Var(v=0.0806, grad=0.0000), Var(v=-0.0619, grad=0.0000), Var(v=0.0584, grad=0.0000), Var(v=-0.0020, grad=0.0000), Var(v=-0.1628, grad=0.0000), Var(v=0.0916, grad=0.0000), Var(v=0.2152, grad=0.0000), Var(v=0.0529, grad=0.0000), Var(v=-0.1237, grad=0.0000), Var(v=0.0396, grad=0.0000), Var(v=0.1535, grad=0.0000), Var(v=-0.0379, grad=0.0000), Var(v=-0.1592, grad=0.0000), Var(v=0.0130, grad=0.0000), Var(v=-0.1826, grad=0.0000), Var(v=-0.0353, grad=0.0000), Var(v=-0.1312, grad=0.0000), Var(v=-0.0243, grad=0.0000), Var(v=0.0472, grad=0.0000), Var(v=0.0909, grad=0.0000), Var(v=-0.0262, grad=0.0000), Var(v=0.1221, grad=0.0000), Var(v=-0.0398, grad=0.0000), Var(v=0.1019, grad=0.0000), Var(v=-0.0659, grad=0.0000), Var(v=-0.0138, grad=0.0000), Var(v=0.1011, grad=0.0000), Var(v=-0.0299, grad=0.0000), Var(v=0.0402, grad=0.0000), Var(v=-0.1194, grad=0.0000), Var(v=-0.0600, grad=0.0000), Var(v=0.0475, grad=0.0000), Var(v=-0.0824, grad=0.0000), Var(v=-0.0251, grad=0.0000), Var(v=0.0617, grad=0.0000), Var(v=-0.0318, grad=0.0000), Var(v=0.0421, grad=0.0000), Var(v=-0.0699, grad=0.0000), Var(v=0.0325, grad=0.0000), Var(v=-0.1102, grad=0.0000), Var(v=0.1023, grad=0.0000), Var(v=0.0859, grad=0.0000), Var(v=-0.2827, grad=0.0000), Var(v=-0.0237, grad=0.0000), Var(v=-0.1606, grad=0.0000), Var(v=-0.0905, grad=0.0000), Var(v=-0.1556, grad=0.0000), Var(v=0.0661, grad=0.0000), Var(v=-0.0715, grad=0.0000), Var(v=-0.0100, grad=0.0000)], [Var(v=0.1432, grad=0.0000), Var(v=-0.0756, grad=0.0000), Var(v=-0.0969, grad=0.0000), Var(v=0.0467, grad=0.0000), Var(v=0.1824, grad=0.0000), Var(v=0.1964, grad=0.0000), Var(v=-0.0883, grad=0.0000), Var(v=-0.0585, grad=0.0000), Var(v=0.0664, grad=0.0000), Var(v=0.2299, grad=0.0000), Var(v=-0.0932, grad=0.0000), Var(v=-0.1359, grad=0.0000), Var(v=0.0075, grad=0.0000), Var(v=0.1286, grad=0.0000), Var(v=-0.1521, grad=0.0000), Var(v=0.0698, grad=0.0000), Var(v=-0.0688, grad=0.0000), Var(v=-0.0464, grad=0.0000), Var(v=-0.1019, grad=0.0000), Var(v=-0.1769, grad=0.0000), Var(v=0.1280, grad=0.0000), Var(v=-0.0061, grad=0.0000), Var(v=-0.0453, grad=0.0000), Var(v=-0.0704, grad=0.0000), Var(v=0.0505, grad=0.0000), Var(v=-0.0127, grad=0.0000), Var(v=0.0509, grad=0.0000), Var(v=-0.1699, grad=0.0000), Var(v=-0.0069, grad=0.0000), Var(v=0.1939, grad=0.0000), Var(v=0.0404, grad=0.0000), Var(v=-0.0677, grad=0.0000), Var(v=0.1304, grad=0.0000), Var(v=0.0395, grad=0.0000), Var(v=0.0291, grad=0.0000), Var(v=0.0013, grad=0.0000), Var(v=0.1444, grad=0.0000), Var(v=0.1126, grad=0.0000), Var(v=0.0513, grad=0.0000), Var(v=-0.0251, grad=0.0000), Var(v=-0.0862, grad=0.0000), Var(v=-0.0305, grad=0.0000), Var(v=-0.0355, grad=0.0000), Var(v=-0.1255, grad=0.0000), Var(v=0.0415, grad=0.0000), Var(v=-0.1654, grad=0.0000), Var(v=-0.2209, grad=0.0000), Var(v=0.2168, grad=0.0000), Var(v=-0.0132, grad=0.0000), Var(v=0.0627, grad=0.0000)], [Var(v=0.0812, grad=0.0000), Var(v=0.0259, grad=0.0000), Var(v=-0.0425, grad=0.0000), Var(v=-0.0762, grad=0.0000), Var(v=-0.0447, grad=0.0000), Var(v=0.0466, grad=0.0000), Var(v=-0.0713, grad=0.0000), Var(v=0.0835, grad=0.0000), Var(v=-0.1896, grad=0.0000), Var(v=-0.0369, grad=0.0000), Var(v=0.0869, grad=0.0000), Var(v=-0.2825, grad=0.0000), Var(v=-0.1383, grad=0.0000), Var(v=0.0753, grad=0.0000), Var(v=0.0238, grad=0.0000), Var(v=-0.1326, grad=0.0000), Var(v=-0.0760, grad=0.0000), Var(v=0.1285, grad=0.0000), Var(v=-0.0040, grad=0.0000), Var(v=0.1930, grad=0.0000), Var(v=-0.1250, grad=0.0000), Var(v=0.0743, grad=0.0000), Var(v=-0.0012, grad=0.0000), Var(v=-0.0382, grad=0.0000), Var(v=0.0098, grad=0.0000), Var(v=0.0114, grad=0.0000), Var(v=-0.0290, grad=0.0000), Var(v=0.0973, grad=0.0000), Var(v=-0.0368, grad=0.0000), Var(v=-0.0091, grad=0.0000), Var(v=0.0019, grad=0.0000), Var(v=0.0213, grad=0.0000), Var(v=-0.0722, grad=0.0000), Var(v=-0.1305, grad=0.0000), Var(v=0.1267, grad=0.0000), Var(v=0.1241, grad=0.0000), Var(v=-0.0285, grad=0.0000), Var(v=-0.1592, grad=0.0000), Var(v=-0.0474, grad=0.0000), Var(v=-0.0978, grad=0.0000), Var(v=-0.1293, grad=0.0000), Var(v=0.1683, grad=0.0000), Var(v=0.0926, grad=0.0000), Var(v=-0.0346, grad=0.0000), Var(v=-0.2717, grad=0.0000), Var(v=-0.0879, grad=0.0000), Var(v=-0.0587, grad=0.0000), Var(v=-0.0731, grad=0.0000), Var(v=0.0171, grad=0.0000), Var(v=0.1037, grad=0.0000)], [Var(v=0.1129, grad=0.0000), Var(v=-0.1325, grad=0.0000), Var(v=-0.0118, grad=0.0000), Var(v=0.1225, grad=0.0000), Var(v=-0.0673, grad=0.0000), Var(v=-0.0718, grad=0.0000), Var(v=-0.0568, grad=0.0000), Var(v=-0.1237, grad=0.0000), Var(v=0.2123, grad=0.0000), Var(v=-0.1138, grad=0.0000), Var(v=-0.2037, grad=0.0000), Var(v=0.1609, grad=0.0000), Var(v=0.0578, grad=0.0000), Var(v=-0.1145, grad=0.0000), Var(v=-0.1214, grad=0.0000), Var(v=0.0372, grad=0.0000), Var(v=0.0846, grad=0.0000), Var(v=0.2166, grad=0.0000), Var(v=-0.1848, grad=0.0000), Var(v=-0.1549, grad=0.0000), Var(v=-0.0409, grad=0.0000), Var(v=-0.1752, grad=0.0000), Var(v=0.1059, grad=0.0000), Var(v=-0.0848, grad=0.0000), Var(v=0.1436, grad=0.0000), Var(v=-0.0107, grad=0.0000), Var(v=0.0259, grad=0.0000), Var(v=0.1172, grad=0.0000), Var(v=0.0479, grad=0.0000), Var(v=-0.1523, grad=0.0000), Var(v=0.0724, grad=0.0000), Var(v=0.0155, grad=0.0000), Var(v=0.0882, grad=0.0000), Var(v=0.0660, grad=0.0000), Var(v=0.1231, grad=0.0000), Var(v=0.0264, grad=0.0000), Var(v=0.0911, grad=0.0000), Var(v=-0.0199, grad=0.0000), Var(v=-0.0291, grad=0.0000), Var(v=0.0598, grad=0.0000), Var(v=0.1463, grad=0.0000), Var(v=0.0796, grad=0.0000), Var(v=-0.0559, grad=0.0000), Var(v=-0.0872, grad=0.0000), Var(v=-0.0179, grad=0.0000), Var(v=-0.1432, grad=0.0000), Var(v=0.2134, grad=0.0000), Var(v=0.0499, grad=0.0000), Var(v=0.1704, grad=0.0000), Var(v=0.2472, grad=0.0000)], [Var(v=0.1924, grad=0.0000), Var(v=-0.0670, grad=0.0000), Var(v=0.1160, grad=0.0000), Var(v=0.0338, grad=0.0000), Var(v=-0.0240, grad=0.0000), Var(v=0.0352, grad=0.0000), Var(v=0.1916, grad=0.0000), Var(v=0.0063, grad=0.0000), Var(v=0.0762, grad=0.0000), Var(v=-0.1140, grad=0.0000), Var(v=0.0151, grad=0.0000), Var(v=-0.1276, grad=0.0000), Var(v=0.0398, grad=0.0000), Var(v=0.0393, grad=0.0000), Var(v=-0.1586, grad=0.0000), Var(v=0.0141, grad=0.0000), Var(v=-0.0507, grad=0.0000), Var(v=-0.0425, grad=0.0000), Var(v=-0.0436, grad=0.0000), Var(v=0.0127, grad=0.0000), Var(v=0.0706, grad=0.0000), Var(v=-0.0789, grad=0.0000), Var(v=0.1818, grad=0.0000), Var(v=-0.0498, grad=0.0000), Var(v=-0.0979, grad=0.0000), Var(v=0.0558, grad=0.0000), Var(v=-0.0296, grad=0.0000), Var(v=-0.0494, grad=0.0000), Var(v=-0.0105, grad=0.0000), Var(v=-0.0142, grad=0.0000), Var(v=0.1215, grad=0.0000), Var(v=0.0009, grad=0.0000), Var(v=-0.0454, grad=0.0000), Var(v=-0.0148, grad=0.0000), Var(v=0.1197, grad=0.0000), Var(v=-0.1093, grad=0.0000), Var(v=0.1462, grad=0.0000), Var(v=0.1589, grad=0.0000), Var(v=-0.0332, grad=0.0000), Var(v=-0.0378, grad=0.0000), Var(v=0.0256, grad=0.0000), Var(v=0.0893, grad=0.0000), Var(v=-0.0392, grad=0.0000), Var(v=0.0452, grad=0.0000), Var(v=0.0304, grad=0.0000), Var(v=-0.0514, grad=0.0000), Var(v=0.1180, grad=0.0000), Var(v=-0.0180, grad=0.0000), Var(v=-0.1717, grad=0.0000), Var(v=0.0145, grad=0.0000)]] Biases: [Var(v=-0.0273, grad=0.0000), Var(v=-0.0486, grad=0.0000), Var(v=-0.0006, grad=0.0000), Var(v=-0.0026, grad=0.0000), Var(v=0.1693, grad=0.0000), Var(v=0.0000, grad=0.0000), Var(v=0.0000, grad=0.0000), Var(v=0.0000, grad=0.0000), Var(v=0.0030, grad=0.0000), Var(v=-0.0111, grad=0.0000), Var(v=0.0000, grad=0.0000), Var(v=0.0000, grad=0.0000), Var(v=0.0184, grad=0.0000), Var(v=0.0000, grad=0.0000), Var(v=0.0000, grad=0.0000), Var(v=0.0000, grad=0.0000), Var(v=0.0861, grad=0.0000), Var(v=0.1173, grad=0.0000), Var(v=-0.1030, grad=0.0000), Var(v=0.0000, grad=0.0000), Var(v=0.0033, grad=0.0000), Var(v=0.0587, grad=0.0000), Var(v=-0.0228, grad=0.0000), Var(v=-0.0282, grad=0.0000), Var(v=-0.0008, grad=0.0000), Var(v=-0.0016, grad=0.0000), Var(v=0.1415, grad=0.0000), Var(v=-0.0007, grad=0.0000), Var(v=0.1073, grad=0.0000), Var(v=0.0000, grad=0.0000), Var(v=-0.0903, grad=0.0000), Var(v=0.0000, grad=0.0000), Var(v=-0.0004, grad=0.0000), Var(v=-0.0016, grad=0.0000), Var(v=-0.0010, grad=0.0000), Var(v=-0.0644, grad=0.0000), Var(v=-0.0011, grad=0.0000), Var(v=0.0541, grad=0.0000), Var(v=0.0007, grad=0.0000), Var(v=0.1253, grad=0.0000), Var(v=-0.0001, grad=0.0000), Var(v=-0.0954, grad=0.0000), Var(v=-0.0468, grad=0.0000), Var(v=0.0000, grad=0.0000), Var(v=0.0000, grad=0.0000), Var(v=0.0000, grad=0.0000), Var(v=0.0005, grad=0.0000), Var(v=0.0011, grad=0.0000), Var(v=-0.0166, grad=0.0000), Var(v=0.0029, grad=0.0000)]\n",
            "Layer 2 \n",
            " Weights: [[Var(v=-0.0188, grad=0.0000)], [Var(v=0.0355, grad=0.0000)], [Var(v=0.0153, grad=0.0000)], [Var(v=0.0816, grad=0.0000)], [Var(v=0.1968, grad=0.0000)], [Var(v=0.0830, grad=0.0000)], [Var(v=0.0011, grad=0.0000)], [Var(v=0.1496, grad=0.0000)], [Var(v=0.0538, grad=0.0000)], [Var(v=0.0082, grad=0.0000)], [Var(v=0.0923, grad=0.0000)], [Var(v=-0.0615, grad=0.0000)], [Var(v=-0.0281, grad=0.0000)], [Var(v=0.1044, grad=0.0000)], [Var(v=0.1187, grad=0.0000)], [Var(v=0.0481, grad=0.0000)], [Var(v=0.1072, grad=0.0000)], [Var(v=0.1583, grad=0.0000)], [Var(v=0.0736, grad=0.0000)], [Var(v=-0.1523, grad=0.0000)], [Var(v=-0.1610, grad=0.0000)], [Var(v=-0.0721, grad=0.0000)], [Var(v=0.0107, grad=0.0000)], [Var(v=0.0170, grad=0.0000)], [Var(v=0.0026, grad=0.0000)], [Var(v=0.0525, grad=0.0000)], [Var(v=-0.1877, grad=0.0000)], [Var(v=0.0621, grad=0.0000)], [Var(v=0.1495, grad=0.0000)], [Var(v=-0.1589, grad=0.0000)], [Var(v=-0.0950, grad=0.0000)], [Var(v=-0.0901, grad=0.0000)], [Var(v=0.0331, grad=0.0000)], [Var(v=0.0663, grad=0.0000)], [Var(v=0.0567, grad=0.0000)], [Var(v=-0.0622, grad=0.0000)], [Var(v=0.0547, grad=0.0000)], [Var(v=-0.0864, grad=0.0000)], [Var(v=-0.0498, grad=0.0000)], [Var(v=-0.1605, grad=0.0000)], [Var(v=0.0196, grad=0.0000)], [Var(v=0.0764, grad=0.0000)], [Var(v=-0.0519, grad=0.0000)], [Var(v=-0.0904, grad=0.0000)], [Var(v=-0.0322, grad=0.0000)], [Var(v=-0.1642, grad=0.0000)], [Var(v=0.0225, grad=0.0000)], [Var(v=-0.0696, grad=0.0000)], [Var(v=0.0150, grad=0.0000)], [Var(v=-0.1344, grad=0.0000)]] Biases: [Var(v=-0.0202, grad=0.0000)]\n"
          ]
        },
        {
          "output_type": "execute_result",
          "data": {
            "text/plain": [
              "[None, None, None]"
            ]
          },
          "metadata": {},
          "execution_count": 227
        }
      ],
      "source": [
        "print('Network before update:')\n",
        "[print('Layer', i, '\\n', NN[i]) for i in range(len(NN))]\n",
        "\n",
        "def parameters(network):\n",
        "  params = []\n",
        "  for layer in range(len(network)):\n",
        "    params += network[layer].parameters()\n",
        "  return params\n",
        "\n",
        "def update_parameters(params, learning_rate=0.01):\n",
        "  for p in params:\n",
        "    p.v -= learning_rate*p.grad\n",
        "\n",
        "def zero_gradients(params):\n",
        "  for p in params:\n",
        "    p.grad = 0.0\n",
        "\n",
        "update_parameters(parameters(NN))\n",
        "\n",
        "print('\\nNetwork after update:')\n",
        "[print('Layer', i, '\\n', NN[i]) for i in range(len(NN))]\n",
        "\n",
        "zero_gradients(parameters(NN))\n",
        "\n",
        "print('\\nNetwork after zeroing gradients:')\n",
        "[print('Layer', i, '\\n', NN[i]) for i in range(len(NN))]"
      ]
    },
    {
      "cell_type": "code",
      "execution_count": 228,
      "metadata": {
        "id": "woWYpdw6FtIO"
      },
      "outputs": [],
      "source": [
        "# Initialize an arbitrary neural network\n",
        "NN = [\n",
        "    DenseLayer(1, 8, lambda x: x.relu()),\n",
        "    DenseLayer(8, 1, lambda x: x.identity())\n",
        "]\n",
        "\n",
        "# Recommended hyper-parameters for 3-D:\n",
        "#NN = [\n",
        "#    DenseLayer(3, 16, lambda x: x.relu()),\n",
        "#    DenseLayer(16, 1, lambda x: x.identity())\n",
        "#]\n",
        "\n",
        "\n",
        "### Notice that, when we switch from tanh to relu activation, we decrease the learning rate. This is due the stability of the gradients\n",
        "## of the activation functions."
      ]
    },
    {
      "cell_type": "code",
      "execution_count": 229,
      "metadata": {
        "id": "mdqaqYBVFtIR"
      },
      "outputs": [],
      "source": [
        "# Initialize training hyperparameters\n",
        "EPOCHS = 200\n",
        "LEARN_R = 2e-3"
      ]
    },
    {
      "cell_type": "code",
      "execution_count": 230,
      "metadata": {
        "colab": {
          "base_uri": "https://localhost:8080/"
        },
        "id": "5kfg76GMFtIW",
        "outputId": "140bd008-e639-487b-ab41-84dd3d994e1c",
        "scrolled": true
      },
      "outputs": [
        {
          "output_type": "stream",
          "name": "stdout",
          "text": [
            "   0 ( 0.00%) Train loss: 105.013 \t Validation loss: 102.327\n",
            "  10 ( 5.00%) Train loss: 24.617 \t Validation loss: 17.731\n",
            "  20 (10.00%) Train loss: 15.228 \t Validation loss: 11.268\n",
            "  30 (15.00%) Train loss: 14.658 \t Validation loss: 10.823\n",
            "  40 (20.00%) Train loss: 14.291 \t Validation loss: 10.642\n",
            "  50 (25.00%) Train loss: 13.909 \t Validation loss: 10.463\n",
            "  60 (30.00%) Train loss: 13.480 \t Validation loss: 10.250\n",
            "  70 (35.00%) Train loss: 13.086 \t Validation loss: 10.010\n",
            "  80 (40.00%) Train loss: 12.658 \t Validation loss: 9.790\n",
            "  90 (45.00%) Train loss: 12.321 \t Validation loss: 9.596\n",
            " 100 (50.00%) Train loss: 12.118 \t Validation loss: 9.409\n",
            " 110 (55.00%) Train loss: 12.021 \t Validation loss: 9.297\n",
            " 120 (60.00%) Train loss: 11.962 \t Validation loss: 9.218\n",
            " 130 (65.00%) Train loss: 11.925 \t Validation loss: 9.148\n",
            " 140 (70.00%) Train loss: 11.899 \t Validation loss: 9.093\n",
            " 150 (75.00%) Train loss: 11.886 \t Validation loss: 9.064\n",
            " 160 (80.00%) Train loss: 11.881 \t Validation loss: 9.051\n",
            " 170 (85.00%) Train loss: 11.877 \t Validation loss: 9.040\n",
            " 180 (90.00%) Train loss: 11.874 \t Validation loss: 9.032\n",
            " 190 (95.00%) Train loss: 11.871 \t Validation loss: 9.025\n"
          ]
        }
      ],
      "source": [
        "train_loss = []\n",
        "val_loss = []\n",
        "\n",
        "for e in range(EPOCHS):\n",
        "\n",
        "    # Forward pass and loss computation\n",
        "    Loss = squared_loss(y_train, forward(x_train, NN))\n",
        "\n",
        "    # Backward pass\n",
        "    Loss.backward()\n",
        "\n",
        "    # gradient descent update\n",
        "    update_parameters(parameters(NN), LEARN_R)\n",
        "    zero_gradients(parameters(NN))\n",
        "\n",
        "    # Training loss\n",
        "    train_loss.append(Loss.v)\n",
        "\n",
        "    # Validation\n",
        "    Loss_validation = squared_loss(y_validation, forward(x_validation, NN))\n",
        "    val_loss.append(Loss_validation.v)\n",
        "\n",
        "    if e%10==0:\n",
        "        print(\"{:4d}\".format(e),\n",
        "              \"({:5.2f}%)\".format(e/EPOCHS*100),\n",
        "              \"Train loss: {:4.3f} \\t Validation loss: {:4.3f}\".format(train_loss[-1], val_loss[-1]))\n",
        "\n"
      ]
    },
    {
      "cell_type": "code",
      "execution_count": 231,
      "metadata": {
        "colab": {
          "base_uri": "https://localhost:8080/",
          "height": 430
        },
        "id": "VetyRWFwFtIY",
        "outputId": "17d3ab1d-43b4-4ed8-89bc-5c319fd4f9a3"
      },
      "outputs": [
        {
          "output_type": "display_data",
          "data": {
            "text/plain": [
              "<Figure size 640x480 with 1 Axes>"
            ],
            "image/png": "[encoded data removed]"
          },
          "metadata": {}
        }
      ],
      "source": [
        "plt.plot(range(len(train_loss)), train_loss);\n",
        "plt.plot(range(len(val_loss)), val_loss);"
      ]
    },
    {
      "cell_type": "markdown",
      "metadata": {
        "id": "8OgmIrM9FtIb"
      },
      "source": [
        "# Testing\n",
        "\n",
        "We have kept the calculation of the test error separate in order to emphasize that you should not use the test set in optimization."
      ]
    },
    {
      "cell_type": "code",
      "execution_count": 232,
      "metadata": {
        "id": "HmNi7S-vFtIc"
      },
      "outputs": [],
      "source": [
        "output_test = forward(x_test, NN)"
      ]
    },
    {
      "cell_type": "code",
      "execution_count": 233,
      "metadata": {
        "colab": {
          "base_uri": "https://localhost:8080/",
          "height": 504
        },
        "id": "7mmJOTSEFtIf",
        "outputId": "9b808700-0461-411c-852f-a2af53aa4142"
      },
      "outputs": [
        {
          "output_type": "stream",
          "name": "stdout",
          "text": [
            "Test loss:  9.829\n"
          ]
        },
        {
          "output_type": "display_data",
          "data": {
            "text/plain": [
              "<Figure size 640x480 with 1 Axes>"
            ],
            "image/png": "[encoded data removed]"
          },
          "metadata": {}
        }
      ],
      "source": [
        "y_test_np = Var_to_nparray(y_test)\n",
        "plt.scatter(y_test_np, Var_to_nparray(output_test));\n",
        "plt.plot([np.min(y_test_np), np.max(y_test_np)], [np.min(y_test_np), np.max(y_test_np)], color='k');\n",
        "plt.xlabel(\"y\");\n",
        "plt.ylabel(\"$\\hat{y}$\");\n",
        "plt.title(\"Model prediction vs real in the test set, the close to the line the better\")\n",
        "plt.grid(True);\n",
        "plt.axis('equal');\n",
        "plt.tight_layout();\n",
        "\n",
        "Loss_test = squared_loss(y_test, forward(x_test, NN))\n",
        "\n",
        "print(\"Test loss:  {:4.3f}\".format(Loss_test.v))"
      ]
    },
    {
      "cell_type": "code",
      "execution_count": 234,
      "metadata": {
        "colab": {
          "base_uri": "https://localhost:8080/",
          "height": 449
        },
        "id": "ODi0WlmQFtIh",
        "outputId": "96fd6057-8491-4161-d07e-6e5ab3d0c92a"
      },
      "outputs": [
        {
          "output_type": "display_data",
          "data": {
            "text/plain": [
              "<Figure size 640x480 with 1 Axes>"
            ],
            "image/png": "[encoded data removed]"
          },
          "metadata": {}
        }
      ],
      "source": [
        "x_test_np = Var_to_nparray(x_test)\n",
        "x_train_np = Var_to_nparray(x_train)\n",
        "y_train_np = Var_to_nparray(y_train)\n",
        "if D1:\n",
        "    plt.scatter(x_train_np, y_train_np, label=\"train data\");\n",
        "    plt.scatter(x_test_np, Var_to_nparray(output_test), label=\"test prediction\");\n",
        "    plt.scatter(x_test_np, y_test_np, label=\"test data\");\n",
        "    plt.legend();\n",
        "    plt.xlabel(\"x\");\n",
        "    plt.ylabel(\"y\");\n",
        "else:\n",
        "    plt.scatter(x_train_np[:,1], y_train, label=\"train data\");\n",
        "    plt.scatter(x_test_np[:,1], Var_to_nparray(output_test), label=\"test data prediction\");\n",
        "    plt.scatter(x_test_np[:,1], y_test_np, label=\"test data\");\n",
        "    plt.legend();\n",
        "    plt.xlabel(\"x\");\n",
        "    plt.ylabel(\"y\");"
      ]
    },
    {
      "cell_type": "markdown",
      "metadata": {
        "id": "zTBAmjsAFtIk"
      },
      "source": [
        "## Exercise l) Show overfitting, underfitting and just right fitting\n",
        "\n",
        "Vary the architecture and other things to show clear signs of overfitting (=training loss significantly lower than test loss) and underfitting (=not fitting enoung to training data so that test performance is also hurt).\n",
        "\n",
        "See also if you can get a good compromise which leads to a low validation loss.\n",
        "\n",
        "For this problem do you see any big difference between validation and test loss? The answer here will probably be no. Discuss cases where it is important to keep the two separate.\n",
        "\n",
        "_Insert written answer here._\n"
      ]
    },
    {
      "cell_type": "code",
      "execution_count": 236,
      "metadata": {
        "id": "tQZCn2dxFtIl"
      },
      "outputs": [],
      "source": [
        "# Insert your code for getting overfitting, underfitting and just right fitting\n",
        "\n",
        "def train_and_print_loss(NN, EPOCHS, LEARN_R, x_train, y_train, x_validation, y_validation):\n",
        "  train_loss = []\n",
        "  val_loss = []\n",
        "\n",
        "  for e in range(EPOCHS):\n",
        "\n",
        "      # Forward pass and loss computation\n",
        "      Loss = squared_loss(y_train, forward(x_train, NN))\n",
        "\n",
        "      # Backward pass\n",
        "      Loss.backward()\n",
        "\n",
        "      # gradient descent update\n",
        "      update_parameters(parameters(NN), LEARN_R)\n",
        "      zero_gradients(parameters(NN))\n",
        "\n",
        "      # Training loss\n",
        "      train_loss.append(Loss.v)\n",
        "\n",
        "      # Validation\n",
        "      Loss_validation = squared_loss(y_validation, forward(x_validation, NN))\n",
        "      val_loss.append(Loss_validation.v)\n",
        "\n",
        "      if e%10==0:\n",
        "          print(\"{:4d}\".format(e),\n",
        "                \"({:5.2f}%)\".format(e/EPOCHS*100),\n",
        "                \"Train loss: {:4.3f} \\t Validation loss: {:4.3f}\".format(train_loss[-1], val_loss[-1]))\n",
        "\n",
        "  return train_loss, val_loss"
      ]
    },
    {
      "cell_type": "markdown",
      "source": [
        "Overfitting (running this takes a lot of time)"
      ],
      "metadata": {
        "id": "vs9n4ILDS61s"
      }
    },
    {
      "cell_type": "code",
      "source": [
        "\n",
        "NN = [\n",
        "    DenseLayer(1, 15, lambda x: x.relu()),\n",
        "    DenseLayer(15, 8, lambda x: x.tanh()),\n",
        "    DenseLayer(8, 2, lambda x: x.tanh()),\n",
        "    DenseLayer(2, 1, lambda x: x.identity())\n",
        "]\n",
        "\n",
        "EPOCHS = 200\n",
        "LEARN_R = 1e-3\n",
        "\n",
        "train_loss, val_loss = train_and_print_loss(NN, EPOCHS, LEARN_R, x_train[:40], y_train[:40], x_validation, y_validation)"
      ],
      "metadata": {
        "colab": {
          "base_uri": "https://localhost:8080/"
        },
        "id": "TiAl7q1fS52O",
        "outputId": "02984fde-82b9-4781-81fd-ec2a69feae81"
      },
      "execution_count": 238,
      "outputs": [
        {
          "output_type": "stream",
          "name": "stdout",
          "text": [
            "   0 ( 0.00%) Train loss: 35.730 \t Validation loss: 107.570\n",
            "  10 ( 5.00%) Train loss: 35.356 \t Validation loss: 105.922\n",
            "  20 (10.00%) Train loss: 35.278 \t Validation loss: 105.397\n",
            "  30 (15.00%) Train loss: 35.256 \t Validation loss: 105.194\n",
            "  40 (20.00%) Train loss: 35.244 \t Validation loss: 105.098\n",
            "  50 (25.00%) Train loss: 35.233 \t Validation loss: 105.043\n",
            "  60 (30.00%) Train loss: 35.223 \t Validation loss: 105.003\n",
            "  70 (35.00%) Train loss: 35.211 \t Validation loss: 104.968\n",
            "  80 (40.00%) Train loss: 35.199 \t Validation loss: 104.932\n",
            "  90 (45.00%) Train loss: 35.184 \t Validation loss: 104.893\n",
            " 100 (50.00%) Train loss: 35.167 \t Validation loss: 104.848\n",
            " 110 (55.00%) Train loss: 35.147 \t Validation loss: 104.794\n",
            " 120 (60.00%) Train loss: 35.123 \t Validation loss: 104.730\n",
            " 130 (65.00%) Train loss: 35.093 \t Validation loss: 104.650\n",
            " 140 (70.00%) Train loss: 35.055 \t Validation loss: 104.551\n",
            " 150 (75.00%) Train loss: 35.008 \t Validation loss: 104.424\n",
            " 160 (80.00%) Train loss: 34.946 \t Validation loss: 104.259\n",
            " 170 (85.00%) Train loss: 34.865 \t Validation loss: 104.041\n",
            " 180 (90.00%) Train loss: 34.755 \t Validation loss: 103.745\n",
            " 190 (95.00%) Train loss: 34.602 \t Validation loss: 103.330\n"
          ]
        }
      ]
    },
    {
      "cell_type": "markdown",
      "source": [
        "Underfitting"
      ],
      "metadata": {
        "id": "8Y2gMkj9TVC8"
      }
    },
    {
      "cell_type": "code",
      "source": [
        "NN = [\n",
        "    DenseLayer(1, 2, lambda x: x.relu()),\n",
        "    DenseLayer(2, 1, lambda x: x.relu())\n",
        "]\n",
        "\n",
        "EPOCHS = 200\n",
        "LEARN_R = 2e-3\n",
        "\n",
        "\n",
        "train_loss, val_loss = train_and_print_loss(NN, EPOCHS, LEARN_R, x_train, y_train, x_validation, y_validation)"
      ],
      "metadata": {
        "colab": {
          "base_uri": "https://localhost:8080/"
        },
        "id": "NvO3Bv_ATLgw",
        "outputId": "f2d50ce0-7fe9-417a-96ef-d2cd44ab5fe1"
      },
      "execution_count": 239,
      "outputs": [
        {
          "output_type": "stream",
          "name": "stdout",
          "text": [
            "   0 ( 0.00%) Train loss: 105.356 \t Validation loss: 107.757\n",
            "  10 ( 5.00%) Train loss: 105.000 \t Validation loss: 107.757\n",
            "  20 (10.00%) Train loss: 105.000 \t Validation loss: 107.757\n",
            "  30 (15.00%) Train loss: 105.000 \t Validation loss: 107.757\n",
            "  40 (20.00%) Train loss: 105.000 \t Validation loss: 107.757\n",
            "  50 (25.00%) Train loss: 105.000 \t Validation loss: 107.757\n",
            "  60 (30.00%) Train loss: 105.000 \t Validation loss: 107.757\n",
            "  70 (35.00%) Train loss: 105.000 \t Validation loss: 107.757\n",
            "  80 (40.00%) Train loss: 105.000 \t Validation loss: 107.757\n",
            "  90 (45.00%) Train loss: 105.000 \t Validation loss: 107.757\n",
            " 100 (50.00%) Train loss: 105.000 \t Validation loss: 107.757\n",
            " 110 (55.00%) Train loss: 105.000 \t Validation loss: 107.757\n",
            " 120 (60.00%) Train loss: 105.000 \t Validation loss: 107.757\n",
            " 130 (65.00%) Train loss: 105.000 \t Validation loss: 107.757\n",
            " 140 (70.00%) Train loss: 105.000 \t Validation loss: 107.757\n",
            " 150 (75.00%) Train loss: 105.000 \t Validation loss: 107.757\n",
            " 160 (80.00%) Train loss: 105.000 \t Validation loss: 107.757\n",
            " 170 (85.00%) Train loss: 105.000 \t Validation loss: 107.757\n",
            " 180 (90.00%) Train loss: 105.000 \t Validation loss: 107.757\n",
            " 190 (95.00%) Train loss: 105.000 \t Validation loss: 107.757\n"
          ]
        }
      ]
    },
    {
      "cell_type": "markdown",
      "source": [
        "Optimized Neural Network"
      ],
      "metadata": {
        "id": "5_Bg5nItTZ3b"
      }
    },
    {
      "cell_type": "code",
      "source": [
        "\n",
        "NN = [\n",
        "    DenseLayer(1, 2, lambda x: x.relu()),\n",
        "    DenseLayer(2, 1, lambda x: x.identity())\n",
        "]\n",
        "\n",
        "EPOCHS = 200\n",
        "LEARN_R = 2e-3\n",
        "\n",
        "\n",
        "train_loss, val_loss = train_and_print_loss(NN, EPOCHS, LEARN_R, x_train, y_train, x_validation, y_validation)"
      ],
      "metadata": {
        "colab": {
          "base_uri": "https://localhost:8080/"
        },
        "id": "6Qu6v-feTY6J",
        "outputId": "59332de1-6c22-4faa-9fc6-6db201eb2bc0"
      },
      "execution_count": 240,
      "outputs": [
        {
          "output_type": "stream",
          "name": "stdout",
          "text": [
            "   0 ( 0.00%) Train loss: 105.510 \t Validation loss: 107.824\n",
            "  10 ( 5.00%) Train loss: 96.294 \t Validation loss: 92.746\n",
            "  20 (10.00%) Train loss: 28.751 \t Validation loss: 22.702\n",
            "  30 (15.00%) Train loss: 20.109 \t Validation loss: 15.742\n",
            "  40 (20.00%) Train loss: 15.808 \t Validation loss: 12.399\n",
            "  50 (25.00%) Train loss: 13.324 \t Validation loss: 10.450\n",
            "  60 (30.00%) Train loss: 12.568 \t Validation loss: 9.798\n",
            "  70 (35.00%) Train loss: 12.266 \t Validation loss: 9.439\n",
            "  80 (40.00%) Train loss: 12.148 \t Validation loss: 9.261\n",
            "  90 (45.00%) Train loss: 12.081 \t Validation loss: 9.180\n",
            " 100 (50.00%) Train loss: 12.057 \t Validation loss: 9.096\n",
            " 110 (55.00%) Train loss: 12.050 \t Validation loss: 9.062\n",
            " 120 (60.00%) Train loss: 12.047 \t Validation loss: 9.056\n",
            " 130 (65.00%) Train loss: 12.045 \t Validation loss: 9.051\n",
            " 140 (70.00%) Train loss: 12.044 \t Validation loss: 9.046\n",
            " 150 (75.00%) Train loss: 12.042 \t Validation loss: 9.042\n",
            " 160 (80.00%) Train loss: 12.037 \t Validation loss: 9.043\n",
            " 170 (85.00%) Train loss: 12.034 \t Validation loss: 9.034\n",
            " 180 (90.00%) Train loss: 12.033 \t Validation loss: 9.031\n",
            " 190 (95.00%) Train loss: 12.032 \t Validation loss: 9.024\n"
          ]
        }
      ]
    },
    {
      "cell_type": "markdown",
      "metadata": {
        "id": "fYPZP-eTFtIo"
      },
      "source": [
        "# Next steps - classification\n",
        "\n",
        "It is straight forward to extend what we have done to classification.\n",
        "\n",
        "For numerical stability it is better to make softmax and cross-entropy as one function so we write the cross entropy loss as a function of the logits we talked about last week.\n",
        "\n",
        "Next week we will see how to perform classification in PyTorch."
      ]
    },
    {
      "cell_type": "markdown",
      "metadata": {
        "id": "qsVPul3QFtIo"
      },
      "source": [
        "## Exercise m) optional - Implement backpropagation for classification\n",
        "\n",
        "Should be possible with very few lines of code. :-)"
      ]
    },
    {
      "cell_type": "code",
      "execution_count": 209,
      "metadata": {
        "id": "oC8QrI2tFtIp"
      },
      "outputs": [],
      "source": [
        "# Just add code."
      ]
    },
    {
      "cell_type": "markdown",
      "metadata": {
        "id": "APqhJv3tta1O"
      },
      "source": [
        "## Exercise n) optional - Introduce a NeuralNetwork class\n",
        "\n",
        "The functions we applied on the neural network (parameters, update_parameters and zero_gradients) can more naturally be included as methods in a NeuralNetwork class. Make such a class and modify the code to use it."
      ]
    },
    {
      "cell_type": "code",
      "execution_count": 210,
      "metadata": {
        "id": "Dqfnor1ouMLq"
      },
      "outputs": [],
      "source": [
        "# just add some code"
      ]
    }
  ],
  "metadata": {
    "anaconda-cloud": {},
    "colab": {
      "collapsed_sections": [
        "jpIZPBpNI0pO",
        "qsVPul3QFtIo",
        "APqhJv3tta1O"
      ],
      "provenance": []
    },
    "kernelspec": {
      "display_name": "Python 3",
      "language": "python",
      "name": "python3"
    },
    "language_info": {
      "codemirror_mode": {
        "name": "ipython",
        "version": 3
      },
      "file_extension": ".py",
      "mimetype": "text/x-python",
      "name": "python",
      "nbconvert_exporter": "python",
      "pygments_lexer": "ipython3",
      "version": "3.9.12"
    }
  },
  "nbformat": 4,
  "nbformat_minor": 0
}